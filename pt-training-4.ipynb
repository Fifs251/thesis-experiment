{
 "cells": [
  {
   "cell_type": "code",
   "execution_count": 1,
   "id": "7c5c0fbb",
   "metadata": {
    "execution": {
     "iopub.execute_input": "2023-10-08T20:15:51.682806Z",
     "iopub.status.busy": "2023-10-08T20:15:51.681682Z",
     "iopub.status.idle": "2023-10-08T20:15:56.119728Z",
     "shell.execute_reply": "2023-10-08T20:15:56.118656Z"
    },
    "id": "A9YyhPbclOma",
    "papermill": {
     "duration": 4.452851,
     "end_time": "2023-10-08T20:15:56.122239",
     "exception": false,
     "start_time": "2023-10-08T20:15:51.669388",
     "status": "completed"
    },
    "tags": []
   },
   "outputs": [],
   "source": [
    "import torch\n",
    "import torch.nn as nn\n",
    "import torch.nn.functional as F\n",
    "import torch.optim as optim\n",
    "import torchvision\n",
    "import torchvision.transforms as transforms\n",
    "import datetime\n",
    "from datetime import datetime as dtm\n",
    "import matplotlib.pyplot as plt\n",
    "from torch.utils.data import Dataset, DataLoader\n",
    "import numpy as np\n",
    "import pandas as pd\n",
    "import math\n",
    "from torch.utils.data import random_split\n",
    "import time\n",
    "from torch.utils.tensorboard import SummaryWriter\n",
    "import os\n",
    "import shutil\n",
    "from IPython.display import FileLink\n",
    "from sklearn.metrics import confusion_matrix, precision_score, recall_score\n",
    "import seaborn as sn"
   ]
  },
  {
   "cell_type": "code",
   "execution_count": 2,
   "id": "8fef4836",
   "metadata": {
    "execution": {
     "iopub.execute_input": "2023-10-08T20:15:56.141976Z",
     "iopub.status.busy": "2023-10-08T20:15:56.141510Z",
     "iopub.status.idle": "2023-10-08T20:15:56.146995Z",
     "shell.execute_reply": "2023-10-08T20:15:56.145887Z"
    },
    "id": "C1Dp4vY9jmWG",
    "papermill": {
     "duration": 0.01742,
     "end_time": "2023-10-08T20:15:56.148989",
     "exception": false,
     "start_time": "2023-10-08T20:15:56.131569",
     "status": "completed"
    },
    "tags": []
   },
   "outputs": [],
   "source": [
    "myTransform = transforms.Compose([\n",
    "    #comment out resize to use SimpleNet\n",
    "    transforms.Resize((227,227)),\n",
    "    \n",
    "    #transforms.CenterCrop(224),\n",
    "    transforms.ToTensor(),\n",
    "    #transforms.Normalize(mean=[0.485, 0.456, 0.406], std=[0.229, 0.224, 0.225])\n",
    "    transforms.Normalize(mean=[0.5, 0.5, 0.5], std=[0.5, 0.5, 0.5])\n",
    "])"
   ]
  },
  {
   "cell_type": "markdown",
   "id": "2283d94f",
   "metadata": {
    "papermill": {
     "duration": 0.008285,
     "end_time": "2023-10-08T20:15:56.165665",
     "exception": false,
     "start_time": "2023-10-08T20:15:56.157380",
     "status": "completed"
    },
    "tags": []
   },
   "source": [
    "### Neural Network Classes"
   ]
  },
  {
   "cell_type": "code",
   "execution_count": 3,
   "id": "2286124c",
   "metadata": {
    "execution": {
     "iopub.execute_input": "2023-10-08T20:15:56.185890Z",
     "iopub.status.busy": "2023-10-08T20:15:56.184970Z",
     "iopub.status.idle": "2023-10-08T20:15:56.194994Z",
     "shell.execute_reply": "2023-10-08T20:15:56.194020Z"
    },
    "id": "bxOzb9yUva2J",
    "papermill": {
     "duration": 0.021635,
     "end_time": "2023-10-08T20:15:56.197017",
     "exception": false,
     "start_time": "2023-10-08T20:15:56.175382",
     "status": "completed"
    },
    "tags": []
   },
   "outputs": [],
   "source": [
    "class AlexNet(nn.Module):\n",
    "    def __init__(self, num_classes: int = 100, dropout: float = 0.5):\n",
    "        super().__init__()\n",
    "        self.features = nn.Sequential(\n",
    "                nn.Conv2d(3, 64, kernel_size=11, stride=4, padding=2),\n",
    "                nn.ReLU(inplace=True),\n",
    "                nn.MaxPool2d(kernel_size=3, stride=2),\n",
    "                nn.Conv2d(64, 192, kernel_size=5, padding=2),\n",
    "                nn.ReLU(inplace=True),\n",
    "                nn.MaxPool2d(kernel_size=3, stride=2),\n",
    "                nn.Conv2d(192, 384, kernel_size=3, padding=1),\n",
    "                nn.ReLU(inplace=True),\n",
    "                nn.Conv2d(384, 256, kernel_size=3, padding=1),\n",
    "                nn.ReLU(inplace=True),\n",
    "                nn.Conv2d(256, 256, kernel_size=3, padding=1),\n",
    "                nn.ReLU(inplace=True),\n",
    "                nn.MaxPool2d(kernel_size=3, stride=2),\n",
    "            )\n",
    "        self.avgpool = nn.AdaptiveAvgPool2d((6, 6))\n",
    "        self.classifier = nn.Sequential(\n",
    "                nn.Dropout(p=dropout),\n",
    "                nn.Linear(256 * 6 * 6, 4096),\n",
    "                nn.ReLU(inplace=True),\n",
    "                nn.Dropout(p=dropout),\n",
    "                nn.Linear(4096, 1024),\n",
    "                nn.ReLU(inplace=True),\n",
    "                nn.Linear(1024, num_classes),\n",
    "            )\n",
    "\n",
    "    def forward(self, x):\n",
    "        x = self.features(x)\n",
    "        x = self.avgpool(x)\n",
    "        x = torch.flatten(x, 1)\n",
    "        x = self.classifier(x)\n",
    "        return x"
   ]
  },
  {
   "cell_type": "code",
   "execution_count": 4,
   "id": "daf0365c",
   "metadata": {
    "execution": {
     "iopub.execute_input": "2023-10-08T20:15:56.216219Z",
     "iopub.status.busy": "2023-10-08T20:15:56.215535Z",
     "iopub.status.idle": "2023-10-08T20:15:56.225723Z",
     "shell.execute_reply": "2023-10-08T20:15:56.224733Z"
    },
    "papermill": {
     "duration": 0.0222,
     "end_time": "2023-10-08T20:15:56.227789",
     "exception": false,
     "start_time": "2023-10-08T20:15:56.205589",
     "status": "completed"
    },
    "tags": []
   },
   "outputs": [],
   "source": [
    "class AlexNet_mod(nn.Module):\n",
    "    def __init__(self, num_classes: int = 100, dropout: float = 0.5):\n",
    "        super().__init__()\n",
    "        self.features = nn.Sequential(\n",
    "                nn.Conv2d(3, 64, kernel_size=11, stride=4, padding=2),\n",
    "                nn.ReLU(inplace=True),\n",
    "                nn.MaxPool2d(kernel_size=3, stride=2),\n",
    "                nn.Conv2d(64, 192, kernel_size=5, padding=2),\n",
    "                nn.ReLU(inplace=True),\n",
    "                nn.MaxPool2d(kernel_size=3, stride=2),\n",
    "                nn.Conv2d(192, 384, kernel_size=3, padding=1),\n",
    "                nn.ReLU(inplace=True),\n",
    "                nn.Conv2d(384, 256, kernel_size=3, padding=1),\n",
    "                nn.ReLU(inplace=True),\n",
    "                nn.Conv2d(256, 256, kernel_size=3, padding=1),\n",
    "                nn.ReLU(inplace=True),\n",
    "                nn.MaxPool2d(kernel_size=3, stride=2),\n",
    "            )\n",
    "        self.avgpool = nn.AdaptiveAvgPool2d((6, 6))\n",
    "        self.classifier = nn.Sequential(\n",
    "                nn.Dropout(p=dropout),\n",
    "                nn.Linear(256 * 6 * 6, 4096),\n",
    "                nn.ReLU(inplace=True),\n",
    "                nn.Dropout(p=dropout),\n",
    "                nn.Linear(4096, 1024),\n",
    "                nn.Sigmoid(),\n",
    "                nn.Linear(1024, num_classes),\n",
    "            )\n",
    "\n",
    "    def forward(self, x):\n",
    "        x = self.features(x)\n",
    "        x = self.avgpool(x)\n",
    "        x = torch.flatten(x, 1)\n",
    "        x = self.classifier(x)\n",
    "        return x"
   ]
  },
  {
   "cell_type": "code",
   "execution_count": 5,
   "id": "a1395aa6",
   "metadata": {
    "execution": {
     "iopub.execute_input": "2023-10-08T20:15:56.247201Z",
     "iopub.status.busy": "2023-10-08T20:15:56.246424Z",
     "iopub.status.idle": "2023-10-08T20:15:56.254007Z",
     "shell.execute_reply": "2023-10-08T20:15:56.253044Z"
    },
    "papermill": {
     "duration": 0.019418,
     "end_time": "2023-10-08T20:15:56.255993",
     "exception": false,
     "start_time": "2023-10-08T20:15:56.236575",
     "status": "completed"
    },
    "tags": []
   },
   "outputs": [],
   "source": [
    "class SimpleNet(nn.Module):\n",
    "    def __init__(self):\n",
    "        super().__init__()\n",
    "        self.conv1 = nn.Conv2d(3, 6, 5)\n",
    "        self.pool = nn.MaxPool2d(2, 2)\n",
    "        self.conv2 = nn.Conv2d(6, 16, 5)\n",
    "        self.fc1 = nn.Linear(16 * 5 * 5, 120)\n",
    "        self.fc2 = nn.Linear(120, 84)\n",
    "        self.fc3 = nn.Linear(84, 100)\n",
    "\n",
    "    def forward(self, x):\n",
    "        x = self.pool(F.relu(self.conv1(x)))\n",
    "        x = self.pool(F.relu(self.conv2(x)))\n",
    "        x = torch.flatten(x, 1) # flatten all dimensions except batch\n",
    "        x = F.relu(self.fc1(x))\n",
    "        x = F.relu(self.fc2(x))\n",
    "        x = self.fc3(x)\n",
    "        return x"
   ]
  },
  {
   "cell_type": "code",
   "execution_count": 6,
   "id": "10e699e4",
   "metadata": {
    "execution": {
     "iopub.execute_input": "2023-10-08T20:15:56.275066Z",
     "iopub.status.busy": "2023-10-08T20:15:56.274256Z",
     "iopub.status.idle": "2023-10-08T20:15:56.281900Z",
     "shell.execute_reply": "2023-10-08T20:15:56.281016Z"
    },
    "papermill": {
     "duration": 0.019157,
     "end_time": "2023-10-08T20:15:56.283904",
     "exception": false,
     "start_time": "2023-10-08T20:15:56.264747",
     "status": "completed"
    },
    "tags": []
   },
   "outputs": [],
   "source": [
    "class SimpleNet_mod(nn.Module):\n",
    "    def __init__(self):\n",
    "        super().__init__()\n",
    "        self.conv1 = nn.Conv2d(3, 6, 5)\n",
    "        self.pool = nn.MaxPool2d(2, 2)\n",
    "        self.conv2 = nn.Conv2d(6, 16, 5)\n",
    "        self.fc1 = nn.Linear(16 * 5 * 5, 120)\n",
    "        self.fc2 = nn.Linear(120, 84)\n",
    "        self.fc3 = nn.Linear(84, 100)\n",
    "\n",
    "    def forward(self, x):\n",
    "        x = self.pool(F.relu(self.conv1(x)))\n",
    "        x = self.pool(F.relu(self.conv2(x)))\n",
    "        x = torch.flatten(x, 1) # flatten all dimensions except batch\n",
    "        x = F.relu(self.fc1(x))\n",
    "        x = torch.sigmoid(self.fc2(x))\n",
    "        x = self.fc3(x)\n",
    "        return x"
   ]
  },
  {
   "cell_type": "markdown",
   "id": "ece4c964",
   "metadata": {
    "papermill": {
     "duration": 0.008628,
     "end_time": "2023-10-08T20:15:56.301520",
     "exception": false,
     "start_time": "2023-10-08T20:15:56.292892",
     "status": "completed"
    },
    "tags": []
   },
   "source": [
    "### Argument Object"
   ]
  },
  {
   "cell_type": "code",
   "execution_count": 7,
   "id": "4f96ccf8",
   "metadata": {
    "execution": {
     "iopub.execute_input": "2023-10-08T20:15:56.320684Z",
     "iopub.status.busy": "2023-10-08T20:15:56.319836Z",
     "iopub.status.idle": "2023-10-08T20:15:56.327182Z",
     "shell.execute_reply": "2023-10-08T20:15:56.326174Z"
    },
    "id": "zvgV3CsLdkdL",
    "outputId": "bfdaf60b-f4d9-4074-a7ab-d38cea2002db",
    "papermill": {
     "duration": 0.019153,
     "end_time": "2023-10-08T20:15:56.329166",
     "exception": false,
     "start_time": "2023-10-08T20:15:56.310013",
     "status": "completed"
    },
    "tags": []
   },
   "outputs": [
    {
     "name": "stdout",
     "output_type": "stream",
     "text": [
      "{'max_epochs': 50, 'patience': 3, 'device': 'cuda', 'seed': 42, 'lr': 0.01, 'momentum': 0.7, 'batch_size': 32, 'n_classes': 100, 'dropout': 0.5, 'log_interval': 10}\n"
     ]
    }
   ],
   "source": [
    "class ArgObj(object):\n",
    "    _defaults = {\n",
    "        \"max_epochs\": 50,\n",
    "        \"patience\": 3,\n",
    "        \"device\": \"cuda\",\n",
    "        \"seed\": 42,\n",
    "        \"lr\": 0.01,\n",
    "        \"momentum\": 0.7,\n",
    "        \"batch_size\": 32,\n",
    "        \"n_classes\": 100,\n",
    "        \"dropout\": 0.5,\n",
    "        \"log_interval\": 10,\n",
    "    }\n",
    "\n",
    "    def __init__(self, **kwargs):\n",
    "        self.__dict__.update(self._defaults)\n",
    "        self.__dict__.update(kwargs)\n",
    "\n",
    "\n",
    "my_args = ArgObj()\n",
    "\n",
    "print(vars(my_args))"
   ]
  },
  {
   "cell_type": "markdown",
   "id": "4bc582a5",
   "metadata": {
    "papermill": {
     "duration": 0.008621,
     "end_time": "2023-10-08T20:15:56.346544",
     "exception": false,
     "start_time": "2023-10-08T20:15:56.337923",
     "status": "completed"
    },
    "tags": []
   },
   "source": [
    "### Dataset, Loaders, Split"
   ]
  },
  {
   "cell_type": "code",
   "execution_count": null,
   "id": "023687c6",
   "metadata": {
    "papermill": {
     "duration": 0.008579,
     "end_time": "2023-10-08T20:15:56.363835",
     "exception": false,
     "start_time": "2023-10-08T20:15:56.355256",
     "status": "completed"
    },
    "tags": []
   },
   "outputs": [],
   "source": []
  },
  {
   "cell_type": "code",
   "execution_count": 8,
   "id": "fc346a2d",
   "metadata": {
    "execution": {
     "iopub.execute_input": "2023-10-08T20:15:56.383123Z",
     "iopub.status.busy": "2023-10-08T20:15:56.382242Z",
     "iopub.status.idle": "2023-10-08T20:16:10.652792Z",
     "shell.execute_reply": "2023-10-08T20:16:10.651317Z"
    },
    "id": "TldHC5MtaN15",
    "outputId": "487ac482-d9a5-4d5c-8292-9db10af7df55",
    "papermill": {
     "duration": 14.282545,
     "end_time": "2023-10-08T20:16:10.654964",
     "exception": false,
     "start_time": "2023-10-08T20:15:56.372419",
     "status": "completed"
    },
    "tags": []
   },
   "outputs": [
    {
     "name": "stdout",
     "output_type": "stream",
     "text": [
      "Downloading https://www.cs.toronto.edu/~kriz/cifar-100-python.tar.gz to ./root/cifar-100-python.tar.gz\n"
     ]
    },
    {
     "data": {
      "application/vnd.jupyter.widget-view+json": {
       "model_id": "a34a0d80fcd546249170975f56f2ee31",
       "version_major": 2,
       "version_minor": 0
      },
      "text/plain": [
       "  0%|          | 0/169001437 [00:00<?, ?it/s]"
      ]
     },
     "metadata": {},
     "output_type": "display_data"
    },
    {
     "name": "stdout",
     "output_type": "stream",
     "text": [
      "Extracting ./root/cifar-100-python.tar.gz to ./root\n",
      "Files already downloaded and verified\n",
      "torch.Size([32, 3, 227, 227]) torch.Size([32])\n"
     ]
    }
   ],
   "source": [
    "train_dataset = torchvision.datasets.CIFAR100(root='./root', train=True,\n",
    "                                              transform=myTransform, download=True)\n",
    "test_val_dataset = torchvision.datasets.CIFAR100(root='./root', train=False,\n",
    "                                              transform=myTransform, download=True) \n",
    "\n",
    "torch.manual_seed(my_args.seed)\n",
    "#do I need the generator?\n",
    "gnr = torch.Generator().manual_seed(my_args.seed)\n",
    "\n",
    "test_dataset, val_dataset = random_split(test_val_dataset, [0.5, 0.5], generator=gnr)\n",
    "\n",
    "train_loader = torch.utils.data.DataLoader(dataset=train_dataset, batch_size=my_args.batch_size, shuffle=True)\n",
    "\n",
    "test_loader = torch.utils.data.DataLoader(dataset=test_dataset, batch_size=my_args.batch_size, shuffle=False)\n",
    "\n",
    "val_loader = torch.utils.data.DataLoader(dataset=val_dataset, batch_size=my_args.batch_size, shuffle=False)\n",
    "\n",
    "examples = iter(train_loader)\n",
    "samples, labels = next(examples)\n",
    "print(samples.shape, labels.shape)"
   ]
  },
  {
   "cell_type": "markdown",
   "id": "152a768c",
   "metadata": {
    "papermill": {
     "duration": 0.008617,
     "end_time": "2023-10-08T20:16:10.672939",
     "exception": false,
     "start_time": "2023-10-08T20:16:10.664322",
     "status": "completed"
    },
    "tags": []
   },
   "source": [
    "### Class Hierarchy Management"
   ]
  },
  {
   "cell_type": "code",
   "execution_count": 9,
   "id": "a901b94c",
   "metadata": {
    "execution": {
     "iopub.execute_input": "2023-10-08T20:16:10.692030Z",
     "iopub.status.busy": "2023-10-08T20:16:10.691746Z",
     "iopub.status.idle": "2023-10-08T20:16:10.707879Z",
     "shell.execute_reply": "2023-10-08T20:16:10.706786Z"
    },
    "papermill": {
     "duration": 0.028025,
     "end_time": "2023-10-08T20:16:10.709779",
     "exception": false,
     "start_time": "2023-10-08T20:16:10.681754",
     "status": "completed"
    },
    "tags": []
   },
   "outputs": [],
   "source": [
    "def create_superclass(x):\n",
    "    fine_id_coarse_id = {0: 4, 1: 1, 2: 14, 3: 8, 4: 0, 5: 6, 6: 7, 7: 7, 8: 18, 9: 3, 10: 3, 11: 14, 12: 9, 13: 18, 14: 7, 15: 11, 16: 3, 17: 9, 18: 7, 19: 11, 20: 6, 21: 11, 22: 5, 23: 10, 24: 7, 25: 6, 26: 13, 27: 15, 28: 3, 29: 15, 30: 0,\n",
    "                         31: 11, 32: 1, 33: 10, 34: 12, 35: 14, 36: 16,\n",
    "                         37: 9, 38: 11, 39: 5, 40: 5, 41: 19, 42: 8, 43: 8, 44: 15, 45: 13, 46: 14, 47: 17, 48: 18, 49: 10, 50: 16, 51: 4, 52: 17, 53: 4, 54: 2, 55: 0, 56: 17, 57: 4, 58: 18, 59: 17, 60: 10, 61: 3, 62: 2, 63: 12, 64: 12, 65: 16,\n",
    "                         66: 12, 67: 1, 68: 9, 69: 19, 70: 2, 71: 10, 72: 0, 73: 1, 74: 16,\n",
    "                         75: 12, 76: 9, 77: 13, 78: 15, 79: 13, 80: 16, 81: 19, 82: 2, 83: 4, 84: 6, 85: 19, 86: 5, 87: 5, 88: 8, 89: 19, 90: 18, 91: 1, 92: 2, 93: 15, 94: 6, 95: 0, 96: 17, 97: 8, 98: 14, 99: 13}\n",
    "    return fine_id_coarse_id[x]\n",
    "\n",
    "\n",
    "v_create_superclass = np.vectorize(create_superclass)\n",
    "\n",
    "\n",
    "def create_ultraclass(x):\n",
    "    coarse_id_ultra_id = {0: 0, 1: 4, 2: 1, 3: 2, 4: 1, 5: 2, 6: 2, 7: 3, 8: 4, 9: 6, 10: 6, 11: 4, 12: 0, 13: 3, 14: 0, 15: 4, 16: 0, 17: 6, 18: 5, 19: 5}\n",
    "    return coarse_id_ultra_id[x]\n",
    "\n",
    "\n",
    "v_create_ultraclass = np.vectorize(create_ultraclass)\n",
    "\n",
    "\n",
    "def get_labels(idx, level='super'):\n",
    "    labels = {\n",
    "        'ultra': ['mammal', 'plant', 'household', 'invertebrates', 'other animal', 'vehicles', 'nature'],\n",
    "\n",
    "        'super': ['aquatic mammals', 'fish', 'flowers', 'food containers', 'fruit & vegetables',\n",
    "                  'household electrical device', 'household furniture', 'insects', 'large carnivores',\n",
    "                  'large man-made outdoor things', 'large natural outdoor scenes', 'large omnivores and herbivores',\n",
    "                  'medium-sized mammals', 'non-insect invertebrates', 'people', 'reptiles', 'small mammals', 'trees', 'vehicles 1', 'vehicles 2'\n",
    "                  ],\n",
    "        'sub': [\n",
    "            'apple', 'aquarium_fish', 'baby', 'bear', 'beaver', 'bed', 'bee', 'beetle',\n",
    "            'bicycle', 'bottle', 'bowl', 'boy', 'bridge', 'bus', 'butterfly', 'camel',\n",
    "            'can', 'castle', 'caterpillar', 'cattle', 'chair', 'chimpanzee', 'clock',\n",
    "            'cloud', 'cockroach', 'couch', 'crab', 'crocodile', 'cup', 'dinosaur',\n",
    "            'dolphin', 'elephant', 'flatfish', 'forest', 'fox', 'girl', 'hamster',\n",
    "            'house', 'kangaroo', 'keyboard', 'lamp', 'lawn_mower', 'leopard', 'lion',\n",
    "            'lizard', 'lobster', 'man', 'maple_tree', 'motorcycle', 'mountain', 'mouse',\n",
    "            'mushroom', 'oak_tree', 'orange', 'orchid', 'otter', 'palm_tree', 'pear',\n",
    "            'pickup_truck', 'pine_tree', 'plain', 'plate', 'poppy', 'porcupine',\n",
    "            'possum', 'rabbit', 'raccoon', 'ray', 'road', 'rocket', 'rose',\n",
    "            'sea', 'seal', 'shark', 'shrew', 'skunk', 'skyscraper', 'snail', 'snake',\n",
    "            'spider', 'squirrel', 'streetcar', 'sunflower', 'sweet_pepper', 'table',\n",
    "            'tank', 'telephone', 'television', 'tiger', 'tractor', 'train', 'trout',\n",
    "            'tulip', 'turtle', 'wardrobe', 'whale', 'willow_tree', 'wolf', 'woman',\n",
    "            'worm'\n",
    "        ]\n",
    "    }\n",
    "    return labels[level][idx]"
   ]
  },
  {
   "cell_type": "markdown",
   "id": "b4ce746a",
   "metadata": {
    "papermill": {
     "duration": 0.009679,
     "end_time": "2023-10-08T20:16:10.728775",
     "exception": false,
     "start_time": "2023-10-08T20:16:10.719096",
     "status": "completed"
    },
    "tags": []
   },
   "source": [
    "### Data Exploration"
   ]
  },
  {
   "cell_type": "code",
   "execution_count": 10,
   "id": "de8ba9aa",
   "metadata": {
    "execution": {
     "iopub.execute_input": "2023-10-08T20:16:10.750086Z",
     "iopub.status.busy": "2023-10-08T20:16:10.749761Z",
     "iopub.status.idle": "2023-10-08T20:16:10.816825Z",
     "shell.execute_reply": "2023-10-08T20:16:10.815521Z"
    },
    "papermill": {
     "duration": 0.07992,
     "end_time": "2023-10-08T20:16:10.818910",
     "exception": false,
     "start_time": "2023-10-08T20:16:10.738990",
     "status": "completed"
    },
    "tags": []
   },
   "outputs": [
    {
     "name": "stdout",
     "output_type": "stream",
     "text": [
      "tulip | flowers | plant | \n",
      "\n",
      "plain | large natural outdoor scenes | nature | \n",
      "\n",
      "lobster | non-insect invertebrates | invertebrates | \n",
      "\n",
      "telephone | household electrical device | household | \n",
      "\n",
      "shrew | small mammals | mammal | \n",
      "\n",
      "turtle | reptiles | other animal | \n",
      "\n",
      "pear | fruit & vegetables | plant | \n",
      "\n",
      "fox | medium-sized mammals | mammal | \n",
      "\n",
      "orchid | flowers | plant | \n",
      "\n",
      "cloud | large natural outdoor scenes | nature | \n",
      "\n"
     ]
    }
   ],
   "source": [
    "examples = iter(train_loader)\n",
    "samples, labels = next(examples)\n",
    "\n",
    "sup = v_create_superclass(labels)\n",
    "ult = v_create_ultraclass(sup)\n",
    "\n",
    "levels = [labels, sup, ult]\n",
    "level_names = [\"sub\", \"super\", \"ultra\"]\n",
    "\n",
    "for i in range(10):\n",
    "    for j in range(3):\n",
    "        a = levels[j][i]\n",
    "        print(get_labels(a, level=level_names[j]), end=\" | \")\n",
    "    print(\"\\n\")"
   ]
  },
  {
   "cell_type": "code",
   "execution_count": 11,
   "id": "eb3b2398",
   "metadata": {
    "execution": {
     "iopub.execute_input": "2023-10-08T20:16:10.839299Z",
     "iopub.status.busy": "2023-10-08T20:16:10.838369Z",
     "iopub.status.idle": "2023-10-08T20:16:10.847331Z",
     "shell.execute_reply": "2023-10-08T20:16:10.846186Z"
    },
    "papermill": {
     "duration": 0.021262,
     "end_time": "2023-10-08T20:16:10.849519",
     "exception": false,
     "start_time": "2023-10-08T20:16:10.828257",
     "status": "completed"
    },
    "tags": []
   },
   "outputs": [
    {
     "name": "stdout",
     "output_type": "stream",
     "text": [
      "beaver|aquatic mammals|mammal\n",
      "dolphin|aquatic mammals|mammal\n",
      "otter|aquatic mammals|mammal\n",
      "seal|aquatic mammals|mammal\n",
      "whale|aquatic mammals|mammal\n",
      "fox|medium-sized mammals|mammal\n",
      "porcupine|medium-sized mammals|mammal\n",
      "possum|medium-sized mammals|mammal\n",
      "raccoon|medium-sized mammals|mammal\n",
      "skunk|medium-sized mammals|mammal\n",
      "baby|people|mammal\n",
      "boy|people|mammal\n",
      "girl|people|mammal\n",
      "man|people|mammal\n",
      "woman|people|mammal\n",
      "hamster|small mammals|mammal\n",
      "mouse|small mammals|mammal\n",
      "rabbit|small mammals|mammal\n",
      "shrew|small mammals|mammal\n",
      "squirrel|small mammals|mammal\n",
      "orchid|flowers|plant\n",
      "poppy|flowers|plant\n",
      "rose|flowers|plant\n",
      "sunflower|flowers|plant\n",
      "tulip|flowers|plant\n",
      "apple|fruit & vegetables|plant\n",
      "mushroom|fruit & vegetables|plant\n",
      "orange|fruit & vegetables|plant\n",
      "pear|fruit & vegetables|plant\n",
      "sweet_pepper|fruit & vegetables|plant\n",
      "bottle|food containers|household\n",
      "bowl|food containers|household\n",
      "can|food containers|household\n",
      "cup|food containers|household\n",
      "plate|food containers|household\n",
      "clock|household electrical device|household\n",
      "keyboard|household electrical device|household\n",
      "lamp|household electrical device|household\n",
      "telephone|household electrical device|household\n",
      "television|household electrical device|household\n",
      "bed|household furniture|household\n",
      "chair|household furniture|household\n",
      "couch|household furniture|household\n",
      "table|household furniture|household\n",
      "wardrobe|household furniture|household\n",
      "bee|insects|invertebrates\n",
      "beetle|insects|invertebrates\n",
      "butterfly|insects|invertebrates\n",
      "caterpillar|insects|invertebrates\n",
      "cockroach|insects|invertebrates\n",
      "crab|non-insect invertebrates|invertebrates\n",
      "lobster|non-insect invertebrates|invertebrates\n",
      "snail|non-insect invertebrates|invertebrates\n",
      "spider|non-insect invertebrates|invertebrates\n",
      "worm|non-insect invertebrates|invertebrates\n",
      "aquarium_fish|fish|other animal\n",
      "flatfish|fish|other animal\n",
      "ray|fish|other animal\n",
      "shark|fish|other animal\n",
      "trout|fish|other animal\n",
      "bear|large carnivores|other animal\n",
      "leopard|large carnivores|other animal\n",
      "lion|large carnivores|other animal\n",
      "tiger|large carnivores|other animal\n",
      "wolf|large carnivores|other animal\n",
      "camel|large omnivores and herbivores|other animal\n",
      "cattle|large omnivores and herbivores|other animal\n",
      "chimpanzee|large omnivores and herbivores|other animal\n",
      "elephant|large omnivores and herbivores|other animal\n",
      "kangaroo|large omnivores and herbivores|other animal\n",
      "crocodile|reptiles|other animal\n",
      "dinosaur|reptiles|other animal\n",
      "lizard|reptiles|other animal\n",
      "snake|reptiles|other animal\n",
      "turtle|reptiles|other animal\n",
      "bicycle|vehicles 1|vehicles\n",
      "bus|vehicles 1|vehicles\n",
      "motorcycle|vehicles 1|vehicles\n",
      "pickup_truck|vehicles 1|vehicles\n",
      "train|vehicles 1|vehicles\n",
      "lawn_mower|vehicles 2|vehicles\n",
      "rocket|vehicles 2|vehicles\n",
      "streetcar|vehicles 2|vehicles\n",
      "tank|vehicles 2|vehicles\n",
      "tractor|vehicles 2|vehicles\n",
      "bridge|large man-made outdoor things|nature\n",
      "castle|large man-made outdoor things|nature\n",
      "house|large man-made outdoor things|nature\n",
      "road|large man-made outdoor things|nature\n",
      "skyscraper|large man-made outdoor things|nature\n",
      "cloud|large natural outdoor scenes|nature\n",
      "forest|large natural outdoor scenes|nature\n",
      "mountain|large natural outdoor scenes|nature\n",
      "plain|large natural outdoor scenes|nature\n",
      "sea|large natural outdoor scenes|nature\n",
      "maple_tree|trees|nature\n",
      "oak_tree|trees|nature\n",
      "palm_tree|trees|nature\n",
      "pine_tree|trees|nature\n",
      "willow_tree|trees|nature\n"
     ]
    }
   ],
   "source": [
    "labs = range(100)\n",
    "\n",
    "#sorted by index - ultra class first key, superclass second\n",
    "sorted_labels = sorted(labs, key= lambda x: (create_ultraclass(create_superclass(x)), create_superclass(x)))\n",
    "\n",
    "for i in sorted_labels:\n",
    "    print(f\"{get_labels(i, 'sub')}|{get_labels(create_superclass(i), 'super')}|{get_labels(create_ultraclass(create_superclass(i)), 'ultra')}\")"
   ]
  },
  {
   "cell_type": "code",
   "execution_count": 12,
   "id": "21c16d53",
   "metadata": {
    "execution": {
     "iopub.execute_input": "2023-10-08T20:16:10.869249Z",
     "iopub.status.busy": "2023-10-08T20:16:10.868933Z",
     "iopub.status.idle": "2023-10-08T20:16:10.877272Z",
     "shell.execute_reply": "2023-10-08T20:16:10.875618Z"
    },
    "papermill": {
     "duration": 0.020239,
     "end_time": "2023-10-08T20:16:10.879282",
     "exception": false,
     "start_time": "2023-10-08T20:16:10.859043",
     "status": "completed"
    },
    "tags": []
   },
   "outputs": [
    {
     "name": "stdout",
     "output_type": "stream",
     "text": [
      "mammal     \t         20\n",
      "____________________________\n",
      "plant      \t         10\n",
      "____________________________\n",
      "household  \t         15\n",
      "____________________________\n",
      "invertebrates \t         10\n",
      "____________________________\n",
      "other animal \t         20\n",
      "____________________________\n",
      "vehicles   \t         10\n",
      "____________________________\n",
      "nature     \t         15\n",
      "____________________________\n"
     ]
    }
   ],
   "source": [
    "ult = v_create_ultraclass(v_create_superclass(sorted_labels))\n",
    "\n",
    "for i in np.unique(ult):\n",
    "    print(f'{get_labels(i, \"ultra\"):<10} \\t {list(ult).count(i):>10}\\n____________________________')"
   ]
  },
  {
   "cell_type": "code",
   "execution_count": 13,
   "id": "fd2e64dc",
   "metadata": {
    "execution": {
     "iopub.execute_input": "2023-10-08T20:16:10.899733Z",
     "iopub.status.busy": "2023-10-08T20:16:10.898789Z",
     "iopub.status.idle": "2023-10-08T20:16:11.477968Z",
     "shell.execute_reply": "2023-10-08T20:16:11.477066Z"
    },
    "id": "kYLFopdnhHRh",
    "outputId": "f0a83751-783b-4d37-8315-bf1193f45479",
    "papermill": {
     "duration": 0.596616,
     "end_time": "2023-10-08T20:16:11.485187",
     "exception": false,
     "start_time": "2023-10-08T20:16:10.888571",
     "status": "completed"
    },
    "tags": []
   },
   "outputs": [
    {
     "data": {
      "image/png": "[encoded data removed]",
      "text/plain": [
       "<Figure size 640x480 with 1 Axes>"
      ]
     },
     "metadata": {},
     "output_type": "display_data"
    },
    {
     "name": "stdout",
     "output_type": "stream",
     "text": [
      "tulip | plain | lobster | telephone | shrew | turtle | pear  | fox  \n",
      "orchid | cloud | aquarium_fish | pear  | couch | bear  | hamster | lawn_mower\n",
      "camel | flatfish | apple | mushroom | bee   | tiger | clock | mountain\n",
      "sweet_pepper | road  | tank  | pine_tree | bowl  | tank  | otter | whale\n",
      "\n"
     ]
    }
   ],
   "source": [
    "def imshow(img):\n",
    "    img = img / 2 + 0.5     # unnormalize\n",
    "    npimg = img.numpy()\n",
    "    plt.imshow(np.transpose(npimg, (1, 2, 0)))\n",
    "    plt.show()\n",
    "\n",
    "# show images\n",
    "imshow(torchvision.utils.make_grid(samples))\n",
    "# print labels\n",
    "\n",
    "def line_break(x):\n",
    "    return [' | ', \"\\n\"][(x+1) % 8 == 0 and x>0]\n",
    "    \n",
    "print(''.join(f'{get_labels(labels[i], \"sub\"):5s}{line_break(i)}' for i in range(len(labels))))"
   ]
  },
  {
   "cell_type": "markdown",
   "id": "9fe440d3",
   "metadata": {
    "papermill": {
     "duration": 0.012422,
     "end_time": "2023-10-08T20:16:11.510157",
     "exception": false,
     "start_time": "2023-10-08T20:16:11.497735",
     "status": "completed"
    },
    "tags": []
   },
   "source": [
    "### Training 1 epoch, Test, Inference Functions"
   ]
  },
  {
   "cell_type": "code",
   "execution_count": 14,
   "id": "488fbda5",
   "metadata": {
    "execution": {
     "iopub.execute_input": "2023-10-08T20:16:11.539553Z",
     "iopub.status.busy": "2023-10-08T20:16:11.539253Z",
     "iopub.status.idle": "2023-10-08T20:16:11.543843Z",
     "shell.execute_reply": "2023-10-08T20:16:11.542814Z"
    },
    "id": "7MIrauh72_dg",
    "papermill": {
     "duration": 0.020277,
     "end_time": "2023-10-08T20:16:11.545820",
     "exception": false,
     "start_time": "2023-10-08T20:16:11.525543",
     "status": "completed"
    },
    "tags": []
   },
   "outputs": [],
   "source": [
    "criterion_mean = nn.CrossEntropyLoss(reduction='mean')\n",
    "criterion_sum = nn.CrossEntropyLoss(reduction='sum')"
   ]
  },
  {
   "cell_type": "code",
   "execution_count": 15,
   "id": "c93442ef",
   "metadata": {
    "execution": {
     "iopub.execute_input": "2023-10-08T20:16:11.572996Z",
     "iopub.status.busy": "2023-10-08T20:16:11.572725Z",
     "iopub.status.idle": "2023-10-08T20:16:11.584189Z",
     "shell.execute_reply": "2023-10-08T20:16:11.583170Z"
    },
    "id": "JFh1TuVGsEgD",
    "papermill": {
     "duration": 0.027432,
     "end_time": "2023-10-08T20:16:11.586117",
     "exception": false,
     "start_time": "2023-10-08T20:16:11.558685",
     "status": "completed"
    },
    "tags": []
   },
   "outputs": [],
   "source": [
    "def train_epoch_cnn(model, train_loader, optimizer, args):\n",
    "\n",
    "    model.train()  # set model to training mode (activate dropout layers for example)\n",
    "    t = time.time() # we measure the needed time\n",
    "    for batch_idx, (data, target) in enumerate(train_loader):  # iterate over training data\n",
    "        data, target = data.to(args.device), target.to(args.device)  # move data to device (GPU) if necessary\n",
    "        optimizer.zero_grad()  # reset optimizer\n",
    "        output = model(data)   # forward pass: calculate output of network for input\n",
    "        loss = criterion_mean(output, target)  # calculate loss\n",
    "        loss.backward()  # backward pass: calculate gradients using automatic diff. and backprop.\n",
    "        optimizer.step()  # udpate parameters of network using our optimizer\n",
    "        cur_time = time.time()\n",
    "        # print some outputs if we reached our logging intervall\n",
    "        if cur_time - t > args.log_interval or batch_idx == len(train_loader)-1:\n",
    "            print(f\"[{batch_idx * len(data):.0f}/{len(train_loader.dataset)} ({100. * batch_idx / len(train_loader):.0f}%)]\\tloss: {loss.item():.6f}, took {cur_time - t:.2f}s\")\n",
    "            t = cur_time\n",
    "\n",
    "def test_cnn(model, test_loader, args):\n",
    "\n",
    "    model.eval()  # set model to inference mode (deactivate dropout layers for example)\n",
    "    test_loss = 0  # init overall loss\n",
    "    correct = 0\n",
    "    total = 0\n",
    "    \n",
    "    with torch.no_grad():  # do not calculate gradients since we do not want to do updates\n",
    "        \n",
    "        for data, target in test_loader:  # iterate over test data\n",
    "            data, target = data.to(args.device), target.to(args.device)  # move data to device \n",
    "            output = model(data) # forward pass\n",
    "            # claculate loss and add it to our cumulative loss\n",
    "            test_loss += criterion_mean(output, target).item()\n",
    "            \n",
    "            _, predicted = torch.max(output.data, 1)\n",
    "            total += target.size(0)\n",
    "            correct += (predicted == target).sum().item()\n",
    "            \n",
    "    test_loss /= len(test_loader.dataset)  # calc mean loss\n",
    "    test_acc = (100 * correct / total)\n",
    "    \n",
    "    print('Average eval loss: {:.4f}'.format(test_loss, len(test_loader.dataset)))\n",
    "    print('Eval accuracy: {:.4f}%\\n'.format(test_acc))\n",
    "    return test_loss\n",
    "\n",
    "\n",
    "def inference_cnn(model, data, args):\n",
    "    model.eval()   # set model to inference mode\n",
    "    in_shape = data.shape\n",
    "    side = int((args.context - 1) / 2)\n",
    "    outlen = in_shape[0] - 2 * side\n",
    "    output = np.zeros((in_shape[0], args.out_num))\n",
    "    data = torch.from_numpy(data[None, :, :]) \n",
    "    data = data.to(args.device) # move input to device\n",
    "    with torch.no_grad(): # do not calculate gradients\n",
    "        for idx in range(outlen): # iterate over input data\n",
    "            # calculate output for input data (and move back from device)\n",
    "            output[idx+side, :] = model(data[:, idx:(idx + args.context), :])[0, :].cpu()\n",
    "    return output"
   ]
  },
  {
   "cell_type": "markdown",
   "id": "7176b25e",
   "metadata": {
    "papermill": {
     "duration": 0.012807,
     "end_time": "2023-10-08T20:16:11.613203",
     "exception": false,
     "start_time": "2023-10-08T20:16:11.600396",
     "status": "completed"
    },
    "tags": []
   },
   "source": [
    "## Training"
   ]
  },
  {
   "cell_type": "code",
   "execution_count": 16,
   "id": "db532398",
   "metadata": {
    "execution": {
     "iopub.execute_input": "2023-10-08T20:16:11.641432Z",
     "iopub.status.busy": "2023-10-08T20:16:11.641040Z",
     "iopub.status.idle": "2023-10-08T20:16:12.036829Z",
     "shell.execute_reply": "2023-10-08T20:16:12.035611Z"
    },
    "id": "YC9gv464zZsg",
    "papermill": {
     "duration": 0.412796,
     "end_time": "2023-10-08T20:16:12.039302",
     "exception": false,
     "start_time": "2023-10-08T20:16:11.626506",
     "status": "completed"
    },
    "tags": []
   },
   "outputs": [],
   "source": [
    "def train_cnn(smoke_test=False, args=my_args, model_arg=AlexNet(), name=\"undefined\", datekey=\"000101\", save=True, save_folder=\"/kaggle/working/models\", loss_limit=0.1):\n",
    "    \n",
    "    if smoke_test:\n",
    "        max_epochs = 2\n",
    "    else:\n",
    "        max_epochs = args.max_epochs\n",
    "    \n",
    "    torch.manual_seed(args.seed)\n",
    "    device = args.device\n",
    "    \n",
    "    model = model_arg.to(device)\n",
    "    \n",
    "    from torch.optim import SGD\n",
    "    optimizer = SGD(model.parameters(), lr=args.lr, momentum=args.momentum)\n",
    "    \n",
    "    #kwargs = {'num_workers': 2, 'pin_memory': True}\n",
    "    \n",
    "    best_valid_loss = 9999.\n",
    "    cur_patience = args.patience\n",
    "    print(f\"Training {name}#seed_{args.seed}\")\n",
    "    start_t = time.time()\n",
    "    \n",
    "    for epoch in range(1,max_epochs):\n",
    "        print(f\"Model: {name.capitalize()}\")\n",
    "        print(f\"Epoch: {epoch}\")\n",
    "        print(f\"Best validation loss: {best_valid_loss:.4f}\")\n",
    "        print(f\"Patience: {cur_patience}\")\n",
    "\n",
    "        train_epoch_cnn(model, train_loader, optimizer, args)\n",
    "        \n",
    "        cur_valid_loss = test_cnn(model, val_loader, args)\n",
    "        \n",
    "        if cur_valid_loss<best_valid_loss:\n",
    "            best_valid_loss=cur_valid_loss\n",
    "            cur_patience=args.patience\n",
    "        else:\n",
    "            cur_patience-=1\n",
    "            \n",
    "        if cur_patience<=0 or best_valid_loss<loss_limit:\n",
    "            print(f\"Best validation loss: {best_valid_loss:.4f}\")\n",
    "            if save and best_valid_loss<loss_limit:\n",
    "                torch.save(model, f\"{save_folder}/{datekey}_{name}#seed_{args.seed}-epoch-{str(epoch)}_FINAL\")\n",
    "            break\n",
    "        \n",
    "        if save:\n",
    "            torch.save(model, f\"{save_folder}/{datekey}_{name}#seed_{args.seed}-epoch-{str(epoch)}\")\n",
    "    \n",
    "    print('Trainig took: {:.2f}s for {} epochs'.format(time.time()-start_t, epoch))\n",
    "    print('Testing...')\n",
    "    test_loss = test_cnn(model, test_loader, args)\n",
    "    \n",
    "    return model"
   ]
  },
  {
   "cell_type": "markdown",
   "id": "3d36f674",
   "metadata": {
    "papermill": {
     "duration": 0.017468,
     "end_time": "2023-10-08T20:16:12.072811",
     "exception": false,
     "start_time": "2023-10-08T20:16:12.055343",
     "status": "completed"
    },
    "tags": []
   },
   "source": [
    "### Directory Management"
   ]
  },
  {
   "cell_type": "code",
   "execution_count": 17,
   "id": "12394509",
   "metadata": {
    "execution": {
     "iopub.execute_input": "2023-10-08T20:16:12.105086Z",
     "iopub.status.busy": "2023-10-08T20:16:12.104780Z",
     "iopub.status.idle": "2023-10-08T20:16:12.109788Z",
     "shell.execute_reply": "2023-10-08T20:16:12.108589Z"
    },
    "papermill": {
     "duration": 0.023746,
     "end_time": "2023-10-08T20:16:12.112491",
     "exception": false,
     "start_time": "2023-10-08T20:16:12.088745",
     "status": "completed"
    },
    "tags": []
   },
   "outputs": [],
   "source": [
    "if not os.path.exists('/kaggle/working/models'):\n",
    "    os.makedirs('/kaggle/working/models')"
   ]
  },
  {
   "cell_type": "code",
   "execution_count": 18,
   "id": "b5aff042",
   "metadata": {
    "execution": {
     "iopub.execute_input": "2023-10-08T20:16:12.141338Z",
     "iopub.status.busy": "2023-10-08T20:16:12.140995Z",
     "iopub.status.idle": "2023-10-08T20:16:12.146256Z",
     "shell.execute_reply": "2023-10-08T20:16:12.145175Z"
    },
    "papermill": {
     "duration": 0.021523,
     "end_time": "2023-10-08T20:16:12.148224",
     "exception": false,
     "start_time": "2023-10-08T20:16:12.126701",
     "status": "completed"
    },
    "tags": []
   },
   "outputs": [],
   "source": [
    "os.chdir(r'/kaggle/working')"
   ]
  },
  {
   "cell_type": "markdown",
   "id": "27e183e0",
   "metadata": {
    "papermill": {
     "duration": 0.01356,
     "end_time": "2023-10-08T20:16:12.176077",
     "exception": false,
     "start_time": "2023-10-08T20:16:12.162517",
     "status": "completed"
    },
    "tags": []
   },
   "source": [
    "### Experiment Function"
   ]
  },
  {
   "cell_type": "code",
   "execution_count": 19,
   "id": "d13f6e2e",
   "metadata": {
    "execution": {
     "iopub.execute_input": "2023-10-08T20:16:12.206247Z",
     "iopub.status.busy": "2023-10-08T20:16:12.205688Z",
     "iopub.status.idle": "2023-10-08T20:16:12.213476Z",
     "shell.execute_reply": "2023-10-08T20:16:12.212579Z"
    },
    "papermill": {
     "duration": 0.024381,
     "end_time": "2023-10-08T20:16:12.215480",
     "exception": false,
     "start_time": "2023-10-08T20:16:12.191099",
     "status": "completed"
    },
    "tags": []
   },
   "outputs": [],
   "source": [
    "def experiment(rounds=5):\n",
    "    experiment_start = time.time()\n",
    "    \n",
    "    datekey = dtm.now().strftime(\"%y-%m-%d_%H-%M\")\n",
    "    \n",
    "    for i in range(rounds):\n",
    "        round_start = time.time()\n",
    "        \n",
    "        my_args = ArgObj(seed=(i+1)*111)\n",
    "        \n",
    "        trained_model1 = train_cnn(args=my_args, model_arg=AlexNet(), name = \"original\", datekey=datekey)\n",
    "        trained_model2 = train_cnn(args=my_args, model_arg=AlexNet_mod(), name= \"modified\", datekey=datekey)\n",
    "        \n",
    "        round_end = time.time()\n",
    "        round_duration = round_end-round_start\n",
    "        \n",
    "        print(f\"Round {i+1} duration: {datetime.timedelta(seconds=round_duration)}\")\n",
    "    \n",
    "    experiment_end = time.time()\n",
    "    experiment_duration = experiment_end-experiment_start\n",
    "    \n",
    "    print(f\"Full experiment duration: {datetime.timedelta(seconds=experiment_duration)}\")\n",
    "    \n",
    "    #cm = evaluate(trained_model1)"
   ]
  },
  {
   "cell_type": "code",
   "execution_count": 20,
   "id": "7aa7c25e",
   "metadata": {
    "execution": {
     "iopub.execute_input": "2023-10-08T20:16:12.244543Z",
     "iopub.status.busy": "2023-10-08T20:16:12.243782Z",
     "iopub.status.idle": "2023-10-08T20:16:12.250871Z",
     "shell.execute_reply": "2023-10-08T20:16:12.249969Z"
    },
    "papermill": {
     "duration": 0.024419,
     "end_time": "2023-10-08T20:16:12.253005",
     "exception": false,
     "start_time": "2023-10-08T20:16:12.228586",
     "status": "completed"
    },
    "tags": []
   },
   "outputs": [],
   "source": [
    "def try_new_mod():\n",
    "    my_args=ArgObj(lr=0.001)\n",
    "\n",
    "    for i in range(5):\n",
    "        my_args=ArgObj(seed=(i+1)*111)\n",
    "        trained_model1 = train_cnn(args=my_args, model_arg=AlexNet_mod(), save=False)"
   ]
  },
  {
   "cell_type": "code",
   "execution_count": 21,
   "id": "26e1bca0",
   "metadata": {
    "execution": {
     "iopub.execute_input": "2023-10-08T20:16:12.281702Z",
     "iopub.status.busy": "2023-10-08T20:16:12.280981Z",
     "iopub.status.idle": "2023-10-08T20:16:12.285212Z",
     "shell.execute_reply": "2023-10-08T20:16:12.284315Z"
    },
    "papermill": {
     "duration": 0.021143,
     "end_time": "2023-10-08T20:16:12.287085",
     "exception": false,
     "start_time": "2023-10-08T20:16:12.265942",
     "status": "completed"
    },
    "tags": []
   },
   "outputs": [],
   "source": [
    "#try_new_mod()"
   ]
  },
  {
   "cell_type": "code",
   "execution_count": 22,
   "id": "59220ff7",
   "metadata": {
    "execution": {
     "iopub.execute_input": "2023-10-08T20:16:12.317931Z",
     "iopub.status.busy": "2023-10-08T20:16:12.317671Z",
     "iopub.status.idle": "2023-10-08T20:16:12.321290Z",
     "shell.execute_reply": "2023-10-08T20:16:12.320184Z"
    },
    "papermill": {
     "duration": 0.023173,
     "end_time": "2023-10-08T20:16:12.323332",
     "exception": false,
     "start_time": "2023-10-08T20:16:12.300159",
     "status": "completed"
    },
    "tags": []
   },
   "outputs": [],
   "source": [
    "#experiment(5)"
   ]
  },
  {
   "cell_type": "markdown",
   "id": "588da039",
   "metadata": {
    "papermill": {
     "duration": 0.014535,
     "end_time": "2023-10-08T20:16:12.352446",
     "exception": false,
     "start_time": "2023-10-08T20:16:12.337911",
     "status": "completed"
    },
    "tags": []
   },
   "source": [
    "### Download models"
   ]
  },
  {
   "cell_type": "code",
   "execution_count": 23,
   "id": "dc1195e8",
   "metadata": {
    "execution": {
     "iopub.execute_input": "2023-10-08T20:16:12.383853Z",
     "iopub.status.busy": "2023-10-08T20:16:12.382935Z",
     "iopub.status.idle": "2023-10-08T20:16:12.387597Z",
     "shell.execute_reply": "2023-10-08T20:16:12.386618Z"
    },
    "papermill": {
     "duration": 0.023226,
     "end_time": "2023-10-08T20:16:12.389656",
     "exception": false,
     "start_time": "2023-10-08T20:16:12.366430",
     "status": "completed"
    },
    "tags": []
   },
   "outputs": [],
   "source": [
    "#shutil.make_archive(\"/kaggle/working/out\", 'zip', \"/kaggle/working/models\")\n",
    "#display(FileLink('out.zip'))"
   ]
  },
  {
   "cell_type": "markdown",
   "id": "3eeafd36",
   "metadata": {
    "papermill": {
     "duration": 0.01528,
     "end_time": "2023-10-08T20:16:12.417924",
     "exception": false,
     "start_time": "2023-10-08T20:16:12.402644",
     "status": "completed"
    },
    "tags": []
   },
   "source": [
    "### Remove Files"
   ]
  },
  {
   "cell_type": "code",
   "execution_count": 24,
   "id": "a8fb8936",
   "metadata": {
    "execution": {
     "iopub.execute_input": "2023-10-08T20:16:12.449932Z",
     "iopub.status.busy": "2023-10-08T20:16:12.449661Z",
     "iopub.status.idle": "2023-10-08T20:16:12.455628Z",
     "shell.execute_reply": "2023-10-08T20:16:12.454537Z"
    },
    "papermill": {
     "duration": 0.023383,
     "end_time": "2023-10-08T20:16:12.457635",
     "exception": false,
     "start_time": "2023-10-08T20:16:12.434252",
     "status": "completed"
    },
    "tags": []
   },
   "outputs": [],
   "source": [
    "def remove_folder_contents(folder):\n",
    "    for the_file in os.listdir(folder):\n",
    "        file_path = os.path.join(folder, the_file)\n",
    "        try:\n",
    "            if os.path.isfile(file_path):\n",
    "                os.unlink(file_path)\n",
    "            elif os.path.isdir(file_path):\n",
    "                remove_folder_contents(file_path)\n",
    "                os.rmdir(file_path)\n",
    "        except Exception as e:\n",
    "            print(e)"
   ]
  },
  {
   "cell_type": "code",
   "execution_count": 25,
   "id": "e230c113",
   "metadata": {
    "execution": {
     "iopub.execute_input": "2023-10-08T20:16:12.484551Z",
     "iopub.status.busy": "2023-10-08T20:16:12.484305Z",
     "iopub.status.idle": "2023-10-08T20:16:12.488023Z",
     "shell.execute_reply": "2023-10-08T20:16:12.486923Z"
    },
    "papermill": {
     "duration": 0.019215,
     "end_time": "2023-10-08T20:16:12.489886",
     "exception": false,
     "start_time": "2023-10-08T20:16:12.470671",
     "status": "completed"
    },
    "tags": []
   },
   "outputs": [],
   "source": [
    "#remove_folder_contents(\"./models\")"
   ]
  },
  {
   "cell_type": "code",
   "execution_count": 26,
   "id": "71e520a8",
   "metadata": {
    "execution": {
     "iopub.execute_input": "2023-10-08T20:16:12.516140Z",
     "iopub.status.busy": "2023-10-08T20:16:12.515577Z",
     "iopub.status.idle": "2023-10-08T20:16:12.520622Z",
     "shell.execute_reply": "2023-10-08T20:16:12.519739Z"
    },
    "papermill": {
     "duration": 0.020335,
     "end_time": "2023-10-08T20:16:12.522520",
     "exception": false,
     "start_time": "2023-10-08T20:16:12.502185",
     "status": "completed"
    },
    "tags": []
   },
   "outputs": [],
   "source": [
    "def remove_specific_seed_files(folder, seed):\n",
    "    for the_file in os.listdir(folder):\n",
    "        if f\"seed_{str(seed)}\" in the_file:\n",
    "            file_path = os.path.join(folder, the_file)\n",
    "            os.unlink(file_path)"
   ]
  },
  {
   "cell_type": "code",
   "execution_count": 27,
   "id": "799905dc",
   "metadata": {
    "execution": {
     "iopub.execute_input": "2023-10-08T20:16:12.552044Z",
     "iopub.status.busy": "2023-10-08T20:16:12.551318Z",
     "iopub.status.idle": "2023-10-08T20:16:12.555279Z",
     "shell.execute_reply": "2023-10-08T20:16:12.554299Z"
    },
    "papermill": {
     "duration": 0.01983,
     "end_time": "2023-10-08T20:16:12.557096",
     "exception": false,
     "start_time": "2023-10-08T20:16:12.537266",
     "status": "completed"
    },
    "tags": []
   },
   "outputs": [],
   "source": [
    "#remove_specific_seed_files(\"./models\", 111)"
   ]
  },
  {
   "cell_type": "code",
   "execution_count": 28,
   "id": "10340d56",
   "metadata": {
    "execution": {
     "iopub.execute_input": "2023-10-08T20:16:12.584348Z",
     "iopub.status.busy": "2023-10-08T20:16:12.583694Z",
     "iopub.status.idle": "2023-10-08T20:16:12.588552Z",
     "shell.execute_reply": "2023-10-08T20:16:12.587650Z"
    },
    "papermill": {
     "duration": 0.020735,
     "end_time": "2023-10-08T20:16:12.590467",
     "exception": false,
     "start_time": "2023-10-08T20:16:12.569732",
     "status": "completed"
    },
    "tags": []
   },
   "outputs": [],
   "source": [
    "for the_file in os.listdir(\"./models\"):\n",
    "    if f\"seed_{111}\" in the_file:\n",
    "        print(the_file)"
   ]
  },
  {
   "cell_type": "markdown",
   "id": "27531570",
   "metadata": {
    "papermill": {
     "duration": 0.032481,
     "end_time": "2023-10-08T20:16:12.636166",
     "exception": false,
     "start_time": "2023-10-08T20:16:12.603685",
     "status": "completed"
    },
    "tags": []
   },
   "source": [
    "### Trained Models Dictionary"
   ]
  },
  {
   "cell_type": "code",
   "execution_count": 29,
   "id": "c4359ae5",
   "metadata": {
    "execution": {
     "iopub.execute_input": "2023-10-08T20:16:12.663948Z",
     "iopub.status.busy": "2023-10-08T20:16:12.663042Z",
     "iopub.status.idle": "2023-10-08T20:16:12.669541Z",
     "shell.execute_reply": "2023-10-08T20:16:12.668622Z"
    },
    "papermill": {
     "duration": 0.022513,
     "end_time": "2023-10-08T20:16:12.671539",
     "exception": false,
     "start_time": "2023-10-08T20:16:12.649026",
     "status": "completed"
    },
    "tags": []
   },
   "outputs": [],
   "source": [
    "def find_final(seed, folder=\"./models\"):\n",
    "    original_model = None\n",
    "    modified_model = None\n",
    "    \n",
    "    for the_file in os.listdir(folder):\n",
    "        \n",
    "        if f\"seed_{seed}\" in the_file and \"FINAL\" in the_file:\n",
    "            file_path = os.path.join(folder, the_file)\n",
    "            if \"original\" in the_file:\n",
    "                original_model = torch.load(file_path, map_location=torch.device('cpu'))\n",
    "            elif \"modified\" in the_file:\n",
    "                modified_model = torch.load(file_path, map_location=torch.device('cpu'))\n",
    "                \n",
    "    if original_model == None or modified_model == None:\n",
    "        return 0\n",
    "    else:\n",
    "        return original_model, modified_model"
   ]
  },
  {
   "cell_type": "code",
   "execution_count": 30,
   "id": "cc74b177",
   "metadata": {
    "execution": {
     "iopub.execute_input": "2023-10-08T20:16:12.698521Z",
     "iopub.status.busy": "2023-10-08T20:16:12.697942Z",
     "iopub.status.idle": "2023-10-08T20:16:12.704011Z",
     "shell.execute_reply": "2023-10-08T20:16:12.703139Z"
    },
    "papermill": {
     "duration": 0.021951,
     "end_time": "2023-10-08T20:16:12.706021",
     "exception": false,
     "start_time": "2023-10-08T20:16:12.684070",
     "status": "completed"
    },
    "tags": []
   },
   "outputs": [],
   "source": [
    "trained_models = {\n",
    "    \"original\":[],\n",
    "    \"modified\":[],\n",
    "    \"seeds\":[]\n",
    "}\n",
    "\n",
    "for i in range(5):\n",
    "    seed=(i+1)*111\n",
    "    loaded_models = find_final(seed=seed)\n",
    "    \n",
    "    if loaded_models != 0:\n",
    "        orig, mod = loaded_models\n",
    "        trained_models[\"original\"].append(orig)\n",
    "        trained_models[\"modified\"].append(mod)\n",
    "        trained_models[\"seeds\"].append(seed)"
   ]
  },
  {
   "cell_type": "code",
   "execution_count": 31,
   "id": "7a11c5cc",
   "metadata": {
    "execution": {
     "iopub.execute_input": "2023-10-08T20:16:12.733227Z",
     "iopub.status.busy": "2023-10-08T20:16:12.732959Z",
     "iopub.status.idle": "2023-10-08T20:16:12.736589Z",
     "shell.execute_reply": "2023-10-08T20:16:12.735433Z"
    },
    "papermill": {
     "duration": 0.01956,
     "end_time": "2023-10-08T20:16:12.738632",
     "exception": false,
     "start_time": "2023-10-08T20:16:12.719072",
     "status": "completed"
    },
    "tags": []
   },
   "outputs": [],
   "source": [
    "#trained_models"
   ]
  },
  {
   "cell_type": "markdown",
   "id": "6eb67deb",
   "metadata": {
    "papermill": {
     "duration": 0.013598,
     "end_time": "2023-10-08T20:16:12.765136",
     "exception": false,
     "start_time": "2023-10-08T20:16:12.751538",
     "status": "completed"
    },
    "tags": []
   },
   "source": [
    "### Evaluate Function"
   ]
  },
  {
   "cell_type": "code",
   "execution_count": 32,
   "id": "30bb3ff5",
   "metadata": {
    "execution": {
     "iopub.execute_input": "2023-10-08T20:16:12.792207Z",
     "iopub.status.busy": "2023-10-08T20:16:12.791908Z",
     "iopub.status.idle": "2023-10-08T20:16:12.796428Z",
     "shell.execute_reply": "2023-10-08T20:16:12.795434Z"
    },
    "papermill": {
     "duration": 0.020048,
     "end_time": "2023-10-08T20:16:12.798298",
     "exception": false,
     "start_time": "2023-10-08T20:16:12.778250",
     "status": "completed"
    },
    "tags": []
   },
   "outputs": [],
   "source": [
    "def class_max(input):\n",
    "    return (torch.max(torch.exp(input), 1)[1]).data.cpu().numpy()"
   ]
  },
  {
   "cell_type": "code",
   "execution_count": 33,
   "id": "eb1bdefd",
   "metadata": {
    "execution": {
     "iopub.execute_input": "2023-10-08T20:16:12.824623Z",
     "iopub.status.busy": "2023-10-08T20:16:12.824374Z",
     "iopub.status.idle": "2023-10-08T20:16:12.831923Z",
     "shell.execute_reply": "2023-10-08T20:16:12.830919Z"
    },
    "papermill": {
     "duration": 0.02329,
     "end_time": "2023-10-08T20:16:12.833857",
     "exception": false,
     "start_time": "2023-10-08T20:16:12.810567",
     "status": "completed"
    },
    "tags": []
   },
   "outputs": [],
   "source": [
    "def evaluate_iteration(model):\n",
    "    \n",
    "    results={\"precision_macro\":0,\n",
    "            \"recall_macro\":0,\n",
    "            \"sub_acc\":0,\n",
    "            \"super_acc\":0,\n",
    "            \"ultra_acc\":0}\n",
    "    \n",
    "    y_pred = np.array([])\n",
    "    y_true = np.array([])\n",
    "    \n",
    "    for data, target in test_loader:\n",
    "            model = model.to(\"cpu\")\n",
    "            \n",
    "            target = target.numpy()\n",
    "            \n",
    "            output = model(data)\n",
    "            output = class_max(output)\n",
    "            \n",
    "            y_pred = np.append(y_pred, output)\n",
    "            y_true = np.append(y_true, target)\n",
    "            \n",
    "            #total += len(target)\n",
    "            #correct += (predicted == target).sum().item()\n",
    "\n",
    "    results[\"precision_macro\"] = precision_score(y_true, y_pred, average=\"macro\", zero_division=0)\n",
    "    results[\"recall_macro\"] = recall_score(y_true, y_pred, average=\"macro\", zero_division=0)\n",
    "    \n",
    "    results[\"sub_acc\"] = sum(y_true==y_pred)/len(y_true)\n",
    "    results[\"super_acc\"] = sum(v_create_superclass(y_true)==v_create_superclass(y_pred))/len(y_true)\n",
    "    results[\"ultra_acc\"] = sum(v_create_ultraclass(v_create_superclass(y_true))==v_create_ultraclass(v_create_superclass(y_pred)))/len(y_true)\n",
    "    \n",
    "    return results"
   ]
  },
  {
   "cell_type": "code",
   "execution_count": 34,
   "id": "d91f7144",
   "metadata": {
    "execution": {
     "iopub.execute_input": "2023-10-08T20:16:12.861556Z",
     "iopub.status.busy": "2023-10-08T20:16:12.861303Z",
     "iopub.status.idle": "2023-10-08T20:16:12.865145Z",
     "shell.execute_reply": "2023-10-08T20:16:12.863935Z"
    },
    "papermill": {
     "duration": 0.020628,
     "end_time": "2023-10-08T20:16:12.867383",
     "exception": false,
     "start_time": "2023-10-08T20:16:12.846755",
     "status": "completed"
    },
    "tags": []
   },
   "outputs": [],
   "source": [
    "#evaluate_iteration(trained_models[\"original\"][0])"
   ]
  },
  {
   "cell_type": "code",
   "execution_count": 35,
   "id": "2fbc40d0",
   "metadata": {
    "execution": {
     "iopub.execute_input": "2023-10-08T20:16:12.895410Z",
     "iopub.status.busy": "2023-10-08T20:16:12.895112Z",
     "iopub.status.idle": "2023-10-08T20:16:12.903698Z",
     "shell.execute_reply": "2023-10-08T20:16:12.902671Z"
    },
    "papermill": {
     "duration": 0.024924,
     "end_time": "2023-10-08T20:16:12.905695",
     "exception": false,
     "start_time": "2023-10-08T20:16:12.880771",
     "status": "completed"
    },
    "tags": []
   },
   "outputs": [],
   "source": [
    "def evaluate_all():\n",
    "    my_dict={\"orig\":[],\n",
    "            \"mod\":[],\n",
    "            \"seeds\":[]}\n",
    "    \n",
    "    cnt=len(trained_models[\"seeds\"])\n",
    "    \n",
    "    for i in range(cnt):\n",
    "        my_dict[\"orig\"].append(evaluate_iteration(trained_models[\"original\"][i]))\n",
    "        my_dict[\"mod\"].append(evaluate_iteration(trained_models[\"modified\"][i]))\n",
    "        my_dict[\"seeds\"].append(trained_models[\"seeds\"][i])\n",
    "        \n",
    "    for i in range(cnt):\n",
    "        print(f\"Seed: {my_dict['seeds'][i]}\")\n",
    "        print(\"\\t\\t\\tOriginal\\tModified\\tDiff\")\n",
    "        print(f\"Precision (macro): \\t{my_dict['orig'][i]['precision_macro']:.4f}\\t\\t{my_dict['mod'][i]['precision_macro']:.4f}\", end=\"\")\n",
    "        print(f\"\\t\\t{my_dict['mod'][i]['precision_macro']-my_dict['orig'][i]['precision_macro']:.4f}\")\n",
    "        \n",
    "        print(f\"Recall (macro):    \\t{my_dict['orig'][i]['recall_macro']:.4f}\\t\\t{my_dict['mod'][i]['recall_macro']:.4f}\", end=\"\")\n",
    "        print(f\"\\t\\t{my_dict['mod'][i]['recall_macro']-my_dict['orig'][i]['recall_macro']:.4f}\")\n",
    "        \n",
    "        print(f\"Sub-class Accuracy:\\t{my_dict['orig'][i]['sub_acc']:.4f}\\t\\t{my_dict['mod'][i]['sub_acc']:.4f}\", end=\"\")\n",
    "        print(f\"\\t\\t{my_dict['mod'][i]['sub_acc']-my_dict['orig'][i]['sub_acc']:.4f}\")\n",
    "        \n",
    "        print(f\"Super-class Accuracy:   {my_dict['orig'][i]['super_acc']:.4f}\\t\\t{my_dict['mod'][i]['super_acc']:.4f}\", end=\"\")\n",
    "        print(f\"\\t\\t{my_dict['mod'][i]['super_acc']-my_dict['orig'][i]['super_acc']:.4f}\")\n",
    "        \n",
    "        print(f\"Ultra-class Accuracy:   {my_dict['orig'][i]['ultra_acc']:.4f}\\t\\t{my_dict['mod'][i]['ultra_acc']:.4f}\", end=\"\")\n",
    "        print(f\"\\t\\t{my_dict['mod'][i]['ultra_acc']-my_dict['orig'][i]['ultra_acc']:.4f}\")\n",
    "        print(\"\\n\")\n",
    "    \n",
    "    print(\"Original avg diffs\")\n",
    "    print(f\"Precision: \\t{np.average([my_dict['orig'][i]['precision_macro'] for i in range(cnt)]):.4f}\")"
   ]
  },
  {
   "cell_type": "code",
   "execution_count": 36,
   "id": "46697761",
   "metadata": {
    "execution": {
     "iopub.execute_input": "2023-10-08T20:16:12.933734Z",
     "iopub.status.busy": "2023-10-08T20:16:12.932814Z",
     "iopub.status.idle": "2023-10-08T20:16:12.944006Z",
     "shell.execute_reply": "2023-10-08T20:16:12.942929Z"
    },
    "papermill": {
     "duration": 0.028065,
     "end_time": "2023-10-08T20:16:12.946246",
     "exception": false,
     "start_time": "2023-10-08T20:16:12.918181",
     "status": "completed"
    },
    "tags": []
   },
   "outputs": [
    {
     "name": "stdout",
     "output_type": "stream",
     "text": [
      "Original avg diffs\n",
      "Precision: \tnan\n"
     ]
    },
    {
     "name": "stderr",
     "output_type": "stream",
     "text": [
      "/opt/conda/lib/python3.7/site-packages/numpy/lib/function_base.py:380: RuntimeWarning: Mean of empty slice.\n",
      "  avg = a.mean(axis)\n",
      "/opt/conda/lib/python3.7/site-packages/numpy/core/_methods.py:189: RuntimeWarning: invalid value encountered in double_scalars\n",
      "  ret = ret.dtype.type(ret / rcount)\n"
     ]
    }
   ],
   "source": [
    "evaluate_all()"
   ]
  },
  {
   "cell_type": "code",
   "execution_count": 37,
   "id": "bfb10705",
   "metadata": {
    "execution": {
     "iopub.execute_input": "2023-10-08T20:16:12.974220Z",
     "iopub.status.busy": "2023-10-08T20:16:12.973939Z",
     "iopub.status.idle": "2023-10-08T20:16:12.979989Z",
     "shell.execute_reply": "2023-10-08T20:16:12.978883Z"
    },
    "papermill": {
     "duration": 0.022174,
     "end_time": "2023-10-08T20:16:12.981895",
     "exception": false,
     "start_time": "2023-10-08T20:16:12.959721",
     "status": "completed"
    },
    "tags": []
   },
   "outputs": [],
   "source": [
    "def make_CM(model):\n",
    "    \n",
    "    y_pred = np.array([])\n",
    "    y_true = np.array([])\n",
    "    \n",
    "    for data, target in test_loader:\n",
    "            model = model.to(\"cpu\")\n",
    "            \n",
    "            target = target.numpy()\n",
    "            \n",
    "            output = model(data)\n",
    "            output = class_max(output)\n",
    "            \n",
    "            y_pred = np.append(y_pred, output)\n",
    "            y_true = np.append(y_true, target)\n",
    "            \n",
    "    get_lab_vec = np.vectorize(get_labels)\n",
    "    \n",
    "    classes = get_lab_vec(sorted_labels, \"sub\")\n",
    "    \n",
    "    cm = confusion_matrix(y_true, y_pred\n",
    "                            ,labels = sorted_labels\n",
    "                          )\n",
    "    \n",
    "    return cm"
   ]
  },
  {
   "cell_type": "code",
   "execution_count": 38,
   "id": "99b6745e",
   "metadata": {
    "execution": {
     "iopub.execute_input": "2023-10-08T20:16:13.010016Z",
     "iopub.status.busy": "2023-10-08T20:16:13.009197Z",
     "iopub.status.idle": "2023-10-08T20:16:13.020484Z",
     "shell.execute_reply": "2023-10-08T20:16:13.019575Z"
    },
    "papermill": {
     "duration": 0.027595,
     "end_time": "2023-10-08T20:16:13.022436",
     "exception": false,
     "start_time": "2023-10-08T20:16:12.994841",
     "status": "completed"
    },
    "tags": []
   },
   "outputs": [],
   "source": [
    "def evaluate_CMs():\n",
    "    big_start_t=time.time()\n",
    "    cms={\"orig\":[],\n",
    "            \"mod\":[],\n",
    "            \"seeds\":[]}\n",
    "    \n",
    "    small_start_t=time.time()\n",
    "    print(\"Making CMs...\")\n",
    "    for i in range(len(trained_models[\"seeds\"])):\n",
    "        curseed=trained_models[\"seeds\"][i]\n",
    "        print(f\"Seed: {curseed}\")\n",
    "        print(\"orig\")\n",
    "        cms[\"orig\"].append(make_CM(trained_models[\"original\"][i]))\n",
    "        print(\"mod\")\n",
    "        cms[\"mod\"].append(make_CM(trained_models[\"modified\"][i]))\n",
    "        cms[\"seeds\"].append(curseed)\n",
    "    small_duration=time.time()-small_start_t\n",
    "    print(f\"Done. CMs duration:{datetime.timedelta(seconds=small_duration)}\")\n",
    "    print(\"\\n\\n\")\n",
    "    \n",
    "    SSEs = np.empty((10,10))\n",
    "    SSEs[:] = np.nan\n",
    "    \n",
    "    cnt=len(cms[\"seeds\"])\n",
    "    \n",
    "    small_start_t=time.time()\n",
    "    print(\"Calculating SSEs...\")\n",
    "    for i in range(cnt):\n",
    "        for j in range(cnt):\n",
    "            if i!=j:\n",
    "                SSEs[i,j]=np.sum((cms[\"orig\"][i]-cms[\"orig\"][j])**2)\n",
    "                SSEs[i+5,j+5]=np.sum((cms[\"mod\"][i]-cms[\"mod\"][j])**2)\n",
    "            if i!=j+5:\n",
    "                SSEs[i,j+5]=np.sum((cms[\"orig\"][i]-cms[\"mod\"][j])**2)\n",
    "            if i+5!=j:\n",
    "                SSEs[i+5,j]=np.sum((cms[\"mod\"][i]-cms[\"orig\"][j])**2)\n",
    "    small_duration=time.time()-small_start_t\n",
    "    print(f\"Done. SSEs duration:{datetime.timedelta(seconds=small_duration)}\")\n",
    "    print(\"\\n\")\n",
    "    big_duration=time.time()-big_start_t\n",
    "    print(f\"Total duration: {datetime.timedelta(seconds=big_duration)}\")\n",
    "    \n",
    "    return SSEs"
   ]
  },
  {
   "cell_type": "code",
   "execution_count": 39,
   "id": "043c9dc5",
   "metadata": {
    "execution": {
     "iopub.execute_input": "2023-10-08T20:16:13.050082Z",
     "iopub.status.busy": "2023-10-08T20:16:13.049553Z",
     "iopub.status.idle": "2023-10-08T20:16:13.054531Z",
     "shell.execute_reply": "2023-10-08T20:16:13.053484Z"
    },
    "papermill": {
     "duration": 0.021578,
     "end_time": "2023-10-08T20:16:13.056746",
     "exception": false,
     "start_time": "2023-10-08T20:16:13.035168",
     "status": "completed"
    },
    "tags": []
   },
   "outputs": [
    {
     "name": "stdout",
     "output_type": "stream",
     "text": [
      "Making CMs...\n",
      "Done. CMs duration:0:00:00.000042\n",
      "\n",
      "\n",
      "\n",
      "Calculating SSEs...\n",
      "Done. SSEs duration:0:00:00.000006\n",
      "\n",
      "\n",
      "Total duration: 0:00:00.000116\n"
     ]
    }
   ],
   "source": [
    "SSEs=evaluate_CMs()"
   ]
  },
  {
   "cell_type": "code",
   "execution_count": 40,
   "id": "f217f2cd",
   "metadata": {
    "execution": {
     "iopub.execute_input": "2023-10-08T20:16:13.083644Z",
     "iopub.status.busy": "2023-10-08T20:16:13.083409Z",
     "iopub.status.idle": "2023-10-08T20:16:13.088355Z",
     "shell.execute_reply": "2023-10-08T20:16:13.087319Z"
    },
    "papermill": {
     "duration": 0.021092,
     "end_time": "2023-10-08T20:16:13.090234",
     "exception": false,
     "start_time": "2023-10-08T20:16:13.069142",
     "status": "completed"
    },
    "tags": []
   },
   "outputs": [],
   "source": [
    "def SSE_plot(SSEs):\n",
    "    fig, ax = plt.subplots(1,1)\n",
    "\n",
    "    img = ax.imshow(SSEs)\n",
    "    \n",
    "    ticklabs=[\"o1\",\"o2\",\"o3\",\"o4\",\"o5\",\"m1\",\"m2\",\"m3\",\"m4\",\"m5\"]\n",
    "    ax.set_xticks(range(10))\n",
    "    ax.set_xticklabels(ticklabs)\n",
    "    #ticklabs.reverse()\n",
    "    ax.set_yticks(range(10))\n",
    "    ax.set_yticklabels(ticklabs)\n",
    "\n",
    "    fig.colorbar(img)"
   ]
  },
  {
   "cell_type": "code",
   "execution_count": 41,
   "id": "7a5d8671",
   "metadata": {
    "execution": {
     "iopub.execute_input": "2023-10-08T20:16:13.116720Z",
     "iopub.status.busy": "2023-10-08T20:16:13.116051Z",
     "iopub.status.idle": "2023-10-08T20:16:13.432575Z",
     "shell.execute_reply": "2023-10-08T20:16:13.431462Z"
    },
    "papermill": {
     "duration": 0.332654,
     "end_time": "2023-10-08T20:16:13.435202",
     "exception": false,
     "start_time": "2023-10-08T20:16:13.102548",
     "status": "completed"
    },
    "tags": []
   },
   "outputs": [
    {
     "data": {
      "image/png": "[encoded data removed]",
      "text/plain": [
       "<Figure size 640x480 with 2 Axes>"
      ]
     },
     "metadata": {},
     "output_type": "display_data"
    }
   ],
   "source": [
    "SSE_plot(SSEs)"
   ]
  },
  {
   "cell_type": "code",
   "execution_count": 42,
   "id": "1d884f9c",
   "metadata": {
    "execution": {
     "iopub.execute_input": "2023-10-08T20:16:13.464640Z",
     "iopub.status.busy": "2023-10-08T20:16:13.464327Z",
     "iopub.status.idle": "2023-10-08T20:16:13.472542Z",
     "shell.execute_reply": "2023-10-08T20:16:13.471418Z"
    },
    "papermill": {
     "duration": 0.02603,
     "end_time": "2023-10-08T20:16:13.475072",
     "exception": false,
     "start_time": "2023-10-08T20:16:13.449042",
     "status": "completed"
    },
    "tags": []
   },
   "outputs": [
    {
     "name": "stdout",
     "output_type": "stream",
     "text": [
      "Upper left quartal mean: nan\n",
      "Upper right quartal mean: nan\n",
      "Lower left quartal mean: nan\n",
      "Lower right quartal mean: nan\n"
     ]
    },
    {
     "name": "stderr",
     "output_type": "stream",
     "text": [
      "/opt/conda/lib/python3.7/site-packages/ipykernel_launcher.py:1: RuntimeWarning: Mean of empty slice\n",
      "  \"\"\"Entry point for launching an IPython kernel.\n",
      "/opt/conda/lib/python3.7/site-packages/ipykernel_launcher.py:4: RuntimeWarning: Mean of empty slice\n",
      "  after removing the cwd from sys.path.\n"
     ]
    }
   ],
   "source": [
    "print(f\"Upper left quartal mean: {np.nanmean(SSEs[:5,:5])}\")\n",
    "print(f\"Upper right quartal mean: {np.mean(SSEs[:5,5:])}\")\n",
    "print(f\"Lower left quartal mean: {np.mean(SSEs[5:,:5])}\")\n",
    "print(f\"Lower right quartal mean: {np.nanmean(SSEs[5:,5:])}\")"
   ]
  },
  {
   "cell_type": "markdown",
   "id": "ee5fc88a",
   "metadata": {
    "papermill": {
     "duration": 0.013111,
     "end_time": "2023-10-08T20:16:13.501851",
     "exception": false,
     "start_time": "2023-10-08T20:16:13.488740",
     "status": "completed"
    },
    "tags": []
   },
   "source": [
    "# Some old code which I will use to display the CMs later..."
   ]
  },
  {
   "cell_type": "markdown",
   "id": "a2628442",
   "metadata": {
    "execution": {
     "iopub.execute_input": "2023-09-07T10:57:57.307076Z",
     "iopub.status.busy": "2023-09-07T10:57:57.306670Z",
     "iopub.status.idle": "2023-09-07T10:58:00.573003Z",
     "shell.execute_reply": "2023-09-07T10:58:00.571397Z",
     "shell.execute_reply.started": "2023-09-07T10:57:57.307041Z"
    },
    "papermill": {
     "duration": 0.013974,
     "end_time": "2023-10-08T20:16:13.528794",
     "exception": false,
     "start_time": "2023-10-08T20:16:13.514820",
     "status": "completed"
    },
    "tags": []
   },
   "source": [
    "y_pred1 = []\n",
    "y_true1 = []\n",
    "\n",
    "y_pred2 = []\n",
    "y_true2 = []\n",
    "\n",
    "for inputs, labels in test_loader:\n",
    "        trained_model1 = trained_model1.to(\"cpu\")\n",
    "        trained_model2 = trained_model2.to(\"cpu\")\n",
    "        \n",
    "        labels = labels.numpy()\n",
    "        \n",
    "        output1 = trained_model1(inputs)\n",
    "        output1 = class_max(output1)\n",
    "        \n",
    "        output2 = trained_model2(inputs)\n",
    "        output2 = class_max(output2)\n",
    "        \n",
    "        y_pred1.extend(output1)\n",
    "        y_true1.extend(labels)\n",
    "    \n",
    "        y_pred2.extend(output2)\n",
    "        y_true2.extend(labels)\n",
    "        \n",
    "get_lab_vec = np.vectorize(get_labels)\n",
    "\n",
    "classes = get_lab_vec(sorted_labels, \"sub\")\n",
    "\n",
    "#I chose not to normalize so I get SE of two CMs\n",
    "cm1 = confusion_matrix(y_true1, y_pred1\n",
    "                       #, normalize=\"all\"\n",
    "                        ,labels = sorted_labels\n",
    "                      )\n",
    "cm2 = confusion_matrix(y_true2, y_pred2\n",
    "                       #, normalize=\"all\"\n",
    "                        ,labels = sorted_labels\n",
    "                      )\n",
    "\n",
    "fig, axs = plt.subplots(2, 1, figsize = (15,20))\n",
    "fig.suptitle('Confusion Matrices', fontsize=24)\n",
    "axs[0].imshow(cm1, interpolation='none', aspect='auto')\n",
    "#store for colorbar\n",
    "im=axs[1].imshow(cm2, interpolation='none', aspect='auto')\n",
    "\n",
    "#get the level via compact function\n",
    "def get_super(i):\n",
    "    return get_labels(create_superclass(i), \"super\")\n",
    "\n",
    "def get_ultra(i):\n",
    "    return get_labels(create_ultraclass(create_superclass(i)), \"ultra\")\n",
    "\n",
    "#generator for section borders\n",
    "def section_border_gen(get_level):\n",
    "    #squares begin in the upper left corner \n",
    "    border_list=[-0.5]\n",
    "    \n",
    "    #get_level - get superclass or ultraclass from a subclass index\n",
    "    state=get_level(sorted_labels[0])\n",
    "    for i in range(len(sorted_labels)):\n",
    "        current=get_level(sorted_labels[i])\n",
    "        #if change in class at the given level - make a border\n",
    "        if current!=state:\n",
    "            border_list.append(i-0.5)\n",
    "        state=get_level(sorted_labels[i])\n",
    "    \n",
    "    #smaller than 99.5 so that the line doesn't stand out from the graph\n",
    "    border_list.append(99.35)\n",
    "    \n",
    "    return border_list\n",
    "\n",
    "section_borders = [section_border_gen(get_super),section_border_gen(get_ultra)]\n",
    "border_colors = [\"red\", \"green\"]\n",
    "line_widths = [0.7, 1.5]\n",
    "\n",
    "#level = the borders (at a given level - super/ultra)\n",
    "#create 4 points to make a square\n",
    "#draw lines between\n",
    "\n",
    "for ax in axs:\n",
    "    for level, color, line_width in zip(section_borders, border_colors, line_widths):\n",
    "        for i, j in zip(level, level[1:]):\n",
    "            points = [[i,i], [i,j], [j,j], [j,i]]\n",
    "\n",
    "            for k, l in zip(points, points[1:]):\n",
    "                ax.plot(k, l, color=color, linewidth=line_width)\n",
    "\n",
    "            ax.plot(points[3], points[0], color=color, linewidth=line_width)\n",
    "\n",
    "fig.colorbar(im, ax=axs.ravel().tolist())\n",
    "\n",
    "for ax in axs:\n",
    "    ax.axis('off')\n",
    "    ax.grid(True)\n",
    "\n",
    "plt.show()\n",
    "plt.savefig('confusion1.png')"
   ]
  }
 ],
 "metadata": {
  "kernelspec": {
   "display_name": "Python 3",
   "language": "python",
   "name": "python3"
  },
  "language_info": {
   "codemirror_mode": {
    "name": "ipython",
    "version": 3
   },
   "file_extension": ".py",
   "mimetype": "text/x-python",
   "name": "python",
   "nbconvert_exporter": "python",
   "pygments_lexer": "ipython3",
   "version": "3.7.12"
  },
  "papermill": {
   "default_parameters": {},
   "duration": 33.990172,
   "end_time": "2023-10-08T20:16:15.752386",
   "environment_variables": {},
   "exception": null,
   "input_path": "__notebook__.ipynb",
   "output_path": "__notebook__.ipynb",
   "parameters": {},
   "start_time": "2023-10-08T20:15:41.762214",
   "version": "2.4.0"
  },
  "widgets": {
   "application/vnd.jupyter.widget-state+json": {
    "state": {
     "03ee242b634b426d947d9d7204eabdcc": {
      "model_module": "@jupyter-widgets/base",
      "model_module_version": "1.2.0",
      "model_name": "LayoutModel",
      "state": {
       "_model_module": "@jupyter-widgets/base",
       "_model_module_version": "1.2.0",
       "_model_name": "LayoutModel",
       "_view_count": null,
       "_view_module": "@jupyter-widgets/base",
       "_view_module_version": "1.2.0",
       "_view_name": "LayoutView",
       "align_content": null,
       "align_items": null,
       "align_self": null,
       "border": null,
       "bottom": null,
       "display": null,
       "flex": null,
       "flex_flow": null,
       "grid_area": null,
       "grid_auto_columns": null,
       "grid_auto_flow": null,
       "grid_auto_rows": null,
       "grid_column": null,
       "grid_gap": null,
       "grid_row": null,
       "grid_template_areas": null,
       "grid_template_columns": null,
       "grid_template_rows": null,
       "height": null,
       "justify_content": null,
       "justify_items": null,
       "left": null,
       "margin": null,
       "max_height": null,
       "max_width": null,
       "min_height": null,
       "min_width": null,
       "object_fit": null,
       "object_position": null,
       "order": null,
       "overflow": null,
       "overflow_x": null,
       "overflow_y": null,
       "padding": null,
       "right": null,
       "top": null,
       "visibility": null,
       "width": null
      }
     },
     "08b80b803d5a44d7a9436287a73a88d8": {
      "model_module": "@jupyter-widgets/controls",
      "model_module_version": "1.5.0",
      "model_name": "FloatProgressModel",
      "state": {
       "_dom_classes": [],
       "_model_module": "@jupyter-widgets/controls",
       "_model_module_version": "1.5.0",
       "_model_name": "FloatProgressModel",
       "_view_count": null,
       "_view_module": "@jupyter-widgets/controls",
       "_view_module_version": "1.5.0",
       "_view_name": "ProgressView",
       "bar_style": "success",
       "description": "",
       "description_tooltip": null,
       "layout": "IPY_MODEL_bd52617eeb414d8f875d19656f901ec8",
       "max": 169001437.0,
       "min": 0.0,
       "orientation": "horizontal",
       "style": "IPY_MODEL_135f16a84a6c4a0d913ec7d1b01c0d91",
       "value": 169001437.0
      }
     },
     "097bbac53bc34068a3d475f61de2e1b0": {
      "model_module": "@jupyter-widgets/controls",
      "model_module_version": "1.5.0",
      "model_name": "HTMLModel",
      "state": {
       "_dom_classes": [],
       "_model_module": "@jupyter-widgets/controls",
       "_model_module_version": "1.5.0",
       "_model_name": "HTMLModel",
       "_view_count": null,
       "_view_module": "@jupyter-widgets/controls",
       "_view_module_version": "1.5.0",
       "_view_name": "HTMLView",
       "description": "",
       "description_tooltip": null,
       "layout": "IPY_MODEL_03ee242b634b426d947d9d7204eabdcc",
       "placeholder": "​",
       "style": "IPY_MODEL_33d9b7a434fb4bc6b3d14a6361a685fe",
       "value": "100%"
      }
     },
     "135f16a84a6c4a0d913ec7d1b01c0d91": {
      "model_module": "@jupyter-widgets/controls",
      "model_module_version": "1.5.0",
      "model_name": "ProgressStyleModel",
      "state": {
       "_model_module": "@jupyter-widgets/controls",
       "_model_module_version": "1.5.0",
       "_model_name": "ProgressStyleModel",
       "_view_count": null,
       "_view_module": "@jupyter-widgets/base",
       "_view_module_version": "1.2.0",
       "_view_name": "StyleView",
       "bar_color": null,
       "description_width": ""
      }
     },
     "149114e33a5c43e89b00b2da915fd405": {
      "model_module": "@jupyter-widgets/base",
      "model_module_version": "1.2.0",
      "model_name": "LayoutModel",
      "state": {
       "_model_module": "@jupyter-widgets/base",
       "_model_module_version": "1.2.0",
       "_model_name": "LayoutModel",
       "_view_count": null,
       "_view_module": "@jupyter-widgets/base",
       "_view_module_version": "1.2.0",
       "_view_name": "LayoutView",
       "align_content": null,
       "align_items": null,
       "align_self": null,
       "border": null,
       "bottom": null,
       "display": null,
       "flex": null,
       "flex_flow": null,
       "grid_area": null,
       "grid_auto_columns": null,
       "grid_auto_flow": null,
       "grid_auto_rows": null,
       "grid_column": null,
       "grid_gap": null,
       "grid_row": null,
       "grid_template_areas": null,
       "grid_template_columns": null,
       "grid_template_rows": null,
       "height": null,
       "justify_content": null,
       "justify_items": null,
       "left": null,
       "margin": null,
       "max_height": null,
       "max_width": null,
       "min_height": null,
       "min_width": null,
       "object_fit": null,
       "object_position": null,
       "order": null,
       "overflow": null,
       "overflow_x": null,
       "overflow_y": null,
       "padding": null,
       "right": null,
       "top": null,
       "visibility": null,
       "width": null
      }
     },
     "33d9b7a434fb4bc6b3d14a6361a685fe": {
      "model_module": "@jupyter-widgets/controls",
      "model_module_version": "1.5.0",
      "model_name": "DescriptionStyleModel",
      "state": {
       "_model_module": "@jupyter-widgets/controls",
       "_model_module_version": "1.5.0",
       "_model_name": "DescriptionStyleModel",
       "_view_count": null,
       "_view_module": "@jupyter-widgets/base",
       "_view_module_version": "1.2.0",
       "_view_name": "StyleView",
       "description_width": ""
      }
     },
     "35fd9d3410674981a81d7cb13f890f49": {
      "model_module": "@jupyter-widgets/base",
      "model_module_version": "1.2.0",
      "model_name": "LayoutModel",
      "state": {
       "_model_module": "@jupyter-widgets/base",
       "_model_module_version": "1.2.0",
       "_model_name": "LayoutModel",
       "_view_count": null,
       "_view_module": "@jupyter-widgets/base",
       "_view_module_version": "1.2.0",
       "_view_name": "LayoutView",
       "align_content": null,
       "align_items": null,
       "align_self": null,
       "border": null,
       "bottom": null,
       "display": null,
       "flex": null,
       "flex_flow": null,
       "grid_area": null,
       "grid_auto_columns": null,
       "grid_auto_flow": null,
       "grid_auto_rows": null,
       "grid_column": null,
       "grid_gap": null,
       "grid_row": null,
       "grid_template_areas": null,
       "grid_template_columns": null,
       "grid_template_rows": null,
       "height": null,
       "justify_content": null,
       "justify_items": null,
       "left": null,
       "margin": null,
       "max_height": null,
       "max_width": null,
       "min_height": null,
       "min_width": null,
       "object_fit": null,
       "object_position": null,
       "order": null,
       "overflow": null,
       "overflow_x": null,
       "overflow_y": null,
       "padding": null,
       "right": null,
       "top": null,
       "visibility": null,
       "width": null
      }
     },
     "a34a0d80fcd546249170975f56f2ee31": {
      "model_module": "@jupyter-widgets/controls",
      "model_module_version": "1.5.0",
      "model_name": "HBoxModel",
      "state": {
       "_dom_classes": [],
       "_model_module": "@jupyter-widgets/controls",
       "_model_module_version": "1.5.0",
       "_model_name": "HBoxModel",
       "_view_count": null,
       "_view_module": "@jupyter-widgets/controls",
       "_view_module_version": "1.5.0",
       "_view_name": "HBoxView",
       "box_style": "",
       "children": [
        "IPY_MODEL_097bbac53bc34068a3d475f61de2e1b0",
        "IPY_MODEL_08b80b803d5a44d7a9436287a73a88d8",
        "IPY_MODEL_be78adf3aa244ef29d378978d452d576"
       ],
       "layout": "IPY_MODEL_35fd9d3410674981a81d7cb13f890f49"
      }
     },
     "bd52617eeb414d8f875d19656f901ec8": {
      "model_module": "@jupyter-widgets/base",
      "model_module_version": "1.2.0",
      "model_name": "LayoutModel",
      "state": {
       "_model_module": "@jupyter-widgets/base",
       "_model_module_version": "1.2.0",
       "_model_name": "LayoutModel",
       "_view_count": null,
       "_view_module": "@jupyter-widgets/base",
       "_view_module_version": "1.2.0",
       "_view_name": "LayoutView",
       "align_content": null,
       "align_items": null,
       "align_self": null,
       "border": null,
       "bottom": null,
       "display": null,
       "flex": null,
       "flex_flow": null,
       "grid_area": null,
       "grid_auto_columns": null,
       "grid_auto_flow": null,
       "grid_auto_rows": null,
       "grid_column": null,
       "grid_gap": null,
       "grid_row": null,
       "grid_template_areas": null,
       "grid_template_columns": null,
       "grid_template_rows": null,
       "height": null,
       "justify_content": null,
       "justify_items": null,
       "left": null,
       "margin": null,
       "max_height": null,
       "max_width": null,
       "min_height": null,
       "min_width": null,
       "object_fit": null,
       "object_position": null,
       "order": null,
       "overflow": null,
       "overflow_x": null,
       "overflow_y": null,
       "padding": null,
       "right": null,
       "top": null,
       "visibility": null,
       "width": null
      }
     },
     "be78adf3aa244ef29d378978d452d576": {
      "model_module": "@jupyter-widgets/controls",
      "model_module_version": "1.5.0",
      "model_name": "HTMLModel",
      "state": {
       "_dom_classes": [],
       "_model_module": "@jupyter-widgets/controls",
       "_model_module_version": "1.5.0",
       "_model_name": "HTMLModel",
       "_view_count": null,
       "_view_module": "@jupyter-widgets/controls",
       "_view_module_version": "1.5.0",
       "_view_name": "HTMLView",
       "description": "",
       "description_tooltip": null,
       "layout": "IPY_MODEL_149114e33a5c43e89b00b2da915fd405",
       "placeholder": "​",
       "style": "IPY_MODEL_d1399acb217d4f819e37916ab7f331ba",
       "value": " 169001437/169001437 [00:10&lt;00:00, 14468755.42it/s]"
      }
     },
     "d1399acb217d4f819e37916ab7f331ba": {
      "model_module": "@jupyter-widgets/controls",
      "model_module_version": "1.5.0",
      "model_name": "DescriptionStyleModel",
      "state": {
       "_model_module": "@jupyter-widgets/controls",
       "_model_module_version": "1.5.0",
       "_model_name": "DescriptionStyleModel",
       "_view_count": null,
       "_view_module": "@jupyter-widgets/base",
       "_view_module_version": "1.2.0",
       "_view_name": "StyleView",
       "description_width": ""
      }
     }
    },
    "version_major": 2,
    "version_minor": 0
   }
  }
 },
 "nbformat": 4,
 "nbformat_minor": 5
}
