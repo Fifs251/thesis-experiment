{
 "cells": [
  {
   "cell_type": "code",
   "execution_count": 1,
   "id": "6ffb1d93",
   "metadata": {
    "execution": {
     "iopub.execute_input": "2023-10-21T15:16:57.015747Z",
     "iopub.status.busy": "2023-10-21T15:16:57.015401Z",
     "iopub.status.idle": "2023-10-21T15:17:01.786839Z",
     "shell.execute_reply": "2023-10-21T15:17:01.785921Z"
    },
    "id": "A9YyhPbclOma",
    "papermill": {
     "duration": 4.793395,
     "end_time": "2023-10-21T15:17:01.789873",
     "exception": false,
     "start_time": "2023-10-21T15:16:56.996478",
     "status": "completed"
    },
    "tags": []
   },
   "outputs": [],
   "source": [
    "import torch\n",
    "import torch.nn as nn\n",
    "import torch.nn.functional as F\n",
    "import torch.optim as optim\n",
    "import torchvision\n",
    "import torchvision.transforms as transforms\n",
    "import datetime\n",
    "from datetime import datetime as dtm\n",
    "import matplotlib.pyplot as plt\n",
    "from torch.utils.data import Dataset, DataLoader\n",
    "import numpy as np\n",
    "import pandas as pd\n",
    "import math\n",
    "from torch.utils.data import random_split\n",
    "import time\n",
    "from torch.utils.tensorboard import SummaryWriter\n",
    "import os\n",
    "import shutil\n",
    "from IPython.display import FileLink\n",
    "from sklearn.metrics import confusion_matrix, precision_score, recall_score\n",
    "import seaborn as sn"
   ]
  },
  {
   "cell_type": "code",
   "execution_count": 2,
   "id": "56c1228b",
   "metadata": {
    "execution": {
     "iopub.execute_input": "2023-10-21T15:17:01.821934Z",
     "iopub.status.busy": "2023-10-21T15:17:01.821446Z",
     "iopub.status.idle": "2023-10-21T15:17:01.827287Z",
     "shell.execute_reply": "2023-10-21T15:17:01.826329Z"
    },
    "id": "C1Dp4vY9jmWG",
    "papermill": {
     "duration": 0.024077,
     "end_time": "2023-10-21T15:17:01.829567",
     "exception": false,
     "start_time": "2023-10-21T15:17:01.805490",
     "status": "completed"
    },
    "tags": []
   },
   "outputs": [],
   "source": [
    "myTransform = transforms.Compose([\n",
    "    #comment out resize to use SimpleNet\n",
    "    transforms.Resize((227,227)),\n",
    "    \n",
    "    #transforms.CenterCrop(224),\n",
    "    transforms.ToTensor(),\n",
    "    #transforms.Normalize(mean=[0.485, 0.456, 0.406], std=[0.229, 0.224, 0.225])\n",
    "    transforms.Normalize(mean=[0.5, 0.5, 0.5], std=[0.5, 0.5, 0.5])\n",
    "])"
   ]
  },
  {
   "cell_type": "markdown",
   "id": "db7412ab",
   "metadata": {
    "papermill": {
     "duration": 0.014461,
     "end_time": "2023-10-21T15:17:01.859030",
     "exception": false,
     "start_time": "2023-10-21T15:17:01.844569",
     "status": "completed"
    },
    "tags": []
   },
   "source": [
    "### Neural Network Classes"
   ]
  },
  {
   "cell_type": "code",
   "execution_count": 3,
   "id": "ef3afa1c",
   "metadata": {
    "execution": {
     "iopub.execute_input": "2023-10-21T15:17:01.891130Z",
     "iopub.status.busy": "2023-10-21T15:17:01.890790Z",
     "iopub.status.idle": "2023-10-21T15:17:01.903136Z",
     "shell.execute_reply": "2023-10-21T15:17:01.902234Z"
    },
    "id": "bxOzb9yUva2J",
    "papermill": {
     "duration": 0.030462,
     "end_time": "2023-10-21T15:17:01.905395",
     "exception": false,
     "start_time": "2023-10-21T15:17:01.874933",
     "status": "completed"
    },
    "tags": []
   },
   "outputs": [],
   "source": [
    "class AlexNet(nn.Module):\n",
    "    def __init__(self, num_classes: int = 100, dropout: float = 0.5):\n",
    "        super().__init__()\n",
    "        self.features = nn.Sequential(\n",
    "                nn.Conv2d(3, 64, kernel_size=11, stride=4, padding=2),\n",
    "                nn.ReLU(inplace=True),\n",
    "                nn.MaxPool2d(kernel_size=3, stride=2),\n",
    "                nn.Conv2d(64, 192, kernel_size=5, padding=2),\n",
    "                nn.ReLU(inplace=True),\n",
    "                nn.MaxPool2d(kernel_size=3, stride=2),\n",
    "                nn.Conv2d(192, 384, kernel_size=3, padding=1),\n",
    "                nn.ReLU(inplace=True),\n",
    "                nn.Conv2d(384, 256, kernel_size=3, padding=1),\n",
    "                nn.ReLU(inplace=True),\n",
    "                nn.Conv2d(256, 256, kernel_size=3, padding=1),\n",
    "                nn.ReLU(inplace=True),\n",
    "                nn.MaxPool2d(kernel_size=3, stride=2),\n",
    "            )\n",
    "        self.classifier = nn.Sequential(\n",
    "                nn.Dropout(p=dropout),\n",
    "                nn.Linear(256 * 6 * 6, 4096),\n",
    "                nn.ReLU(inplace=True),\n",
    "                nn.Dropout(p=dropout),\n",
    "                nn.Linear(4096, 1024),\n",
    "                nn.ReLU(inplace=True),\n",
    "                nn.Linear(1024, num_classes),\n",
    "            )\n",
    "\n",
    "    def forward(self, x):\n",
    "        x = self.features(x)\n",
    "        x = torch.flatten(x, 1)\n",
    "        x = self.classifier(x)\n",
    "        return x"
   ]
  },
  {
   "cell_type": "code",
   "execution_count": 4,
   "id": "4302f51e",
   "metadata": {
    "execution": {
     "iopub.execute_input": "2023-10-21T15:17:01.936501Z",
     "iopub.status.busy": "2023-10-21T15:17:01.935979Z",
     "iopub.status.idle": "2023-10-21T15:17:01.947366Z",
     "shell.execute_reply": "2023-10-21T15:17:01.946495Z"
    },
    "papermill": {
     "duration": 0.029396,
     "end_time": "2023-10-21T15:17:01.949558",
     "exception": false,
     "start_time": "2023-10-21T15:17:01.920162",
     "status": "completed"
    },
    "tags": []
   },
   "outputs": [],
   "source": [
    "class AlexNet_mod(nn.Module):\n",
    "    def __init__(self, num_classes: int = 100, dropout: float = 0.5):\n",
    "        super().__init__()\n",
    "        self.features = nn.Sequential(\n",
    "                nn.Conv2d(3, 64, kernel_size=11, stride=4, padding=2),\n",
    "                nn.Tanh(),\n",
    "                nn.MaxPool2d(kernel_size=3, stride=2),\n",
    "                nn.Conv2d(64, 192, kernel_size=5, padding=2),\n",
    "                nn.Tanh(),\n",
    "                nn.MaxPool2d(kernel_size=3, stride=2),\n",
    "                nn.Conv2d(192, 384, kernel_size=3, padding=1),\n",
    "                nn.Tanh(),\n",
    "                nn.Conv2d(384, 256, kernel_size=3, padding=1),\n",
    "                nn.Tanh(),\n",
    "                nn.Conv2d(256, 256, kernel_size=3, padding=1),\n",
    "                nn.Tanh(),\n",
    "                nn.MaxPool2d(kernel_size=3, stride=2),\n",
    "            )\n",
    "        self.classifier = nn.Sequential(\n",
    "                nn.Dropout(p=dropout),\n",
    "                nn.Linear(256 * 6 * 6, 4096),\n",
    "                nn.Tanh(),\n",
    "                nn.Dropout(p=dropout),\n",
    "                nn.Linear(4096, 1024),\n",
    "                nn.Tanh(),\n",
    "                nn.Linear(1024, num_classes),\n",
    "            )\n",
    "\n",
    "    def forward(self, x):\n",
    "        x = self.features(x)\n",
    "        x = torch.flatten(x, 1)\n",
    "        x = self.classifier(x)\n",
    "        return x"
   ]
  },
  {
   "cell_type": "code",
   "execution_count": 5,
   "id": "0500898d",
   "metadata": {
    "execution": {
     "iopub.execute_input": "2023-10-21T15:17:01.982050Z",
     "iopub.status.busy": "2023-10-21T15:17:01.981714Z",
     "iopub.status.idle": "2023-10-21T15:17:01.991041Z",
     "shell.execute_reply": "2023-10-21T15:17:01.990046Z"
    },
    "papermill": {
     "duration": 0.028397,
     "end_time": "2023-10-21T15:17:01.993212",
     "exception": false,
     "start_time": "2023-10-21T15:17:01.964815",
     "status": "completed"
    },
    "tags": []
   },
   "outputs": [],
   "source": [
    "class SimpleNet(nn.Module):\n",
    "    def __init__(self):\n",
    "        super().__init__()\n",
    "        self.conv1 = nn.Conv2d(3, 6, 5)\n",
    "        self.pool = nn.MaxPool2d(2, 2)\n",
    "        self.conv2 = nn.Conv2d(6, 16, 5)\n",
    "        self.fc1 = nn.Linear(16 * 5 * 5, 120)\n",
    "        self.fc2 = nn.Linear(120, 84)\n",
    "        self.fc3 = nn.Linear(84, 100)\n",
    "\n",
    "    def forward(self, x):\n",
    "        x = self.pool(F.relu(self.conv1(x)))\n",
    "        x = self.pool(F.relu(self.conv2(x)))\n",
    "        x = torch.flatten(x, 1) # flatten all dimensions except batch\n",
    "        x = F.relu(self.fc1(x))\n",
    "        x = F.relu(self.fc2(x))\n",
    "        x = self.fc3(x)\n",
    "        return x"
   ]
  },
  {
   "cell_type": "code",
   "execution_count": 6,
   "id": "0cf6b41b",
   "metadata": {
    "execution": {
     "iopub.execute_input": "2023-10-21T15:17:02.029929Z",
     "iopub.status.busy": "2023-10-21T15:17:02.028957Z",
     "iopub.status.idle": "2023-10-21T15:17:02.039402Z",
     "shell.execute_reply": "2023-10-21T15:17:02.038344Z"
    },
    "papermill": {
     "duration": 0.031018,
     "end_time": "2023-10-21T15:17:02.041597",
     "exception": false,
     "start_time": "2023-10-21T15:17:02.010579",
     "status": "completed"
    },
    "tags": []
   },
   "outputs": [],
   "source": [
    "class SimpleNet_mod(nn.Module):\n",
    "    def __init__(self):\n",
    "        super().__init__()\n",
    "        self.conv1 = nn.Conv2d(3, 6, 5)\n",
    "        self.pool = nn.MaxPool2d(2, 2)\n",
    "        self.conv2 = nn.Conv2d(6, 16, 5)\n",
    "        self.fc1 = nn.Linear(16 * 5 * 5, 120)\n",
    "        self.fc2 = nn.Linear(120, 84)\n",
    "        self.fc3 = nn.Linear(84, 100)\n",
    "\n",
    "    def forward(self, x):\n",
    "        x = self.pool(F.relu(self.conv1(x)))\n",
    "        x = self.pool(F.relu(self.conv2(x)))\n",
    "        x = torch.flatten(x, 1) # flatten all dimensions except batch\n",
    "        x = F.relu(self.fc1(x))\n",
    "        x = torch.sigmoid(self.fc2(x))\n",
    "        x = self.fc3(x)\n",
    "        return x"
   ]
  },
  {
   "cell_type": "markdown",
   "id": "8f6de3a6",
   "metadata": {
    "papermill": {
     "duration": 0.016165,
     "end_time": "2023-10-21T15:17:02.073711",
     "exception": false,
     "start_time": "2023-10-21T15:17:02.057546",
     "status": "completed"
    },
    "tags": []
   },
   "source": [
    "### Argument Object"
   ]
  },
  {
   "cell_type": "code",
   "execution_count": 7,
   "id": "f40b3dff",
   "metadata": {
    "execution": {
     "iopub.execute_input": "2023-10-21T15:17:02.109067Z",
     "iopub.status.busy": "2023-10-21T15:17:02.108436Z",
     "iopub.status.idle": "2023-10-21T15:17:02.116664Z",
     "shell.execute_reply": "2023-10-21T15:17:02.115598Z"
    },
    "id": "zvgV3CsLdkdL",
    "outputId": "bfdaf60b-f4d9-4074-a7ab-d38cea2002db",
    "papermill": {
     "duration": 0.029632,
     "end_time": "2023-10-21T15:17:02.120059",
     "exception": false,
     "start_time": "2023-10-21T15:17:02.090427",
     "status": "completed"
    },
    "tags": []
   },
   "outputs": [
    {
     "name": "stdout",
     "output_type": "stream",
     "text": [
      "{'max_epochs': 50, 'patience': 3, 'device': 'cuda', 'seed': 42, 'lr': 0.01, 'momentum': 0.7, 'batch_size': 32, 'n_classes': 100, 'dropout': 0.5, 'log_interval': 10}\n"
     ]
    }
   ],
   "source": [
    "class ArgObj(object):\n",
    "    _defaults = {\n",
    "        \"max_epochs\": 50,\n",
    "        \"patience\": 3,\n",
    "        \"device\": \"cuda\",\n",
    "        \"seed\": 42,\n",
    "        \"lr\": 0.01,\n",
    "        \"momentum\": 0.7,\n",
    "        \"batch_size\": 32,\n",
    "        \"n_classes\": 100,\n",
    "        \"dropout\": 0.5,\n",
    "        \"log_interval\": 10,\n",
    "    }\n",
    "\n",
    "    def __init__(self, **kwargs):\n",
    "        self.__dict__.update(self._defaults)\n",
    "        self.__dict__.update(kwargs)\n",
    "\n",
    "\n",
    "my_args = ArgObj()\n",
    "\n",
    "print(vars(my_args))"
   ]
  },
  {
   "cell_type": "markdown",
   "id": "b220520b",
   "metadata": {
    "papermill": {
     "duration": 0.015992,
     "end_time": "2023-10-21T15:17:02.152365",
     "exception": false,
     "start_time": "2023-10-21T15:17:02.136373",
     "status": "completed"
    },
    "tags": []
   },
   "source": [
    "### Dataset, Loaders, Split"
   ]
  },
  {
   "cell_type": "code",
   "execution_count": null,
   "id": "b9c9a80c",
   "metadata": {
    "papermill": {
     "duration": 0.015698,
     "end_time": "2023-10-21T15:17:02.184240",
     "exception": false,
     "start_time": "2023-10-21T15:17:02.168542",
     "status": "completed"
    },
    "tags": []
   },
   "outputs": [],
   "source": []
  },
  {
   "cell_type": "code",
   "execution_count": 8,
   "id": "ee13d0af",
   "metadata": {
    "execution": {
     "iopub.execute_input": "2023-10-21T15:17:02.216888Z",
     "iopub.status.busy": "2023-10-21T15:17:02.216279Z",
     "iopub.status.idle": "2023-10-21T15:17:07.759196Z",
     "shell.execute_reply": "2023-10-21T15:17:07.757896Z"
    },
    "id": "TldHC5MtaN15",
    "outputId": "487ac482-d9a5-4d5c-8292-9db10af7df55",
    "papermill": {
     "duration": 5.56233,
     "end_time": "2023-10-21T15:17:07.761855",
     "exception": false,
     "start_time": "2023-10-21T15:17:02.199525",
     "status": "completed"
    },
    "tags": []
   },
   "outputs": [
    {
     "name": "stdout",
     "output_type": "stream",
     "text": [
      "Downloading https://www.cs.toronto.edu/~kriz/cifar-100-python.tar.gz to ./root/cifar-100-python.tar.gz\n"
     ]
    },
    {
     "data": {
      "application/vnd.jupyter.widget-view+json": {
       "model_id": "86be3a0e7c514632b53413939adf5994",
       "version_major": 2,
       "version_minor": 0
      },
      "text/plain": [
       "  0%|          | 0/169001437 [00:00<?, ?it/s]"
      ]
     },
     "metadata": {},
     "output_type": "display_data"
    },
    {
     "name": "stdout",
     "output_type": "stream",
     "text": [
      "Extracting ./root/cifar-100-python.tar.gz to ./root\n",
      "Files already downloaded and verified\n",
      "torch.Size([32, 3, 227, 227]) torch.Size([32])\n"
     ]
    }
   ],
   "source": [
    "train_dataset = torchvision.datasets.CIFAR100(root='./root', train=True,\n",
    "                                              transform=myTransform, download=True)\n",
    "test_val_dataset = torchvision.datasets.CIFAR100(root='./root', train=False,\n",
    "                                              transform=myTransform, download=True) \n",
    "\n",
    "gnr = torch.Generator().manual_seed(my_args.seed)\n",
    "\n",
    "test_dataset, val_dataset = random_split(test_val_dataset, [0.5, 0.5], generator=gnr)\n",
    "\n",
    "train_loader = torch.utils.data.DataLoader(dataset=train_dataset, batch_size=my_args.batch_size, shuffle=True)\n",
    "\n",
    "test_loader = torch.utils.data.DataLoader(dataset=test_dataset, batch_size=my_args.batch_size, shuffle=False)\n",
    "\n",
    "val_loader = torch.utils.data.DataLoader(dataset=val_dataset, batch_size=my_args.batch_size, shuffle=False)\n",
    "\n",
    "examples = iter(train_loader)\n",
    "samples, labels = next(examples)\n",
    "print(samples.shape, labels.shape)"
   ]
  },
  {
   "cell_type": "markdown",
   "id": "8472fab9",
   "metadata": {
    "papermill": {
     "duration": 0.016221,
     "end_time": "2023-10-21T15:17:07.795592",
     "exception": false,
     "start_time": "2023-10-21T15:17:07.779371",
     "status": "completed"
    },
    "tags": []
   },
   "source": [
    "### Class Hierarchy Management"
   ]
  },
  {
   "cell_type": "code",
   "execution_count": 9,
   "id": "7a8add63",
   "metadata": {
    "execution": {
     "iopub.execute_input": "2023-10-21T15:17:07.828653Z",
     "iopub.status.busy": "2023-10-21T15:17:07.828030Z",
     "iopub.status.idle": "2023-10-21T15:17:07.852384Z",
     "shell.execute_reply": "2023-10-21T15:17:07.851337Z"
    },
    "papermill": {
     "duration": 0.043245,
     "end_time": "2023-10-21T15:17:07.854608",
     "exception": false,
     "start_time": "2023-10-21T15:17:07.811363",
     "status": "completed"
    },
    "tags": []
   },
   "outputs": [],
   "source": [
    "def create_superclass(x):\n",
    "    fine_id_coarse_id = {0: 4, 1: 1, 2: 14, 3: 8, 4: 0, 5: 6, 6: 7, 7: 7, 8: 18, 9: 3, 10: 3, 11: 14, 12: 9, 13: 18, 14: 7, 15: 11, 16: 3, 17: 9, 18: 7, 19: 11, 20: 6, 21: 11, 22: 5, 23: 10, 24: 7, 25: 6, 26: 13, 27: 15, 28: 3, 29: 15, 30: 0,\n",
    "                         31: 11, 32: 1, 33: 10, 34: 12, 35: 14, 36: 16,\n",
    "                         37: 9, 38: 11, 39: 5, 40: 5, 41: 19, 42: 8, 43: 8, 44: 15, 45: 13, 46: 14, 47: 17, 48: 18, 49: 10, 50: 16, 51: 4, 52: 17, 53: 4, 54: 2, 55: 0, 56: 17, 57: 4, 58: 18, 59: 17, 60: 10, 61: 3, 62: 2, 63: 12, 64: 12, 65: 16,\n",
    "                         66: 12, 67: 1, 68: 9, 69: 19, 70: 2, 71: 10, 72: 0, 73: 1, 74: 16,\n",
    "                         75: 12, 76: 9, 77: 13, 78: 15, 79: 13, 80: 16, 81: 19, 82: 2, 83: 4, 84: 6, 85: 19, 86: 5, 87: 5, 88: 8, 89: 19, 90: 18, 91: 1, 92: 2, 93: 15, 94: 6, 95: 0, 96: 17, 97: 8, 98: 14, 99: 13}\n",
    "    return fine_id_coarse_id[x]\n",
    "\n",
    "\n",
    "v_create_superclass = np.vectorize(create_superclass)\n",
    "\n",
    "\n",
    "def create_ultraclass(x):\n",
    "    coarse_id_ultra_id = {0: 0, 1: 4, 2: 1, 3: 2, 4: 1, 5: 2, 6: 2, 7: 3, 8: 4, 9: 6, 10: 6, 11: 4, 12: 0, 13: 3, 14: 0, 15: 4, 16: 0, 17: 6, 18: 5, 19: 5}\n",
    "    return coarse_id_ultra_id[x]\n",
    "\n",
    "\n",
    "v_create_ultraclass = np.vectorize(create_ultraclass)\n",
    "\n",
    "\n",
    "def get_labels(idx, level='super'):\n",
    "    labels = {\n",
    "        'ultra': ['mammal', 'plant', 'household', 'invertebrates', 'other animal', 'vehicles', 'nature'],\n",
    "\n",
    "        'super': ['aquatic mammals', 'fish', 'flowers', 'food containers', 'fruit & vegetables',\n",
    "                  'household electrical device', 'household furniture', 'insects', 'large carnivores',\n",
    "                  'large man-made outdoor things', 'large natural outdoor scenes', 'large omnivores and herbivores',\n",
    "                  'medium-sized mammals', 'non-insect invertebrates', 'people', 'reptiles', 'small mammals', 'trees', 'vehicles 1', 'vehicles 2'\n",
    "                  ],\n",
    "        'sub': [\n",
    "            'apple', 'aquarium_fish', 'baby', 'bear', 'beaver', 'bed', 'bee', 'beetle',\n",
    "            'bicycle', 'bottle', 'bowl', 'boy', 'bridge', 'bus', 'butterfly', 'camel',\n",
    "            'can', 'castle', 'caterpillar', 'cattle', 'chair', 'chimpanzee', 'clock',\n",
    "            'cloud', 'cockroach', 'couch', 'crab', 'crocodile', 'cup', 'dinosaur',\n",
    "            'dolphin', 'elephant', 'flatfish', 'forest', 'fox', 'girl', 'hamster',\n",
    "            'house', 'kangaroo', 'keyboard', 'lamp', 'lawn_mower', 'leopard', 'lion',\n",
    "            'lizard', 'lobster', 'man', 'maple_tree', 'motorcycle', 'mountain', 'mouse',\n",
    "            'mushroom', 'oak_tree', 'orange', 'orchid', 'otter', 'palm_tree', 'pear',\n",
    "            'pickup_truck', 'pine_tree', 'plain', 'plate', 'poppy', 'porcupine',\n",
    "            'possum', 'rabbit', 'raccoon', 'ray', 'road', 'rocket', 'rose',\n",
    "            'sea', 'seal', 'shark', 'shrew', 'skunk', 'skyscraper', 'snail', 'snake',\n",
    "            'spider', 'squirrel', 'streetcar', 'sunflower', 'sweet_pepper', 'table',\n",
    "            'tank', 'telephone', 'television', 'tiger', 'tractor', 'train', 'trout',\n",
    "            'tulip', 'turtle', 'wardrobe', 'whale', 'willow_tree', 'wolf', 'woman',\n",
    "            'worm'\n",
    "        ]\n",
    "    }\n",
    "    return labels[level][idx]"
   ]
  },
  {
   "cell_type": "markdown",
   "id": "d255ba86",
   "metadata": {
    "papermill": {
     "duration": 0.015676,
     "end_time": "2023-10-21T15:17:07.885928",
     "exception": false,
     "start_time": "2023-10-21T15:17:07.870252",
     "status": "completed"
    },
    "tags": []
   },
   "source": [
    "### Data Exploration"
   ]
  },
  {
   "cell_type": "code",
   "execution_count": 10,
   "id": "b3d92004",
   "metadata": {
    "execution": {
     "iopub.execute_input": "2023-10-21T15:17:07.919860Z",
     "iopub.status.busy": "2023-10-21T15:17:07.919180Z",
     "iopub.status.idle": "2023-10-21T15:17:07.979904Z",
     "shell.execute_reply": "2023-10-21T15:17:07.978473Z"
    },
    "papermill": {
     "duration": 0.081073,
     "end_time": "2023-10-21T15:17:07.982653",
     "exception": false,
     "start_time": "2023-10-21T15:17:07.901580",
     "status": "completed"
    },
    "tags": []
   },
   "outputs": [
    {
     "name": "stdout",
     "output_type": "stream",
     "text": [
      "chair | household furniture | household | \n",
      "\n",
      "tulip | flowers | plant | \n",
      "\n",
      "possum | medium-sized mammals | mammal | \n",
      "\n",
      "apple | fruit & vegetables | plant | \n",
      "\n",
      "forest | large natural outdoor scenes | nature | \n",
      "\n",
      "orchid | flowers | plant | \n",
      "\n",
      "aquarium_fish | fish | other animal | \n",
      "\n",
      "skyscraper | large man-made outdoor things | nature | \n",
      "\n",
      "mushroom | fruit & vegetables | plant | \n",
      "\n",
      "trout | fish | other animal | \n",
      "\n"
     ]
    }
   ],
   "source": [
    "examples = iter(train_loader)\n",
    "samples, labels = next(examples)\n",
    "\n",
    "sup = v_create_superclass(labels)\n",
    "ult = v_create_ultraclass(sup)\n",
    "\n",
    "levels = [labels, sup, ult]\n",
    "level_names = [\"sub\", \"super\", \"ultra\"]\n",
    "\n",
    "for i in range(10):\n",
    "    for j in range(3):\n",
    "        a = levels[j][i]\n",
    "        print(get_labels(a, level=level_names[j]), end=\" | \")\n",
    "    print(\"\\n\")"
   ]
  },
  {
   "cell_type": "code",
   "execution_count": 11,
   "id": "0df327ba",
   "metadata": {
    "execution": {
     "iopub.execute_input": "2023-10-21T15:17:08.019233Z",
     "iopub.status.busy": "2023-10-21T15:17:08.018875Z",
     "iopub.status.idle": "2023-10-21T15:17:08.030287Z",
     "shell.execute_reply": "2023-10-21T15:17:08.029283Z"
    },
    "papermill": {
     "duration": 0.032067,
     "end_time": "2023-10-21T15:17:08.032981",
     "exception": false,
     "start_time": "2023-10-21T15:17:08.000914",
     "status": "completed"
    },
    "tags": []
   },
   "outputs": [
    {
     "name": "stdout",
     "output_type": "stream",
     "text": [
      "beaver|aquatic mammals|mammal\n",
      "dolphin|aquatic mammals|mammal\n",
      "otter|aquatic mammals|mammal\n",
      "seal|aquatic mammals|mammal\n",
      "whale|aquatic mammals|mammal\n",
      "fox|medium-sized mammals|mammal\n",
      "porcupine|medium-sized mammals|mammal\n",
      "possum|medium-sized mammals|mammal\n",
      "raccoon|medium-sized mammals|mammal\n",
      "skunk|medium-sized mammals|mammal\n",
      "baby|people|mammal\n",
      "boy|people|mammal\n",
      "girl|people|mammal\n",
      "man|people|mammal\n",
      "woman|people|mammal\n",
      "hamster|small mammals|mammal\n",
      "mouse|small mammals|mammal\n",
      "rabbit|small mammals|mammal\n",
      "shrew|small mammals|mammal\n",
      "squirrel|small mammals|mammal\n",
      "orchid|flowers|plant\n",
      "poppy|flowers|plant\n",
      "rose|flowers|plant\n",
      "sunflower|flowers|plant\n",
      "tulip|flowers|plant\n",
      "apple|fruit & vegetables|plant\n",
      "mushroom|fruit & vegetables|plant\n",
      "orange|fruit & vegetables|plant\n",
      "pear|fruit & vegetables|plant\n",
      "sweet_pepper|fruit & vegetables|plant\n",
      "bottle|food containers|household\n",
      "bowl|food containers|household\n",
      "can|food containers|household\n",
      "cup|food containers|household\n",
      "plate|food containers|household\n",
      "clock|household electrical device|household\n",
      "keyboard|household electrical device|household\n",
      "lamp|household electrical device|household\n",
      "telephone|household electrical device|household\n",
      "television|household electrical device|household\n",
      "bed|household furniture|household\n",
      "chair|household furniture|household\n",
      "couch|household furniture|household\n",
      "table|household furniture|household\n",
      "wardrobe|household furniture|household\n",
      "bee|insects|invertebrates\n",
      "beetle|insects|invertebrates\n",
      "butterfly|insects|invertebrates\n",
      "caterpillar|insects|invertebrates\n",
      "cockroach|insects|invertebrates\n",
      "crab|non-insect invertebrates|invertebrates\n",
      "lobster|non-insect invertebrates|invertebrates\n",
      "snail|non-insect invertebrates|invertebrates\n",
      "spider|non-insect invertebrates|invertebrates\n",
      "worm|non-insect invertebrates|invertebrates\n",
      "aquarium_fish|fish|other animal\n",
      "flatfish|fish|other animal\n",
      "ray|fish|other animal\n",
      "shark|fish|other animal\n",
      "trout|fish|other animal\n",
      "bear|large carnivores|other animal\n",
      "leopard|large carnivores|other animal\n",
      "lion|large carnivores|other animal\n",
      "tiger|large carnivores|other animal\n",
      "wolf|large carnivores|other animal\n",
      "camel|large omnivores and herbivores|other animal\n",
      "cattle|large omnivores and herbivores|other animal\n",
      "chimpanzee|large omnivores and herbivores|other animal\n",
      "elephant|large omnivores and herbivores|other animal\n",
      "kangaroo|large omnivores and herbivores|other animal\n",
      "crocodile|reptiles|other animal\n",
      "dinosaur|reptiles|other animal\n",
      "lizard|reptiles|other animal\n",
      "snake|reptiles|other animal\n",
      "turtle|reptiles|other animal\n",
      "bicycle|vehicles 1|vehicles\n",
      "bus|vehicles 1|vehicles\n",
      "motorcycle|vehicles 1|vehicles\n",
      "pickup_truck|vehicles 1|vehicles\n",
      "train|vehicles 1|vehicles\n",
      "lawn_mower|vehicles 2|vehicles\n",
      "rocket|vehicles 2|vehicles\n",
      "streetcar|vehicles 2|vehicles\n",
      "tank|vehicles 2|vehicles\n",
      "tractor|vehicles 2|vehicles\n",
      "bridge|large man-made outdoor things|nature\n",
      "castle|large man-made outdoor things|nature\n",
      "house|large man-made outdoor things|nature\n",
      "road|large man-made outdoor things|nature\n",
      "skyscraper|large man-made outdoor things|nature\n",
      "cloud|large natural outdoor scenes|nature\n",
      "forest|large natural outdoor scenes|nature\n",
      "mountain|large natural outdoor scenes|nature\n",
      "plain|large natural outdoor scenes|nature\n",
      "sea|large natural outdoor scenes|nature\n",
      "maple_tree|trees|nature\n",
      "oak_tree|trees|nature\n",
      "palm_tree|trees|nature\n",
      "pine_tree|trees|nature\n",
      "willow_tree|trees|nature\n"
     ]
    }
   ],
   "source": [
    "labs = range(100)\n",
    "\n",
    "#sorted by index - ultra class first key, superclass second\n",
    "sorted_labels = sorted(labs, key= lambda x: (create_ultraclass(create_superclass(x)), create_superclass(x)))\n",
    "\n",
    "for i in sorted_labels:\n",
    "    print(f\"{get_labels(i, 'sub')}|{get_labels(create_superclass(i), 'super')}|{get_labels(create_ultraclass(create_superclass(i)), 'ultra')}\")"
   ]
  },
  {
   "cell_type": "code",
   "execution_count": 12,
   "id": "a616c12b",
   "metadata": {
    "execution": {
     "iopub.execute_input": "2023-10-21T15:17:08.066943Z",
     "iopub.status.busy": "2023-10-21T15:17:08.066204Z",
     "iopub.status.idle": "2023-10-21T15:17:08.074783Z",
     "shell.execute_reply": "2023-10-21T15:17:08.073574Z"
    },
    "papermill": {
     "duration": 0.027853,
     "end_time": "2023-10-21T15:17:08.077078",
     "exception": false,
     "start_time": "2023-10-21T15:17:08.049225",
     "status": "completed"
    },
    "tags": []
   },
   "outputs": [
    {
     "name": "stdout",
     "output_type": "stream",
     "text": [
      "mammal     \t         20\n",
      "____________________________\n",
      "plant      \t         10\n",
      "____________________________\n",
      "household  \t         15\n",
      "____________________________\n",
      "invertebrates \t         10\n",
      "____________________________\n",
      "other animal \t         20\n",
      "____________________________\n",
      "vehicles   \t         10\n",
      "____________________________\n",
      "nature     \t         15\n",
      "____________________________\n"
     ]
    }
   ],
   "source": [
    "ult = v_create_ultraclass(v_create_superclass(sorted_labels))\n",
    "\n",
    "for i in np.unique(ult):\n",
    "    print(f'{get_labels(i, \"ultra\"):<10} \\t {list(ult).count(i):>10}\\n____________________________')"
   ]
  },
  {
   "cell_type": "code",
   "execution_count": 13,
   "id": "f8b1b5be",
   "metadata": {
    "execution": {
     "iopub.execute_input": "2023-10-21T15:17:08.111878Z",
     "iopub.status.busy": "2023-10-21T15:17:08.111327Z",
     "iopub.status.idle": "2023-10-21T15:17:08.709034Z",
     "shell.execute_reply": "2023-10-21T15:17:08.707948Z"
    },
    "id": "kYLFopdnhHRh",
    "outputId": "f0a83751-783b-4d37-8315-bf1193f45479",
    "papermill": {
     "duration": 0.620786,
     "end_time": "2023-10-21T15:17:08.714578",
     "exception": false,
     "start_time": "2023-10-21T15:17:08.093792",
     "status": "completed"
    },
    "tags": []
   },
   "outputs": [
    {
     "data": {
      "image/png": "[encoded data removed]",
      "text/plain": [
       "<Figure size 640x480 with 1 Axes>"
      ]
     },
     "metadata": {},
     "output_type": "display_data"
    },
    {
     "name": "stdout",
     "output_type": "stream",
     "text": [
      "chair | tulip | possum | apple | forest | orchid | aquarium_fish | skyscraper\n",
      "mushroom | trout | rabbit | camel | girl  | tank  | pine_tree | castle\n",
      "snake | kangaroo | tiger | lobster | spider | trout | squirrel | bee  \n",
      "wardrobe | willow_tree | bee   | bus   | lion  | can   | worm  | telephone\n",
      "\n"
     ]
    }
   ],
   "source": [
    "def imshow(img):\n",
    "    img = img / 2 + 0.5     # unnormalize\n",
    "    npimg = img.numpy()\n",
    "    plt.imshow(np.transpose(npimg, (1, 2, 0)))\n",
    "    plt.show()\n",
    "\n",
    "# show images\n",
    "imshow(torchvision.utils.make_grid(samples))\n",
    "# print labels\n",
    "\n",
    "def line_break(x):\n",
    "    return [' | ', \"\\n\"][(x+1) % 8 == 0 and x>0]\n",
    "    \n",
    "print(''.join(f'{get_labels(labels[i], \"sub\"):5s}{line_break(i)}' for i in range(len(labels))))"
   ]
  },
  {
   "cell_type": "markdown",
   "id": "f89817b2",
   "metadata": {
    "papermill": {
     "duration": 0.019425,
     "end_time": "2023-10-21T15:17:08.753949",
     "exception": false,
     "start_time": "2023-10-21T15:17:08.734524",
     "status": "completed"
    },
    "tags": []
   },
   "source": [
    "### Training 1 epoch, Test, Inference Functions"
   ]
  },
  {
   "cell_type": "code",
   "execution_count": 14,
   "id": "be133f25",
   "metadata": {
    "execution": {
     "iopub.execute_input": "2023-10-21T15:17:08.795613Z",
     "iopub.status.busy": "2023-10-21T15:17:08.794861Z",
     "iopub.status.idle": "2023-10-21T15:17:08.800135Z",
     "shell.execute_reply": "2023-10-21T15:17:08.799060Z"
    },
    "id": "7MIrauh72_dg",
    "papermill": {
     "duration": 0.02875,
     "end_time": "2023-10-21T15:17:08.802541",
     "exception": false,
     "start_time": "2023-10-21T15:17:08.773791",
     "status": "completed"
    },
    "tags": []
   },
   "outputs": [],
   "source": [
    "criterion_mean = nn.CrossEntropyLoss(reduction='mean')\n",
    "criterion_sum = nn.CrossEntropyLoss(reduction='sum')"
   ]
  },
  {
   "cell_type": "code",
   "execution_count": 15,
   "id": "7aafdd45",
   "metadata": {
    "execution": {
     "iopub.execute_input": "2023-10-21T15:17:08.844118Z",
     "iopub.status.busy": "2023-10-21T15:17:08.843321Z",
     "iopub.status.idle": "2023-10-21T15:17:08.860598Z",
     "shell.execute_reply": "2023-10-21T15:17:08.859617Z"
    },
    "id": "JFh1TuVGsEgD",
    "papermill": {
     "duration": 0.039731,
     "end_time": "2023-10-21T15:17:08.862843",
     "exception": false,
     "start_time": "2023-10-21T15:17:08.823112",
     "status": "completed"
    },
    "tags": []
   },
   "outputs": [],
   "source": [
    "def train_epoch_cnn(model, train_loader, optimizer, args, print_reduce=False):\n",
    "\n",
    "    model.train()  # set model to training mode (activate dropout layers for example)\n",
    "    t = time.time() # we measure the needed time\n",
    "    for batch_idx, (data, target) in enumerate(train_loader):  # iterate over training data\n",
    "        data, target = data.to(args.device), target.to(args.device)  # move data to device (GPU) if necessary\n",
    "        optimizer.zero_grad()  # reset optimizer\n",
    "        output = model(data)   # forward pass: calculate output of network for input\n",
    "        loss = criterion_mean(output, target)  # calculate loss\n",
    "        loss.backward()  # backward pass: calculate gradients using automatic diff. and backprop.\n",
    "        optimizer.step()  # udpate parameters of network using our optimizer\n",
    "        cur_time = time.time()\n",
    "        # print some outputs if we reached our logging intervall\n",
    "        if cur_time - t > args.log_interval or batch_idx == len(train_loader)-1:\n",
    "            if not print_reduce:\n",
    "                print(f\"[{batch_idx * len(data):.0f}/{len(train_loader.dataset)} ({100. * batch_idx / len(train_loader):.0f}%)]\\tloss: {loss.item():.6f}, took {cur_time - t:.2f}s\")\n",
    "            t = cur_time\n",
    "\n",
    "def test_cnn(model, test_loader, args):\n",
    "\n",
    "    model.eval()  # set model to inference mode (deactivate dropout layers for example)\n",
    "    test_loss = 0  # init overall loss\n",
    "    correct = 0\n",
    "    total = 0\n",
    "    \n",
    "    with torch.no_grad():  # do not calculate gradients since we do not want to do updates\n",
    "        \n",
    "        for data, target in test_loader:  # iterate over test data\n",
    "            data, target = data.to(args.device), target.to(args.device)  # move data to device \n",
    "            output = model(data) # forward pass\n",
    "            # claculate loss and add it to our cumulative loss\n",
    "            test_loss += criterion_mean(output, target).item()\n",
    "            \n",
    "            _, predicted = torch.max(output.data, 1)\n",
    "            total += target.size(0)\n",
    "            correct += (predicted == target).sum().item()\n",
    "            \n",
    "    test_loss /= len(test_loader.dataset)  # calc mean loss\n",
    "    test_acc = (100 * correct / total)\n",
    "    \n",
    "    print('Average eval loss: {:.4f}'.format(test_loss, len(test_loader.dataset)))\n",
    "    print('Eval accuracy: {:.4f}%\\n'.format(test_acc))\n",
    "    return test_loss\n",
    "\n",
    "\n",
    "def inference_cnn(model, data, args):\n",
    "    model.eval()   # set model to inference mode\n",
    "    in_shape = data.shape\n",
    "    side = int((args.context - 1) / 2)\n",
    "    outlen = in_shape[0] - 2 * side\n",
    "    output = np.zeros((in_shape[0], args.out_num))\n",
    "    data = torch.from_numpy(data[None, :, :]) \n",
    "    data = data.to(args.device) # move input to device\n",
    "    with torch.no_grad(): # do not calculate gradients\n",
    "        for idx in range(outlen): # iterate over input data\n",
    "            # calculate output for input data (and move back from device)\n",
    "            output[idx+side, :] = model(data[:, idx:(idx + args.context), :])[0, :].cpu()\n",
    "    return output"
   ]
  },
  {
   "cell_type": "markdown",
   "id": "04950683",
   "metadata": {
    "papermill": {
     "duration": 0.019266,
     "end_time": "2023-10-21T15:17:08.901283",
     "exception": false,
     "start_time": "2023-10-21T15:17:08.882017",
     "status": "completed"
    },
    "tags": []
   },
   "source": [
    "## Training"
   ]
  },
  {
   "cell_type": "code",
   "execution_count": 16,
   "id": "64a7fc39",
   "metadata": {
    "execution": {
     "iopub.execute_input": "2023-10-21T15:17:08.941291Z",
     "iopub.status.busy": "2023-10-21T15:17:08.940667Z",
     "iopub.status.idle": "2023-10-21T15:17:09.373637Z",
     "shell.execute_reply": "2023-10-21T15:17:09.372725Z"
    },
    "id": "YC9gv464zZsg",
    "papermill": {
     "duration": 0.45613,
     "end_time": "2023-10-21T15:17:09.376343",
     "exception": false,
     "start_time": "2023-10-21T15:17:08.920213",
     "status": "completed"
    },
    "tags": []
   },
   "outputs": [],
   "source": [
    "def train_cnn(smoke_test=False, args=my_args, model_arg=AlexNet(), name=\"undefined\", datekey=\"000101\", save=True, save_folder=\"/kaggle/working/models\", loss_limit=0.1, print_reduce=False):\n",
    "    \n",
    "    if smoke_test:\n",
    "        max_epochs = 2\n",
    "    else:\n",
    "        max_epochs = args.max_epochs\n",
    "    \n",
    "    torch.manual_seed(args.seed)\n",
    "    device = args.device\n",
    "    \n",
    "    model = model_arg.to(device)\n",
    "    \n",
    "    from torch.optim import SGD\n",
    "    optimizer = SGD(model.parameters(), lr=args.lr, momentum=args.momentum)\n",
    "    \n",
    "    #kwargs = {'num_workers': 2, 'pin_memory': True}\n",
    "    \n",
    "    best_valid_loss = 9999.\n",
    "    cur_patience = args.patience\n",
    "    print(f\"Training {name}#seed_{args.seed}\")\n",
    "    start_t = time.time()\n",
    "    \n",
    "    for epoch in range(1,max_epochs):\n",
    "        print(f\"Model: {name.capitalize()}\")\n",
    "        print(f\"Epoch: {epoch}\")\n",
    "        print(f\"Best validation loss: {best_valid_loss:.4f}\")\n",
    "        print(f\"Patience: {cur_patience}\")\n",
    "\n",
    "        train_epoch_cnn(model, train_loader, optimizer, args, print_reduce=print_reduce)\n",
    "        \n",
    "        cur_valid_loss = test_cnn(model, val_loader, args)\n",
    "        \n",
    "        if cur_valid_loss<best_valid_loss:\n",
    "            best_valid_loss=cur_valid_loss\n",
    "            cur_patience=args.patience\n",
    "        else:\n",
    "            cur_patience-=1\n",
    "            \n",
    "        if cur_patience<=0 or best_valid_loss<loss_limit:\n",
    "            print(f\"Best validation loss: {best_valid_loss:.4f}\")\n",
    "            if save and best_valid_loss<loss_limit:\n",
    "                torch.save(model, f\"{save_folder}/{datekey}_{name}#seed_{args.seed}-epoch-{str(epoch)}_FINAL\")\n",
    "            break\n",
    "        \n",
    "        if save:\n",
    "            torch.save(model, f\"{save_folder}/{datekey}_{name}#seed_{args.seed}-epoch-{str(epoch)}\")\n",
    "    \n",
    "    print('Trainig took: {:.2f}s for {} epochs'.format(time.time()-start_t, epoch))\n",
    "    print('Testing...')\n",
    "    test_loss = test_cnn(model, test_loader, args)\n",
    "    \n",
    "    return model"
   ]
  },
  {
   "cell_type": "markdown",
   "id": "64045f44",
   "metadata": {
    "papermill": {
     "duration": 0.020155,
     "end_time": "2023-10-21T15:17:09.416796",
     "exception": false,
     "start_time": "2023-10-21T15:17:09.396641",
     "status": "completed"
    },
    "tags": []
   },
   "source": [
    "### Directory Management"
   ]
  },
  {
   "cell_type": "code",
   "execution_count": 17,
   "id": "1179d3d2",
   "metadata": {
    "execution": {
     "iopub.execute_input": "2023-10-21T15:17:09.457463Z",
     "iopub.status.busy": "2023-10-21T15:17:09.456875Z",
     "iopub.status.idle": "2023-10-21T15:17:09.461586Z",
     "shell.execute_reply": "2023-10-21T15:17:09.460588Z"
    },
    "papermill": {
     "duration": 0.02754,
     "end_time": "2023-10-21T15:17:09.463811",
     "exception": false,
     "start_time": "2023-10-21T15:17:09.436271",
     "status": "completed"
    },
    "tags": []
   },
   "outputs": [],
   "source": [
    "if not os.path.exists('/kaggle/working/models'):\n",
    "    os.makedirs('/kaggle/working/models')"
   ]
  },
  {
   "cell_type": "code",
   "execution_count": 18,
   "id": "8d227bb7",
   "metadata": {
    "execution": {
     "iopub.execute_input": "2023-10-21T15:17:09.504849Z",
     "iopub.status.busy": "2023-10-21T15:17:09.504315Z",
     "iopub.status.idle": "2023-10-21T15:17:09.508794Z",
     "shell.execute_reply": "2023-10-21T15:17:09.507786Z"
    },
    "papermill": {
     "duration": 0.027844,
     "end_time": "2023-10-21T15:17:09.511020",
     "exception": false,
     "start_time": "2023-10-21T15:17:09.483176",
     "status": "completed"
    },
    "tags": []
   },
   "outputs": [],
   "source": [
    "os.chdir(r'/kaggle/working')"
   ]
  },
  {
   "cell_type": "markdown",
   "id": "cdac0730",
   "metadata": {
    "papermill": {
     "duration": 0.020004,
     "end_time": "2023-10-21T15:17:09.551728",
     "exception": false,
     "start_time": "2023-10-21T15:17:09.531724",
     "status": "completed"
    },
    "tags": []
   },
   "source": [
    "### Experiment Function"
   ]
  },
  {
   "cell_type": "code",
   "execution_count": 19,
   "id": "414bde7a",
   "metadata": {
    "execution": {
     "iopub.execute_input": "2023-10-21T15:17:09.592458Z",
     "iopub.status.busy": "2023-10-21T15:17:09.592102Z",
     "iopub.status.idle": "2023-10-21T15:17:09.600879Z",
     "shell.execute_reply": "2023-10-21T15:17:09.599850Z"
    },
    "papermill": {
     "duration": 0.031645,
     "end_time": "2023-10-21T15:17:09.602978",
     "exception": false,
     "start_time": "2023-10-21T15:17:09.571333",
     "status": "completed"
    },
    "tags": []
   },
   "outputs": [],
   "source": [
    "def experiment(rounds=5, modified_only=False):\n",
    "    experiment_start = time.time()\n",
    "    \n",
    "    datekey = dtm.now().strftime(\"%y-%m-%d_%H-%M\")\n",
    "    \n",
    "    for i in range(rounds):\n",
    "        round_start = time.time()\n",
    "        \n",
    "        my_args = ArgObj(seed=(i+1)*111)\n",
    "        \n",
    "        if not modified_only:\n",
    "            trained_model1 = train_cnn(args=my_args, model_arg=AlexNet(), name = \"original\", datekey=datekey)\n",
    "        \n",
    "        trained_model2 = train_cnn(args=my_args, model_arg=AlexNet_mod(), name= \"modified\", datekey=datekey)\n",
    "        \n",
    "        round_end = time.time()\n",
    "        round_duration = round_end-round_start\n",
    "        \n",
    "        print(f\"Round {i+1} duration: {datetime.timedelta(seconds=round_duration)}\")\n",
    "    \n",
    "    experiment_end = time.time()\n",
    "    experiment_duration = experiment_end-experiment_start\n",
    "    \n",
    "    print(f\"Full experiment duration: {datetime.timedelta(seconds=experiment_duration)}\")\n",
    "    \n",
    "    #cm = evaluate(trained_model1)"
   ]
  },
  {
   "cell_type": "code",
   "execution_count": 20,
   "id": "7216d7c7",
   "metadata": {
    "execution": {
     "iopub.execute_input": "2023-10-21T15:17:09.644034Z",
     "iopub.status.busy": "2023-10-21T15:17:09.643233Z",
     "iopub.status.idle": "2023-10-21T15:17:09.649783Z",
     "shell.execute_reply": "2023-10-21T15:17:09.648789Z"
    },
    "papermill": {
     "duration": 0.029283,
     "end_time": "2023-10-21T15:17:09.651877",
     "exception": false,
     "start_time": "2023-10-21T15:17:09.622594",
     "status": "completed"
    },
    "tags": []
   },
   "outputs": [],
   "source": [
    "def try_new_mod():\n",
    "    my_args=ArgObj(lr=0.01)\n",
    "\n",
    "    for i in range(5):\n",
    "        my_args=ArgObj(seed=(i+1)*111)\n",
    "        trained_model1 = train_cnn(args=my_args, model_arg=AlexNet_mod(), save=False, name=\"Tanh\", print_reduce=True)\n",
    "        trained_model2 = train_cnn(args=my_args, model_arg=AlexNet(), save=False, name=\"ReLU\", print_reduce=True)"
   ]
  },
  {
   "cell_type": "code",
   "execution_count": 21,
   "id": "34508ff1",
   "metadata": {
    "execution": {
     "iopub.execute_input": "2023-10-21T15:17:09.692882Z",
     "iopub.status.busy": "2023-10-21T15:17:09.692591Z",
     "iopub.status.idle": "2023-10-21T15:17:09.696742Z",
     "shell.execute_reply": "2023-10-21T15:17:09.695768Z"
    },
    "papermill": {
     "duration": 0.027406,
     "end_time": "2023-10-21T15:17:09.698921",
     "exception": false,
     "start_time": "2023-10-21T15:17:09.671515",
     "status": "completed"
    },
    "tags": []
   },
   "outputs": [],
   "source": [
    "#try_new_mod()"
   ]
  },
  {
   "cell_type": "code",
   "execution_count": 22,
   "id": "c3c4d50e",
   "metadata": {
    "execution": {
     "iopub.execute_input": "2023-10-21T15:17:09.741117Z",
     "iopub.status.busy": "2023-10-21T15:17:09.740161Z",
     "iopub.status.idle": "2023-10-21T15:17:09.744372Z",
     "shell.execute_reply": "2023-10-21T15:17:09.743519Z"
    },
    "papermill": {
     "duration": 0.027797,
     "end_time": "2023-10-21T15:17:09.746684",
     "exception": false,
     "start_time": "2023-10-21T15:17:09.718887",
     "status": "completed"
    },
    "tags": []
   },
   "outputs": [],
   "source": [
    "#experiment()"
   ]
  },
  {
   "cell_type": "markdown",
   "id": "62a55638",
   "metadata": {
    "papermill": {
     "duration": 0.019484,
     "end_time": "2023-10-21T15:17:09.786222",
     "exception": false,
     "start_time": "2023-10-21T15:17:09.766738",
     "status": "completed"
    },
    "tags": []
   },
   "source": [
    "### Download models"
   ]
  },
  {
   "cell_type": "code",
   "execution_count": 23,
   "id": "4ca1d08e",
   "metadata": {
    "execution": {
     "iopub.execute_input": "2023-10-21T15:17:09.827230Z",
     "iopub.status.busy": "2023-10-21T15:17:09.826430Z",
     "iopub.status.idle": "2023-10-21T15:17:09.830394Z",
     "shell.execute_reply": "2023-10-21T15:17:09.829557Z"
    },
    "papermill": {
     "duration": 0.026437,
     "end_time": "2023-10-21T15:17:09.832553",
     "exception": false,
     "start_time": "2023-10-21T15:17:09.806116",
     "status": "completed"
    },
    "tags": []
   },
   "outputs": [],
   "source": [
    "#shutil.make_archive(\"/kaggle/working/out\", 'zip', \"/kaggle/working/models\")\n",
    "#display(FileLink('out.zip'))"
   ]
  },
  {
   "cell_type": "markdown",
   "id": "446f0d1d",
   "metadata": {
    "papermill": {
     "duration": 0.019251,
     "end_time": "2023-10-21T15:17:09.871660",
     "exception": false,
     "start_time": "2023-10-21T15:17:09.852409",
     "status": "completed"
    },
    "tags": []
   },
   "source": [
    "### Remove Files"
   ]
  },
  {
   "cell_type": "code",
   "execution_count": 24,
   "id": "2340594c",
   "metadata": {
    "execution": {
     "iopub.execute_input": "2023-10-21T15:17:09.912496Z",
     "iopub.status.busy": "2023-10-21T15:17:09.911976Z",
     "iopub.status.idle": "2023-10-21T15:17:09.918335Z",
     "shell.execute_reply": "2023-10-21T15:17:09.917333Z"
    },
    "papermill": {
     "duration": 0.029139,
     "end_time": "2023-10-21T15:17:09.920489",
     "exception": false,
     "start_time": "2023-10-21T15:17:09.891350",
     "status": "completed"
    },
    "tags": []
   },
   "outputs": [],
   "source": [
    "def remove_folder_contents(folder):\n",
    "    for the_file in os.listdir(folder):\n",
    "        file_path = os.path.join(folder, the_file)\n",
    "        try:\n",
    "            if os.path.isfile(file_path):\n",
    "                os.unlink(file_path)\n",
    "            elif os.path.isdir(file_path):\n",
    "                remove_folder_contents(file_path)\n",
    "                os.rmdir(file_path)\n",
    "        except Exception as e:\n",
    "            print(e)"
   ]
  },
  {
   "cell_type": "code",
   "execution_count": 25,
   "id": "357c737f",
   "metadata": {
    "execution": {
     "iopub.execute_input": "2023-10-21T15:17:09.960527Z",
     "iopub.status.busy": "2023-10-21T15:17:09.959936Z",
     "iopub.status.idle": "2023-10-21T15:17:09.963976Z",
     "shell.execute_reply": "2023-10-21T15:17:09.963044Z"
    },
    "papermill": {
     "duration": 0.026633,
     "end_time": "2023-10-21T15:17:09.966187",
     "exception": false,
     "start_time": "2023-10-21T15:17:09.939554",
     "status": "completed"
    },
    "tags": []
   },
   "outputs": [],
   "source": [
    "#remove_folder_contents(\"./models\")"
   ]
  },
  {
   "cell_type": "code",
   "execution_count": 26,
   "id": "9a31971f",
   "metadata": {
    "execution": {
     "iopub.execute_input": "2023-10-21T15:17:10.007654Z",
     "iopub.status.busy": "2023-10-21T15:17:10.007088Z",
     "iopub.status.idle": "2023-10-21T15:17:10.012324Z",
     "shell.execute_reply": "2023-10-21T15:17:10.011381Z"
    },
    "papermill": {
     "duration": 0.028735,
     "end_time": "2023-10-21T15:17:10.014722",
     "exception": false,
     "start_time": "2023-10-21T15:17:09.985987",
     "status": "completed"
    },
    "tags": []
   },
   "outputs": [],
   "source": [
    "def remove_specific_seed_files(folder, seed):\n",
    "    for the_file in os.listdir(folder):\n",
    "        if f\"seed_{str(seed)}\" in the_file:\n",
    "            file_path = os.path.join(folder, the_file)\n",
    "            os.unlink(file_path)"
   ]
  },
  {
   "cell_type": "code",
   "execution_count": 27,
   "id": "458d971f",
   "metadata": {
    "execution": {
     "iopub.execute_input": "2023-10-21T15:17:10.056977Z",
     "iopub.status.busy": "2023-10-21T15:17:10.056397Z",
     "iopub.status.idle": "2023-10-21T15:17:10.060626Z",
     "shell.execute_reply": "2023-10-21T15:17:10.059550Z"
    },
    "papermill": {
     "duration": 0.027114,
     "end_time": "2023-10-21T15:17:10.062814",
     "exception": false,
     "start_time": "2023-10-21T15:17:10.035700",
     "status": "completed"
    },
    "tags": []
   },
   "outputs": [],
   "source": [
    "#remove_specific_seed_files(\"./models\", 111)"
   ]
  },
  {
   "cell_type": "code",
   "execution_count": 28,
   "id": "6e1596d0",
   "metadata": {
    "execution": {
     "iopub.execute_input": "2023-10-21T15:17:10.105238Z",
     "iopub.status.busy": "2023-10-21T15:17:10.104535Z",
     "iopub.status.idle": "2023-10-21T15:17:10.109369Z",
     "shell.execute_reply": "2023-10-21T15:17:10.108435Z"
    },
    "papermill": {
     "duration": 0.028343,
     "end_time": "2023-10-21T15:17:10.111611",
     "exception": false,
     "start_time": "2023-10-21T15:17:10.083268",
     "status": "completed"
    },
    "tags": []
   },
   "outputs": [],
   "source": [
    "for the_file in os.listdir(\"./models\"):\n",
    "    if f\"seed_{111}\" in the_file:\n",
    "        print(the_file)"
   ]
  },
  {
   "cell_type": "markdown",
   "id": "4c183b87",
   "metadata": {
    "papermill": {
     "duration": 0.018995,
     "end_time": "2023-10-21T15:17:10.149729",
     "exception": false,
     "start_time": "2023-10-21T15:17:10.130734",
     "status": "completed"
    },
    "tags": []
   },
   "source": [
    "### Trained Models Dictionary"
   ]
  },
  {
   "cell_type": "code",
   "execution_count": 29,
   "id": "f5481f3c",
   "metadata": {
    "execution": {
     "iopub.execute_input": "2023-10-21T15:17:10.189847Z",
     "iopub.status.busy": "2023-10-21T15:17:10.189554Z",
     "iopub.status.idle": "2023-10-21T15:17:10.196942Z",
     "shell.execute_reply": "2023-10-21T15:17:10.195946Z"
    },
    "papermill": {
     "duration": 0.030027,
     "end_time": "2023-10-21T15:17:10.199284",
     "exception": false,
     "start_time": "2023-10-21T15:17:10.169257",
     "status": "completed"
    },
    "tags": []
   },
   "outputs": [],
   "source": [
    "def find_final(seed, folder=\"./models\"):\n",
    "    original_model = None\n",
    "    modified_model = None\n",
    "    \n",
    "    for the_file in os.listdir(folder):\n",
    "        \n",
    "        if f\"seed_{seed}\" in the_file and \"FINAL\" in the_file:\n",
    "            file_path = os.path.join(folder, the_file)\n",
    "            if \"original\" in the_file:\n",
    "                original_model = torch.load(file_path, map_location=torch.device('cpu'))\n",
    "            elif \"modified\" in the_file:\n",
    "                modified_model = torch.load(file_path, map_location=torch.device('cpu'))\n",
    "                \n",
    "    if original_model == None or modified_model == None:\n",
    "        return 0\n",
    "    else:\n",
    "        return original_model, modified_model"
   ]
  },
  {
   "cell_type": "code",
   "execution_count": 30,
   "id": "887a9dbc",
   "metadata": {
    "execution": {
     "iopub.execute_input": "2023-10-21T15:17:10.242458Z",
     "iopub.status.busy": "2023-10-21T15:17:10.241729Z",
     "iopub.status.idle": "2023-10-21T15:17:10.249017Z",
     "shell.execute_reply": "2023-10-21T15:17:10.248057Z"
    },
    "papermill": {
     "duration": 0.031111,
     "end_time": "2023-10-21T15:17:10.251207",
     "exception": false,
     "start_time": "2023-10-21T15:17:10.220096",
     "status": "completed"
    },
    "tags": []
   },
   "outputs": [],
   "source": [
    "trained_models = {\n",
    "    \"original\":[],\n",
    "    \"modified\":[],\n",
    "    \"seeds\":[]\n",
    "}\n",
    "\n",
    "for i in range(5):\n",
    "    seed=(i+1)*111\n",
    "    loaded_models = find_final(seed=seed)\n",
    "    \n",
    "    if loaded_models != 0:\n",
    "        orig, mod = loaded_models\n",
    "        trained_models[\"original\"].append(orig)\n",
    "        trained_models[\"modified\"].append(mod)\n",
    "        trained_models[\"seeds\"].append(seed)"
   ]
  },
  {
   "cell_type": "code",
   "execution_count": 31,
   "id": "132df97a",
   "metadata": {
    "execution": {
     "iopub.execute_input": "2023-10-21T15:17:10.293073Z",
     "iopub.status.busy": "2023-10-21T15:17:10.292435Z",
     "iopub.status.idle": "2023-10-21T15:17:10.296741Z",
     "shell.execute_reply": "2023-10-21T15:17:10.295720Z"
    },
    "papermill": {
     "duration": 0.027873,
     "end_time": "2023-10-21T15:17:10.299075",
     "exception": false,
     "start_time": "2023-10-21T15:17:10.271202",
     "status": "completed"
    },
    "tags": []
   },
   "outputs": [],
   "source": [
    "#trained_models"
   ]
  },
  {
   "cell_type": "markdown",
   "id": "09490976",
   "metadata": {
    "papermill": {
     "duration": 0.020489,
     "end_time": "2023-10-21T15:17:10.339420",
     "exception": false,
     "start_time": "2023-10-21T15:17:10.318931",
     "status": "completed"
    },
    "tags": []
   },
   "source": [
    "### Evaluate Function"
   ]
  },
  {
   "cell_type": "code",
   "execution_count": 32,
   "id": "8da431fa",
   "metadata": {
    "execution": {
     "iopub.execute_input": "2023-10-21T15:17:10.380373Z",
     "iopub.status.busy": "2023-10-21T15:17:10.380053Z",
     "iopub.status.idle": "2023-10-21T15:17:10.384831Z",
     "shell.execute_reply": "2023-10-21T15:17:10.383965Z"
    },
    "papermill": {
     "duration": 0.027296,
     "end_time": "2023-10-21T15:17:10.386954",
     "exception": false,
     "start_time": "2023-10-21T15:17:10.359658",
     "status": "completed"
    },
    "tags": []
   },
   "outputs": [],
   "source": [
    "def class_max(input):\n",
    "    return (torch.max(torch.exp(input), 1)[1]).data.cpu().numpy()"
   ]
  },
  {
   "cell_type": "code",
   "execution_count": 33,
   "id": "44e4dfb2",
   "metadata": {
    "execution": {
     "iopub.execute_input": "2023-10-21T15:17:10.426558Z",
     "iopub.status.busy": "2023-10-21T15:17:10.426211Z",
     "iopub.status.idle": "2023-10-21T15:17:10.437192Z",
     "shell.execute_reply": "2023-10-21T15:17:10.436054Z"
    },
    "papermill": {
     "duration": 0.033358,
     "end_time": "2023-10-21T15:17:10.439789",
     "exception": false,
     "start_time": "2023-10-21T15:17:10.406431",
     "status": "completed"
    },
    "tags": []
   },
   "outputs": [],
   "source": [
    "def evaluate_iteration(model):\n",
    "    \n",
    "    results={\"precision_macro\":0,\n",
    "            \"recall_macro\":0,\n",
    "            \"sub_acc\":0,\n",
    "            \"super_acc\":0,\n",
    "            \"ultra_acc\":0}\n",
    "    \n",
    "    y_pred = np.array([])\n",
    "    y_true = np.array([])\n",
    "    \n",
    "    for data, target in test_loader:\n",
    "            model = model.to(\"cpu\")\n",
    "            \n",
    "            target = target.numpy()\n",
    "            \n",
    "            output = model(data)\n",
    "            output = class_max(output)\n",
    "            \n",
    "            y_pred = np.append(y_pred, output)\n",
    "            y_true = np.append(y_true, target)\n",
    "            \n",
    "            #total += len(target)\n",
    "            #correct += (predicted == target).sum().item()\n",
    "\n",
    "    results[\"precision_macro\"] = precision_score(y_true, y_pred, average=\"macro\", zero_division=0)\n",
    "    results[\"recall_macro\"] = recall_score(y_true, y_pred, average=\"macro\", zero_division=0)\n",
    "    \n",
    "    results[\"sub_acc\"] = sum(y_true==y_pred)/len(y_true)\n",
    "    results[\"super_acc\"] = sum(v_create_superclass(y_true)==v_create_superclass(y_pred))/len(y_true)\n",
    "    results[\"ultra_acc\"] = sum(v_create_ultraclass(v_create_superclass(y_true))==v_create_ultraclass(v_create_superclass(y_pred)))/len(y_true)\n",
    "    \n",
    "    return results"
   ]
  },
  {
   "cell_type": "code",
   "execution_count": 34,
   "id": "20781b38",
   "metadata": {
    "execution": {
     "iopub.execute_input": "2023-10-21T15:17:10.480034Z",
     "iopub.status.busy": "2023-10-21T15:17:10.479398Z",
     "iopub.status.idle": "2023-10-21T15:17:10.483339Z",
     "shell.execute_reply": "2023-10-21T15:17:10.482327Z"
    },
    "papermill": {
     "duration": 0.02611,
     "end_time": "2023-10-21T15:17:10.485445",
     "exception": false,
     "start_time": "2023-10-21T15:17:10.459335",
     "status": "completed"
    },
    "tags": []
   },
   "outputs": [],
   "source": [
    "#evaluate_iteration(trained_models[\"original\"][0])"
   ]
  },
  {
   "cell_type": "code",
   "execution_count": 35,
   "id": "1a1c5ba6",
   "metadata": {
    "execution": {
     "iopub.execute_input": "2023-10-21T15:17:10.526661Z",
     "iopub.status.busy": "2023-10-21T15:17:10.525880Z",
     "iopub.status.idle": "2023-10-21T15:17:10.537752Z",
     "shell.execute_reply": "2023-10-21T15:17:10.536752Z"
    },
    "papermill": {
     "duration": 0.034822,
     "end_time": "2023-10-21T15:17:10.539935",
     "exception": false,
     "start_time": "2023-10-21T15:17:10.505113",
     "status": "completed"
    },
    "tags": []
   },
   "outputs": [],
   "source": [
    "def evaluate_all():\n",
    "    my_dict={\"orig\":[],\n",
    "            \"mod\":[],\n",
    "            \"seeds\":[]}\n",
    "    \n",
    "    cnt=len(trained_models[\"seeds\"])\n",
    "    \n",
    "    for i in range(cnt):\n",
    "        my_dict[\"orig\"].append(evaluate_iteration(trained_models[\"original\"][i]))\n",
    "        my_dict[\"mod\"].append(evaluate_iteration(trained_models[\"modified\"][i]))\n",
    "        my_dict[\"seeds\"].append(trained_models[\"seeds\"][i])\n",
    "        \n",
    "    for i in range(cnt):\n",
    "        print(f\"Seed: {my_dict['seeds'][i]}\")\n",
    "        print(\"\\t\\t\\tOriginal\\tModified\\tDiff\")\n",
    "        print(f\"Precision (macro): \\t{my_dict['orig'][i]['precision_macro']:.4f}\\t\\t{my_dict['mod'][i]['precision_macro']:.4f}\", end=\"\")\n",
    "        print(f\"\\t\\t{my_dict['mod'][i]['precision_macro']-my_dict['orig'][i]['precision_macro']:.4f}\")\n",
    "        \n",
    "        print(f\"Recall (macro):    \\t{my_dict['orig'][i]['recall_macro']:.4f}\\t\\t{my_dict['mod'][i]['recall_macro']:.4f}\", end=\"\")\n",
    "        print(f\"\\t\\t{my_dict['mod'][i]['recall_macro']-my_dict['orig'][i]['recall_macro']:.4f}\")\n",
    "        \n",
    "        print(f\"Sub-class Accuracy:\\t{my_dict['orig'][i]['sub_acc']:.4f}\\t\\t{my_dict['mod'][i]['sub_acc']:.4f}\", end=\"\")\n",
    "        print(f\"\\t\\t{my_dict['mod'][i]['sub_acc']-my_dict['orig'][i]['sub_acc']:.4f}\")\n",
    "        \n",
    "        print(f\"Super-class Accuracy:   {my_dict['orig'][i]['super_acc']:.4f}\\t\\t{my_dict['mod'][i]['super_acc']:.4f}\", end=\"\")\n",
    "        print(f\"\\t\\t{my_dict['mod'][i]['super_acc']-my_dict['orig'][i]['super_acc']:.4f}\")\n",
    "        \n",
    "        print(f\"Ultra-class Accuracy:   {my_dict['orig'][i]['ultra_acc']:.4f}\\t\\t{my_dict['mod'][i]['ultra_acc']:.4f}\", end=\"\")\n",
    "        print(f\"\\t\\t{my_dict['mod'][i]['ultra_acc']-my_dict['orig'][i]['ultra_acc']:.4f}\")\n",
    "        print(\"\\n\")\n",
    "    \n",
    "    print(\"Original avg diffs\")\n",
    "    print(f\"Precision: \\t{np.average([my_dict['orig'][i]['precision_macro'] for i in range(cnt)]):.4f}\")"
   ]
  },
  {
   "cell_type": "code",
   "execution_count": 36,
   "id": "b0514ae9",
   "metadata": {
    "execution": {
     "iopub.execute_input": "2023-10-21T15:17:10.582026Z",
     "iopub.status.busy": "2023-10-21T15:17:10.581749Z",
     "iopub.status.idle": "2023-10-21T15:17:10.585865Z",
     "shell.execute_reply": "2023-10-21T15:17:10.584881Z"
    },
    "papermill": {
     "duration": 0.027227,
     "end_time": "2023-10-21T15:17:10.587936",
     "exception": false,
     "start_time": "2023-10-21T15:17:10.560709",
     "status": "completed"
    },
    "tags": []
   },
   "outputs": [],
   "source": [
    "#evaluate_all()"
   ]
  },
  {
   "cell_type": "code",
   "execution_count": 37,
   "id": "6a86ed0b",
   "metadata": {
    "execution": {
     "iopub.execute_input": "2023-10-21T15:17:10.629798Z",
     "iopub.status.busy": "2023-10-21T15:17:10.628979Z",
     "iopub.status.idle": "2023-10-21T15:17:10.636907Z",
     "shell.execute_reply": "2023-10-21T15:17:10.635963Z"
    },
    "papermill": {
     "duration": 0.030985,
     "end_time": "2023-10-21T15:17:10.639066",
     "exception": false,
     "start_time": "2023-10-21T15:17:10.608081",
     "status": "completed"
    },
    "tags": []
   },
   "outputs": [],
   "source": [
    "def make_CM(model):\n",
    "    \n",
    "    y_pred = np.array([])\n",
    "    y_true = np.array([])\n",
    "    \n",
    "    for data, target in test_loader:\n",
    "            model = model.to(\"cpu\")\n",
    "            \n",
    "            target = target.numpy()\n",
    "            \n",
    "            output = model(data)\n",
    "            output = class_max(output)\n",
    "            \n",
    "            y_pred = np.append(y_pred, output)\n",
    "            y_true = np.append(y_true, target)\n",
    "            \n",
    "    get_lab_vec = np.vectorize(get_labels)\n",
    "    \n",
    "    classes = get_lab_vec(sorted_labels, \"sub\")\n",
    "    \n",
    "    cm = confusion_matrix(y_true, y_pred\n",
    "                            ,labels = sorted_labels\n",
    "                          )\n",
    "    \n",
    "    return cm"
   ]
  },
  {
   "cell_type": "code",
   "execution_count": 38,
   "id": "1ea0d4ce",
   "metadata": {
    "execution": {
     "iopub.execute_input": "2023-10-21T15:17:10.678916Z",
     "iopub.status.busy": "2023-10-21T15:17:10.678424Z",
     "iopub.status.idle": "2023-10-21T15:17:10.692969Z",
     "shell.execute_reply": "2023-10-21T15:17:10.691978Z"
    },
    "papermill": {
     "duration": 0.036552,
     "end_time": "2023-10-21T15:17:10.695177",
     "exception": false,
     "start_time": "2023-10-21T15:17:10.658625",
     "status": "completed"
    },
    "tags": []
   },
   "outputs": [],
   "source": [
    "def evaluate_CMs():\n",
    "    big_start_t=time.time()\n",
    "    cms={\"orig\":[],\n",
    "            \"mod\":[],\n",
    "            \"seeds\":[]}\n",
    "    \n",
    "    small_start_t=time.time()\n",
    "    print(\"Making CMs...\")\n",
    "    for i in range(len(trained_models[\"seeds\"])):\n",
    "        curseed=trained_models[\"seeds\"][i]\n",
    "        print(f\"Seed: {curseed}\")\n",
    "        print(\"orig\")\n",
    "        cms[\"orig\"].append(make_CM(trained_models[\"original\"][i]))\n",
    "        print(\"mod\")\n",
    "        cms[\"mod\"].append(make_CM(trained_models[\"modified\"][i]))\n",
    "        cms[\"seeds\"].append(curseed)\n",
    "    small_duration=time.time()-small_start_t\n",
    "    print(f\"Done. CMs duration:{datetime.timedelta(seconds=small_duration)}\")\n",
    "    print(\"\\n\\n\")\n",
    "    \n",
    "    SSEs = np.empty((10,10))\n",
    "    SSEs[:] = np.nan\n",
    "    \n",
    "    cnt=len(cms[\"seeds\"])\n",
    "    \n",
    "    small_start_t=time.time()\n",
    "    print(\"Calculating SSEs...\")\n",
    "    for i in range(cnt):\n",
    "        for j in range(cnt):\n",
    "            if i!=j:\n",
    "                SSEs[i,j]=np.sum((cms[\"orig\"][i]-cms[\"orig\"][j])**2)\n",
    "                SSEs[i+5,j+5]=np.sum((cms[\"mod\"][i]-cms[\"mod\"][j])**2)\n",
    "            if i!=j+5:\n",
    "                SSEs[i,j+5]=np.sum((cms[\"orig\"][i]-cms[\"mod\"][j])**2)\n",
    "            if i+5!=j:\n",
    "                SSEs[i+5,j]=np.sum((cms[\"mod\"][i]-cms[\"orig\"][j])**2)\n",
    "    small_duration=time.time()-small_start_t\n",
    "    print(f\"Done. SSEs duration:{datetime.timedelta(seconds=small_duration)}\")\n",
    "    print(\"\\n\")\n",
    "    big_duration=time.time()-big_start_t\n",
    "    print(f\"Total duration: {datetime.timedelta(seconds=big_duration)}\")\n",
    "    \n",
    "    return SSEs"
   ]
  },
  {
   "cell_type": "code",
   "execution_count": 39,
   "id": "0a610ab2",
   "metadata": {
    "execution": {
     "iopub.execute_input": "2023-10-21T15:17:10.735882Z",
     "iopub.status.busy": "2023-10-21T15:17:10.735273Z",
     "iopub.status.idle": "2023-10-21T15:17:10.740582Z",
     "shell.execute_reply": "2023-10-21T15:17:10.739436Z"
    },
    "papermill": {
     "duration": 0.02889,
     "end_time": "2023-10-21T15:17:10.743826",
     "exception": false,
     "start_time": "2023-10-21T15:17:10.714936",
     "status": "completed"
    },
    "tags": []
   },
   "outputs": [
    {
     "name": "stdout",
     "output_type": "stream",
     "text": [
      "Making CMs...\n",
      "Done. CMs duration:0:00:00.000041\n",
      "\n",
      "\n",
      "\n",
      "Calculating SSEs...\n",
      "Done. SSEs duration:0:00:00.000008\n",
      "\n",
      "\n",
      "Total duration: 0:00:00.000113\n"
     ]
    }
   ],
   "source": [
    "SSEs=evaluate_CMs()"
   ]
  },
  {
   "cell_type": "code",
   "execution_count": 40,
   "id": "826a62ac",
   "metadata": {
    "execution": {
     "iopub.execute_input": "2023-10-21T15:17:10.785147Z",
     "iopub.status.busy": "2023-10-21T15:17:10.784615Z",
     "iopub.status.idle": "2023-10-21T15:17:10.790955Z",
     "shell.execute_reply": "2023-10-21T15:17:10.789999Z"
    },
    "papermill": {
     "duration": 0.028901,
     "end_time": "2023-10-21T15:17:10.793248",
     "exception": false,
     "start_time": "2023-10-21T15:17:10.764347",
     "status": "completed"
    },
    "tags": []
   },
   "outputs": [],
   "source": [
    "def SSE_plot(SSEs):\n",
    "    fig, ax = plt.subplots(1,1)\n",
    "\n",
    "    img = ax.imshow(SSEs)\n",
    "    \n",
    "    ticklabs=[\"o1\",\"o2\",\"o3\",\"o4\",\"o5\",\"m1\",\"m2\",\"m3\",\"m4\",\"m5\"]\n",
    "    ax.set_xticks(range(10))\n",
    "    ax.set_xticklabels(ticklabs)\n",
    "    #ticklabs.reverse()\n",
    "    ax.set_yticks(range(10))\n",
    "    ax.set_yticklabels(ticklabs)\n",
    "\n",
    "    fig.colorbar(img)"
   ]
  },
  {
   "cell_type": "code",
   "execution_count": 41,
   "id": "efeefd2f",
   "metadata": {
    "execution": {
     "iopub.execute_input": "2023-10-21T15:17:10.833100Z",
     "iopub.status.busy": "2023-10-21T15:17:10.832290Z",
     "iopub.status.idle": "2023-10-21T15:17:11.167386Z",
     "shell.execute_reply": "2023-10-21T15:17:11.166272Z"
    },
    "papermill": {
     "duration": 0.357467,
     "end_time": "2023-10-21T15:17:11.169762",
     "exception": false,
     "start_time": "2023-10-21T15:17:10.812295",
     "status": "completed"
    },
    "tags": []
   },
   "outputs": [
    {
     "data": {
      "image/png": "[encoded data removed]",
      "text/plain": [
       "<Figure size 640x480 with 2 Axes>"
      ]
     },
     "metadata": {},
     "output_type": "display_data"
    }
   ],
   "source": [
    "SSE_plot(SSEs)"
   ]
  },
  {
   "cell_type": "code",
   "execution_count": 42,
   "id": "aab4c85a",
   "metadata": {
    "execution": {
     "iopub.execute_input": "2023-10-21T15:17:11.213162Z",
     "iopub.status.busy": "2023-10-21T15:17:11.212332Z",
     "iopub.status.idle": "2023-10-21T15:17:11.219566Z",
     "shell.execute_reply": "2023-10-21T15:17:11.218364Z"
    },
    "papermill": {
     "duration": 0.032057,
     "end_time": "2023-10-21T15:17:11.222646",
     "exception": false,
     "start_time": "2023-10-21T15:17:11.190589",
     "status": "completed"
    },
    "tags": []
   },
   "outputs": [
    {
     "name": "stdout",
     "output_type": "stream",
     "text": [
      "Upper left quartal mean: nan\n",
      "Upper right quartal mean: nan\n",
      "Lower left quartal mean: nan\n",
      "Lower right quartal mean: nan\n"
     ]
    },
    {
     "name": "stderr",
     "output_type": "stream",
     "text": [
      "/opt/conda/lib/python3.7/site-packages/ipykernel_launcher.py:1: RuntimeWarning: Mean of empty slice\n",
      "  \"\"\"Entry point for launching an IPython kernel.\n",
      "/opt/conda/lib/python3.7/site-packages/ipykernel_launcher.py:4: RuntimeWarning: Mean of empty slice\n",
      "  after removing the cwd from sys.path.\n"
     ]
    }
   ],
   "source": [
    "print(f\"Upper left quartal mean: {np.nanmean(SSEs[:5,:5])}\")\n",
    "print(f\"Upper right quartal mean: {np.mean(SSEs[:5,5:])}\")\n",
    "print(f\"Lower left quartal mean: {np.mean(SSEs[5:,:5])}\")\n",
    "print(f\"Lower right quartal mean: {np.nanmean(SSEs[5:,5:])}\")"
   ]
  },
  {
   "cell_type": "markdown",
   "id": "f3fe8584",
   "metadata": {
    "papermill": {
     "duration": 0.020909,
     "end_time": "2023-10-21T15:17:11.264382",
     "exception": false,
     "start_time": "2023-10-21T15:17:11.243473",
     "status": "completed"
    },
    "tags": []
   },
   "source": [
    "# Some old code which I will use to display the CMs later..."
   ]
  },
  {
   "cell_type": "markdown",
   "id": "2a0336aa",
   "metadata": {
    "execution": {
     "iopub.execute_input": "2023-09-07T10:57:57.307076Z",
     "iopub.status.busy": "2023-09-07T10:57:57.306670Z",
     "iopub.status.idle": "2023-09-07T10:58:00.573003Z",
     "shell.execute_reply": "2023-09-07T10:58:00.571397Z",
     "shell.execute_reply.started": "2023-09-07T10:57:57.307041Z"
    },
    "papermill": {
     "duration": 0.020933,
     "end_time": "2023-10-21T15:17:11.306631",
     "exception": false,
     "start_time": "2023-10-21T15:17:11.285698",
     "status": "completed"
    },
    "tags": []
   },
   "source": [
    "y_pred1 = []\n",
    "y_true1 = []\n",
    "\n",
    "y_pred2 = []\n",
    "y_true2 = []\n",
    "\n",
    "for inputs, labels in test_loader:\n",
    "        trained_model1 = trained_model1.to(\"cpu\")\n",
    "        trained_model2 = trained_model2.to(\"cpu\")\n",
    "        \n",
    "        labels = labels.numpy()\n",
    "        \n",
    "        output1 = trained_model1(inputs)\n",
    "        output1 = class_max(output1)\n",
    "        \n",
    "        output2 = trained_model2(inputs)\n",
    "        output2 = class_max(output2)\n",
    "        \n",
    "        y_pred1.extend(output1)\n",
    "        y_true1.extend(labels)\n",
    "    \n",
    "        y_pred2.extend(output2)\n",
    "        y_true2.extend(labels)\n",
    "        \n",
    "get_lab_vec = np.vectorize(get_labels)\n",
    "\n",
    "classes = get_lab_vec(sorted_labels, \"sub\")\n",
    "\n",
    "#I chose not to normalize so I get SE of two CMs\n",
    "cm1 = confusion_matrix(y_true1, y_pred1\n",
    "                       #, normalize=\"all\"\n",
    "                        ,labels = sorted_labels\n",
    "                      )\n",
    "cm2 = confusion_matrix(y_true2, y_pred2\n",
    "                       #, normalize=\"all\"\n",
    "                        ,labels = sorted_labels\n",
    "                      )\n",
    "\n",
    "fig, axs = plt.subplots(2, 1, figsize = (15,20))\n",
    "fig.suptitle('Confusion Matrices', fontsize=24)\n",
    "axs[0].imshow(cm1, interpolation='none', aspect='auto')\n",
    "#store for colorbar\n",
    "im=axs[1].imshow(cm2, interpolation='none', aspect='auto')\n",
    "\n",
    "#get the level via compact function\n",
    "def get_super(i):\n",
    "    return get_labels(create_superclass(i), \"super\")\n",
    "\n",
    "def get_ultra(i):\n",
    "    return get_labels(create_ultraclass(create_superclass(i)), \"ultra\")\n",
    "\n",
    "#generator for section borders\n",
    "def section_border_gen(get_level):\n",
    "    #squares begin in the upper left corner \n",
    "    border_list=[-0.5]\n",
    "    \n",
    "    #get_level - get superclass or ultraclass from a subclass index\n",
    "    state=get_level(sorted_labels[0])\n",
    "    for i in range(len(sorted_labels)):\n",
    "        current=get_level(sorted_labels[i])\n",
    "        #if change in class at the given level - make a border\n",
    "        if current!=state:\n",
    "            border_list.append(i-0.5)\n",
    "        state=get_level(sorted_labels[i])\n",
    "    \n",
    "    #smaller than 99.5 so that the line doesn't stand out from the graph\n",
    "    border_list.append(99.35)\n",
    "    \n",
    "    return border_list\n",
    "\n",
    "section_borders = [section_border_gen(get_super),section_border_gen(get_ultra)]\n",
    "border_colors = [\"red\", \"green\"]\n",
    "line_widths = [0.7, 1.5]\n",
    "\n",
    "#level = the borders (at a given level - super/ultra)\n",
    "#create 4 points to make a square\n",
    "#draw lines between\n",
    "\n",
    "for ax in axs:\n",
    "    for level, color, line_width in zip(section_borders, border_colors, line_widths):\n",
    "        for i, j in zip(level, level[1:]):\n",
    "            points = [[i,i], [i,j], [j,j], [j,i]]\n",
    "\n",
    "            for k, l in zip(points, points[1:]):\n",
    "                ax.plot(k, l, color=color, linewidth=line_width)\n",
    "\n",
    "            ax.plot(points[3], points[0], color=color, linewidth=line_width)\n",
    "\n",
    "fig.colorbar(im, ax=axs.ravel().tolist())\n",
    "\n",
    "for ax in axs:\n",
    "    ax.axis('off')\n",
    "    ax.grid(True)\n",
    "\n",
    "plt.show()\n",
    "plt.savefig('confusion1.png')"
   ]
  }
 ],
 "metadata": {
  "kernelspec": {
   "display_name": "Python 3",
   "language": "python",
   "name": "python3"
  },
  "language_info": {
   "codemirror_mode": {
    "name": "ipython",
    "version": 3
   },
   "file_extension": ".py",
   "mimetype": "text/x-python",
   "name": "python",
   "nbconvert_exporter": "python",
   "pygments_lexer": "ipython3",
   "version": "3.7.12"
  },
  "papermill": {
   "default_parameters": {},
   "duration": 27.081942,
   "end_time": "2023-10-21T15:17:12.651159",
   "environment_variables": {},
   "exception": null,
   "input_path": "__notebook__.ipynb",
   "output_path": "__notebook__.ipynb",
   "parameters": {},
   "start_time": "2023-10-21T15:16:45.569217",
   "version": "2.4.0"
  },
  "widgets": {
   "application/vnd.jupyter.widget-state+json": {
    "state": {
     "17976d6f7be7466d887ff910e83dc24c": {
      "model_module": "@jupyter-widgets/base",
      "model_module_version": "1.2.0",
      "model_name": "LayoutModel",
      "state": {
       "_model_module": "@jupyter-widgets/base",
       "_model_module_version": "1.2.0",
       "_model_name": "LayoutModel",
       "_view_count": null,
       "_view_module": "@jupyter-widgets/base",
       "_view_module_version": "1.2.0",
       "_view_name": "LayoutView",
       "align_content": null,
       "align_items": null,
       "align_self": null,
       "border": null,
       "bottom": null,
       "display": null,
       "flex": null,
       "flex_flow": null,
       "grid_area": null,
       "grid_auto_columns": null,
       "grid_auto_flow": null,
       "grid_auto_rows": null,
       "grid_column": null,
       "grid_gap": null,
       "grid_row": null,
       "grid_template_areas": null,
       "grid_template_columns": null,
       "grid_template_rows": null,
       "height": null,
       "justify_content": null,
       "justify_items": null,
       "left": null,
       "margin": null,
       "max_height": null,
       "max_width": null,
       "min_height": null,
       "min_width": null,
       "object_fit": null,
       "object_position": null,
       "order": null,
       "overflow": null,
       "overflow_x": null,
       "overflow_y": null,
       "padding": null,
       "right": null,
       "top": null,
       "visibility": null,
       "width": null
      }
     },
     "2131c4b1d8cf4afd94e907e20a698718": {
      "model_module": "@jupyter-widgets/controls",
      "model_module_version": "1.5.0",
      "model_name": "DescriptionStyleModel",
      "state": {
       "_model_module": "@jupyter-widgets/controls",
       "_model_module_version": "1.5.0",
       "_model_name": "DescriptionStyleModel",
       "_view_count": null,
       "_view_module": "@jupyter-widgets/base",
       "_view_module_version": "1.2.0",
       "_view_name": "StyleView",
       "description_width": ""
      }
     },
     "4f51efa591f9427a9d7dbe25399f00e5": {
      "model_module": "@jupyter-widgets/controls",
      "model_module_version": "1.5.0",
      "model_name": "HTMLModel",
      "state": {
       "_dom_classes": [],
       "_model_module": "@jupyter-widgets/controls",
       "_model_module_version": "1.5.0",
       "_model_name": "HTMLModel",
       "_view_count": null,
       "_view_module": "@jupyter-widgets/controls",
       "_view_module_version": "1.5.0",
       "_view_name": "HTMLView",
       "description": "",
       "description_tooltip": null,
       "layout": "IPY_MODEL_a44c7cedffa9475cb43e67a2a1f18bfa",
       "placeholder": "​",
       "style": "IPY_MODEL_83fabc82722e47faad9695fbfc54276d",
       "value": "100%"
      }
     },
     "83fabc82722e47faad9695fbfc54276d": {
      "model_module": "@jupyter-widgets/controls",
      "model_module_version": "1.5.0",
      "model_name": "DescriptionStyleModel",
      "state": {
       "_model_module": "@jupyter-widgets/controls",
       "_model_module_version": "1.5.0",
       "_model_name": "DescriptionStyleModel",
       "_view_count": null,
       "_view_module": "@jupyter-widgets/base",
       "_view_module_version": "1.2.0",
       "_view_name": "StyleView",
       "description_width": ""
      }
     },
     "86be3a0e7c514632b53413939adf5994": {
      "model_module": "@jupyter-widgets/controls",
      "model_module_version": "1.5.0",
      "model_name": "HBoxModel",
      "state": {
       "_dom_classes": [],
       "_model_module": "@jupyter-widgets/controls",
       "_model_module_version": "1.5.0",
       "_model_name": "HBoxModel",
       "_view_count": null,
       "_view_module": "@jupyter-widgets/controls",
       "_view_module_version": "1.5.0",
       "_view_name": "HBoxView",
       "box_style": "",
       "children": [
        "IPY_MODEL_4f51efa591f9427a9d7dbe25399f00e5",
        "IPY_MODEL_c80da95979394681a7b8f3845c7d3837",
        "IPY_MODEL_986cd8bc6e1844918fd311382d3981de"
       ],
       "layout": "IPY_MODEL_b6d10b56b38a4c05b7fa9efb08c82de1"
      }
     },
     "8a66041e3db744749a448782d0ddadc8": {
      "model_module": "@jupyter-widgets/base",
      "model_module_version": "1.2.0",
      "model_name": "LayoutModel",
      "state": {
       "_model_module": "@jupyter-widgets/base",
       "_model_module_version": "1.2.0",
       "_model_name": "LayoutModel",
       "_view_count": null,
       "_view_module": "@jupyter-widgets/base",
       "_view_module_version": "1.2.0",
       "_view_name": "LayoutView",
       "align_content": null,
       "align_items": null,
       "align_self": null,
       "border": null,
       "bottom": null,
       "display": null,
       "flex": null,
       "flex_flow": null,
       "grid_area": null,
       "grid_auto_columns": null,
       "grid_auto_flow": null,
       "grid_auto_rows": null,
       "grid_column": null,
       "grid_gap": null,
       "grid_row": null,
       "grid_template_areas": null,
       "grid_template_columns": null,
       "grid_template_rows": null,
       "height": null,
       "justify_content": null,
       "justify_items": null,
       "left": null,
       "margin": null,
       "max_height": null,
       "max_width": null,
       "min_height": null,
       "min_width": null,
       "object_fit": null,
       "object_position": null,
       "order": null,
       "overflow": null,
       "overflow_x": null,
       "overflow_y": null,
       "padding": null,
       "right": null,
       "top": null,
       "visibility": null,
       "width": null
      }
     },
     "986cd8bc6e1844918fd311382d3981de": {
      "model_module": "@jupyter-widgets/controls",
      "model_module_version": "1.5.0",
      "model_name": "HTMLModel",
      "state": {
       "_dom_classes": [],
       "_model_module": "@jupyter-widgets/controls",
       "_model_module_version": "1.5.0",
       "_model_name": "HTMLModel",
       "_view_count": null,
       "_view_module": "@jupyter-widgets/controls",
       "_view_module_version": "1.5.0",
       "_view_name": "HTMLView",
       "description": "",
       "description_tooltip": null,
       "layout": "IPY_MODEL_8a66041e3db744749a448782d0ddadc8",
       "placeholder": "​",
       "style": "IPY_MODEL_2131c4b1d8cf4afd94e907e20a698718",
       "value": " 169001437/169001437 [00:01&lt;00:00, 111224309.55it/s]"
      }
     },
     "a44c7cedffa9475cb43e67a2a1f18bfa": {
      "model_module": "@jupyter-widgets/base",
      "model_module_version": "1.2.0",
      "model_name": "LayoutModel",
      "state": {
       "_model_module": "@jupyter-widgets/base",
       "_model_module_version": "1.2.0",
       "_model_name": "LayoutModel",
       "_view_count": null,
       "_view_module": "@jupyter-widgets/base",
       "_view_module_version": "1.2.0",
       "_view_name": "LayoutView",
       "align_content": null,
       "align_items": null,
       "align_self": null,
       "border": null,
       "bottom": null,
       "display": null,
       "flex": null,
       "flex_flow": null,
       "grid_area": null,
       "grid_auto_columns": null,
       "grid_auto_flow": null,
       "grid_auto_rows": null,
       "grid_column": null,
       "grid_gap": null,
       "grid_row": null,
       "grid_template_areas": null,
       "grid_template_columns": null,
       "grid_template_rows": null,
       "height": null,
       "justify_content": null,
       "justify_items": null,
       "left": null,
       "margin": null,
       "max_height": null,
       "max_width": null,
       "min_height": null,
       "min_width": null,
       "object_fit": null,
       "object_position": null,
       "order": null,
       "overflow": null,
       "overflow_x": null,
       "overflow_y": null,
       "padding": null,
       "right": null,
       "top": null,
       "visibility": null,
       "width": null
      }
     },
     "b6d10b56b38a4c05b7fa9efb08c82de1": {
      "model_module": "@jupyter-widgets/base",
      "model_module_version": "1.2.0",
      "model_name": "LayoutModel",
      "state": {
       "_model_module": "@jupyter-widgets/base",
       "_model_module_version": "1.2.0",
       "_model_name": "LayoutModel",
       "_view_count": null,
       "_view_module": "@jupyter-widgets/base",
       "_view_module_version": "1.2.0",
       "_view_name": "LayoutView",
       "align_content": null,
       "align_items": null,
       "align_self": null,
       "border": null,
       "bottom": null,
       "display": null,
       "flex": null,
       "flex_flow": null,
       "grid_area": null,
       "grid_auto_columns": null,
       "grid_auto_flow": null,
       "grid_auto_rows": null,
       "grid_column": null,
       "grid_gap": null,
       "grid_row": null,
       "grid_template_areas": null,
       "grid_template_columns": null,
       "grid_template_rows": null,
       "height": null,
       "justify_content": null,
       "justify_items": null,
       "left": null,
       "margin": null,
       "max_height": null,
       "max_width": null,
       "min_height": null,
       "min_width": null,
       "object_fit": null,
       "object_position": null,
       "order": null,
       "overflow": null,
       "overflow_x": null,
       "overflow_y": null,
       "padding": null,
       "right": null,
       "top": null,
       "visibility": null,
       "width": null
      }
     },
     "c80da95979394681a7b8f3845c7d3837": {
      "model_module": "@jupyter-widgets/controls",
      "model_module_version": "1.5.0",
      "model_name": "FloatProgressModel",
      "state": {
       "_dom_classes": [],
       "_model_module": "@jupyter-widgets/controls",
       "_model_module_version": "1.5.0",
       "_model_name": "FloatProgressModel",
       "_view_count": null,
       "_view_module": "@jupyter-widgets/controls",
       "_view_module_version": "1.5.0",
       "_view_name": "ProgressView",
       "bar_style": "success",
       "description": "",
       "description_tooltip": null,
       "layout": "IPY_MODEL_17976d6f7be7466d887ff910e83dc24c",
       "max": 169001437.0,
       "min": 0.0,
       "orientation": "horizontal",
       "style": "IPY_MODEL_cef55b7260934beaa8fbd0b2816ffafa",
       "value": 169001437.0
      }
     },
     "cef55b7260934beaa8fbd0b2816ffafa": {
      "model_module": "@jupyter-widgets/controls",
      "model_module_version": "1.5.0",
      "model_name": "ProgressStyleModel",
      "state": {
       "_model_module": "@jupyter-widgets/controls",
       "_model_module_version": "1.5.0",
       "_model_name": "ProgressStyleModel",
       "_view_count": null,
       "_view_module": "@jupyter-widgets/base",
       "_view_module_version": "1.2.0",
       "_view_name": "StyleView",
       "bar_color": null,
       "description_width": ""
      }
     }
    },
    "version_major": 2,
    "version_minor": 0
   }
  }
 },
 "nbformat": 4,
 "nbformat_minor": 5
}
