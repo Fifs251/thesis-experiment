{
  "cells": [
    {
      "cell_type": "markdown",
      "metadata": {
        "id": "view-in-github",
        "colab_type": "text"
      },
      "source": [
        "<a href=\"https://colab.research.google.com/github/Fifs251/thesis-experiment/blob/main/TF_training_1.ipynb\" target=\"_parent\"><img src=\"https://colab.research.google.com/assets/colab-badge.svg\" alt=\"Open In Colab\"/></a>"
      ]
    },
    {
      "cell_type": "code",
      "execution_count": null,
      "metadata": {
        "id": "a94T0CIO0AQd"
      },
      "outputs": [],
      "source": [
        "import tensorflow as tf\n",
        "import keras\n",
        "import tensorflow_datasets as tfds\n",
        "import matplotlib.pyplot as plt\n",
        "import numpy as np\n",
        "import os\n",
        "import time"
      ]
    },
    {
      "cell_type": "code",
      "source": [
        "print(tf.__version__)"
      ],
      "metadata": {
        "colab": {
          "base_uri": "https://localhost:8080/"
        },
        "id": "N51rE5HORddO",
        "outputId": "44a07fbc-927a-4346-8f8d-73d5f26db481"
      },
      "execution_count": null,
      "outputs": [
        {
          "output_type": "stream",
          "name": "stdout",
          "text": [
            "2.9.2\n"
          ]
        }
      ]
    },
    {
      "cell_type": "code",
      "execution_count": null,
      "metadata": {
        "id": "74Cq3DRg0P2m"
      },
      "outputs": [],
      "source": [
        "(train_ds, validation_ds, test_ds), ds_info = tfds.load(\n",
        "    \"cifar100\",\n",
        "    split=[\"train[5000:]\", \"train[2500:5000]\", \"train[:2500]\"],\n",
        "    as_supervised=True,\n",
        "    with_info=True,\n",
        ")"
      ]
    },
    {
      "cell_type": "code",
      "source": [
        "def process_images(image, label):\n",
        "    image = tf.image.per_image_standardization(image)\n",
        "    image = tf.image.resize(image, (227,227))\n",
        "    return image, label"
      ],
      "metadata": {
        "id": "uOU9ioagOtP3"
      },
      "execution_count": null,
      "outputs": []
    },
    {
      "cell_type": "code",
      "source": [
        "def augment(image, label):\n",
        "  if tf.random.uniform((), minval=0, maxval=1) < 0.1:\n",
        "    image =  tf.tile(tf.image.rgb_to_grayscale(image), [1,1,3])\n",
        "\n",
        "  image = tf.image.random_brightness(image, max_delta=0.1)\n",
        "  image = tf.image.random_contrast(image, lower=0.1, upper=0.2)\n",
        "  image = tf.image.random_flip_left_right(image)\n",
        "\n",
        "  return image, label"
      ],
      "metadata": {
        "id": "qx1XGr0nsQJg"
      },
      "execution_count": null,
      "outputs": []
    },
    {
      "cell_type": "code",
      "source": [
        "def preproc(data):\n",
        "  data=(data\n",
        "          .map(process_images, num_parallel_calls=tf.data.AUTOTUNE)\n",
        "          .shuffle(buffer_size=tf.data.experimental.cardinality(data).numpy())\n",
        "          .batch(batch_size=32, drop_remainder=True)\n",
        "          #.cache()\n",
        "          #.prefetch(tf.data.AUTOTUNE)\n",
        "          )\n",
        "  return data\n",
        "\n",
        "train_ds = preproc(train_ds)\n",
        "test_ds = preproc(test_ds)\n",
        "validation_ds = preproc(validation_ds)"
      ],
      "metadata": {
        "id": "R75pcwQUMMR3"
      },
      "execution_count": null,
      "outputs": []
    },
    {
      "cell_type": "code",
      "source": [
        "def random_crop(image):\n",
        "  cropped_image = tf.image.random_crop(\n",
        "      image, size=[224, 224, 3])\n",
        "\n",
        "  return cropped_image"
      ],
      "metadata": {
        "id": "Hz00NSuOkRkz"
      },
      "execution_count": null,
      "outputs": []
    },
    {
      "cell_type": "code",
      "source": [
        "from tensorflow.keras import models, layers\n",
        "from keras.layers import Conv2D, MaxPool2D, Flatten, Dense, Activation, Dropout, BatchNormalization\n",
        "\n",
        "data_augmentation = tf.keras.Sequential([\n",
        "  tf.keras.layers.RandomFlip(\"horizontal_and_vertical\"),\n",
        "  tf.keras.layers.RandomRotation(0.2),\n",
        "  tf.keras.layers.RandomBrightness(0.2),\n",
        "  tf.keras.layers.RandomCrop(224, 224)\n",
        "])"
      ],
      "metadata": {
        "id": "gqqvtdl-ZQQJ"
      },
      "execution_count": null,
      "outputs": []
    },
    {
      "cell_type": "code",
      "source": [
        "def get_model():\n",
        "  model = keras.models.Sequential([\n",
        "    data_augmentation,\n",
        "    Conv2D(filters=96, kernel_size=(11,11), strides=(4,4), activation='relu', input_shape=(224,224,3)),\n",
        "    BatchNormalization(),\n",
        "    MaxPool2D(pool_size=(3,3), strides=(2,2)),\n",
        "    Conv2D(filters=256, kernel_size=(5,5), strides=(1,1), activation='relu', padding=\"same\"),\n",
        "    BatchNormalization(),\n",
        "    MaxPool2D(pool_size=(3,3), strides=(2,2)),\n",
        "    Conv2D(filters=384, kernel_size=(3,3), strides=(1,1), activation='relu', padding=\"same\"),\n",
        "    BatchNormalization(),\n",
        "    Conv2D(filters=384, kernel_size=(3,3), strides=(1,1), activation='relu', padding=\"same\"),\n",
        "    BatchNormalization(),\n",
        "    Conv2D(filters=256, kernel_size=(3,3), strides=(1,1), activation='relu', padding=\"same\"),\n",
        "    BatchNormalization(),\n",
        "    MaxPool2D(pool_size=(3,3), strides=(2,2)),\n",
        "    Flatten(),\n",
        "    Dense(4096, activation='relu'),\n",
        "    Dropout(0.5),\n",
        "    Dense(4096, activation='relu'),\n",
        "    Dropout(0.5),\n",
        "    Dense(100, activation='softmax')\n",
        "  ])\n",
        "\n",
        "  return model"
      ],
      "metadata": {
        "id": "AiQ4FX0LM4cL"
      },
      "execution_count": null,
      "outputs": []
    },
    {
      "cell_type": "code",
      "source": [
        "root_logdir = os.path.join(os.curdir, \"logs\\\\fit\\\\\")\n",
        "\n",
        "def get_run_logdir():\n",
        "    run_id = time.strftime(\"run_%Y_%m_%d-%H_%M_%S\")\n",
        "    return os.path.join(root_logdir, run_id)\n",
        "    \n",
        "run_logdir = get_run_logdir()\n",
        "\n",
        "tensorboard_cb = keras.callbacks.TensorBoard(log_dir=run_logdir)"
      ],
      "metadata": {
        "id": "aDp9NQwYTQ-J"
      },
      "execution_count": null,
      "outputs": []
    },
    {
      "cell_type": "code",
      "source": [
        "model = get_model()\n",
        "\n",
        "model.compile(loss='sparse_categorical_crossentropy', optimizer=tf.optimizers.SGD(lr=0.01), metrics=['accuracy'])"
      ],
      "metadata": {
        "id": "oQRiE16LlWrq",
        "colab": {
          "base_uri": "https://localhost:8080/"
        },
        "outputId": "d082aaf4-0a6b-4ce6-80e9-7038483d6093"
      },
      "execution_count": null,
      "outputs": [
        {
          "output_type": "stream",
          "name": "stderr",
          "text": [
            "/usr/local/lib/python3.7/dist-packages/keras/optimizers/optimizer_v2/gradient_descent.py:108: UserWarning: The `lr` argument is deprecated, use `learning_rate` instead.\n",
            "  super(SGD, self).__init__(name, **kwargs)\n"
          ]
        }
      ]
    },
    {
      "cell_type": "code",
      "source": [
        "model.fit(train_ds,\n",
        "          epochs=80,\n",
        "          validation_data=validation_ds,\n",
        "          validation_freq=1,\n",
        "          callbacks=[tensorboard_cb])"
      ],
      "metadata": {
        "colab": {
          "base_uri": "https://localhost:8080/"
        },
        "id": "mNo_g7NFTGi-",
        "outputId": "7397f9ad-be23-4094-a3c3-238626b4a6ba"
      },
      "execution_count": null,
      "outputs": [
        {
          "output_type": "stream",
          "name": "stdout",
          "text": [
            "Epoch 1/80\n"
          ]
        }
      ]
    },
    {
      "cell_type": "code",
      "source": [
        "model.evaluate(test_ds)"
      ],
      "metadata": {
        "id": "SaI4j-kannwR"
      },
      "execution_count": null,
      "outputs": []
    },
    {
      "cell_type": "code",
      "source": [
        "model.summary()"
      ],
      "metadata": {
        "id": "bmADl6tmSgXL"
      },
      "execution_count": null,
      "outputs": []
    },
    {
      "cell_type": "code",
      "source": [
        "%load_ext tensorboard"
      ],
      "metadata": {
        "id": "exvi9Q5nOnwP"
      },
      "execution_count": null,
      "outputs": []
    },
    {
      "cell_type": "code",
      "source": [
        "%tensorboard --logdir logs"
      ],
      "metadata": {
        "id": "AUzK8NG-OsA6"
      },
      "execution_count": null,
      "outputs": []
    }
  ],
  "metadata": {
    "accelerator": "GPU",
    "colab": {
      "collapsed_sections": [],
      "provenance": [],
      "machine_shape": "hm",
      "mount_file_id": "1s_ozNi15d0B_BgOTP4dSFhP6_Gq8Hjd3",
      "authorship_tag": "ABX9TyOtErOWzNE2aS4ngJAb3R9z",
      "include_colab_link": true
    },
    "kernelspec": {
      "display_name": "Python 3",
      "name": "python3"
    },
    "language_info": {
      "name": "python"
    },
    "gpuClass": "premium"
  },
  "nbformat": 4,
  "nbformat_minor": 0
}